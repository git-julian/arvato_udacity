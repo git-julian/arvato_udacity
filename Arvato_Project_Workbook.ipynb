{
 "cells": [
  {
   "cell_type": "markdown",
   "metadata": {},
   "source": [
    "# Capstone Project: Create a Customer Segmentation Report for Arvato Financial Services\n",
    "\n",
    "In this project, you will analyze demographics data for customers of a mail-order sales company in Germany, comparing it against demographics information for the general population. You'll use unsupervised learning techniques to perform customer segmentation, identifying the parts of the population that best describe the core customer base of the company. Then, you'll apply what you've learned on a third dataset with demographics information for targets of a marketing campaign for the company, and use a model to predict which individuals are most likely to convert into becoming customers for the company. The data that you will use has been provided by our partners at Bertelsmann Arvato Analytics, and represents a real-life data science task.\n",
    "\n",
    "If you completed the first term of this program, you will be familiar with the first part of this project, from the unsupervised learning project. The versions of those two datasets used in this project will include many more features and has not been pre-cleaned. You are also free to choose whatever approach you'd like to analyzing the data rather than follow pre-determined steps. In your work on this project, make sure that you carefully document your steps and decisions, since your main deliverable for this project will be a blog post reporting your findings."
   ]
  },
  {
   "cell_type": "markdown",
   "metadata": {},
   "source": [
    "# Table of contents\n",
    "\n",
    "A. Import needed packages\n",
    "\n",
    "B. Define custom functions that are used in the Notebook \n",
    "\n",
    "   0.Inspect the dataset\n",
    "*   0.1 Load the data\n",
    "*   0.2 Inspect the datasets\n",
    "*   0.3 Develop Feature Engineering\n",
    "*   0.4 Feature Eng. Pipeline\n",
    "\n",
    "1. Customer Segmentation Report \n",
    "* 1.1  PCA as Preperation\n",
    "* 1.2  Perfrom Clustering\n",
    "* 1.3  Result interpretation\n",
    "\n",
    "2. Supervised learning Model\n",
    "* 2.1 Load and investigate data\n",
    "* 2.2 Build ML-Pipeline to thest diffrent algorithms\n",
    "* 2.3 Optimize selected model\n",
    "\n",
    "3. Kaggle Competition\n",
    "* 3.1 Score data\n",
    "* 3.2 Create export for Kaggle \n",
    "\n"
   ]
  },
  {
   "cell_type": "markdown",
   "metadata": {},
   "source": [
    "# A) Import needed packages"
   ]
  },
  {
   "cell_type": "code",
   "execution_count": 515,
   "metadata": {},
   "outputs": [],
   "source": [
    "# import libraries here; add more as necessary\n",
    "import numpy as np\n",
    "import pandas as pd\n",
    "import matplotlib.pyplot as plt\n",
    "import seaborn as sns\n",
    "# import missingno as msno\n",
    "\n",
    "\n",
    "# ml\n",
    "\n",
    "from scipy import stats\n",
    "\n",
    "from sklearn.impute import SimpleImputer\n",
    "from sklearn.preprocessing import StandardScaler\n",
    "from sklearn.cluster import KMeans\n",
    "from sklearn.decomposition import PCA\n",
    "\n",
    "from imblearn.pipeline import Pipeline \n",
    "from imblearn.over_sampling import SMOTE\n",
    "from imblearn.under_sampling import RandomUnderSampler\n",
    "\n",
    "from sklearn.model_selection import train_test_split\n",
    "from sklearn.model_selection import GridSearchCV,StratifiedKFold,RandomizedSearchCV\n",
    "from sklearn.pipeline import Pipeline\n",
    "from sklearn.ensemble import RandomForestClassifier, AdaBoostClassifier, GradientBoostingClassifier\n",
    "from sklearn.model_selection import cross_val_score, KFold, learning_curve\n",
    "from sklearn.metrics import accuracy_score, roc_auc_score\n",
    "import xgboost as xgb\n",
    "#store models\n",
    "import pickle\n",
    "# magic word for producing visualizations in notebook\n",
    "%matplotlib inline"
   ]
  },
  {
   "cell_type": "markdown",
   "metadata": {},
   "source": [
    "# B) Load custom functions"
   ]
  },
  {
   "cell_type": "code",
   "execution_count": 57,
   "metadata": {},
   "outputs": [],
   "source": [
    "# Custom Functions for data preprocessing\n",
    "\n",
    "def inspect_missings_column(df, bins = 10, plot = True):\n",
    "    \n",
    "    '''\n",
    "   This function investigates the missings columnwise the dataset based on columns and plots some inforamtion\n",
    "   \n",
    "   Input:  df (df)- a dataframe that holds the data to be analyzid\n",
    "          int (bins) - a nuber that indicats in how many bins the data should be subdivided for the analysis \n",
    "   \n",
    "    '''\n",
    "\n",
    "    for i in np.arange(0,100,bins):\n",
    "        num_missings = (df.isnull().sum(axis=0)/df.shape[0] >= i/100).sum()\n",
    "        percentage = round((num_missings / df.shape[1])*100,0)\n",
    "        \n",
    "        print('There are {} columns that have {}% or more missings. That are {}% of all columns.'.format(num_missings,i,percentage))\n",
    "      \n",
    "    if plot:\n",
    "        #plotting the top 50 columsn with the most missing values \n",
    "        df_missing_info = df.isna().mean().sort_values(ascending = False)\n",
    "        ax = df.isna().sum().sort_values(ascending=False).head(50).plot(kind='bar', figsize=(20,5), title='Missing Vlaues proportion for top 50 attirbutes')\n",
    "        ax.set_xlabel(\"Column name\")\n",
    "        ax.set_ylabel(\"Share of missing values %\")\n",
    "\n",
    "        #plotting a distribution of missing coliumns\n",
    "        fig, ax = plt.subplots(figsize= (20,5))\n",
    "        fig.suptitle('Disribution of missing values of the dataset')\n",
    "        sns.distplot(df_missing_info, bins = 100, color = 'r' )  \n",
    "    else: print('Plots are disabeld.')\n",
    "\n",
    "\n",
    "def inspect_missings_row(df, bins = 10, plot = True):\n",
    "    \n",
    "    '''\n",
    "    Investigates and plots inforamtion about the missings in the rows. \n",
    "    INPUT:\n",
    "    df (df) - Data set that is tested on missings per row and plots some inforamtion. \n",
    "    int (bins)- Number of bins that for the data can be grouped into. \n",
    "    '''\n",
    "    \n",
    "    \n",
    "    print('Looking at the given dataset with a number of bins of  {} '.format(bins))\n",
    "    \n",
    "    missings_list = []\n",
    "    \n",
    "    for i in range(10, 110, bins):\n",
    "        missings = df[df.isnull().mean(axis=1).values > i/100].shape[0]\n",
    "        missings_list.append(missings)\n",
    "        \n",
    "        \n",
    "        print('{} of all rows have {} missings or less, that are {}%. '.format(missings, i, round(missings/df.shape[0]*100)))\n",
    "    if plot:\n",
    "        \n",
    "        # Plot distribution of missing values\n",
    "        fig, ax = plt.subplots(figsize= (20,5))\n",
    "        fig.suptitle('Disribution of missing values of the dataset')\n",
    "        sns.distplot((df.isna().sum(axis=1) / df.shape[])  , color = 'r' ) \n",
    "    else: print('Plots are disabled.')\n",
    "    \n",
    "    \n",
    "\n",
    "def change_unknown_to_nan(df):\n",
    "    '''\n",
    "    This function replaces all the values that are labled as unknown in the refernence excel file as null.\n",
    "    INPUT: \n",
    "       df (df)- dataframe as input.\n",
    "    OUTPUT:\n",
    "        df(nan_df)- dataframe with unknown data labeld as NaNs.\n",
    "    '''\n",
    "    \n",
    "    print('===============Changing the Unkown Data to NaNs======================')\n",
    "    #load in the values from the dias excel \n",
    "    dias_values = pd.read_excel(\"DIAS Attributes - Values 2017.xlsx\", header=1)\n",
    "    dias_values = dias_values.fillna(method='ffill')\n",
    "    dias_values = dias_values.replace({\"CAMEO_DEUINTL_2015\":\"CAMEO_INTL_2015\", \"SOHO_FLAG\":\"SOHO_KZ\", \"D19_BUCH\":\"D19_BUCH_CD\"})\n",
    "    dias_values['Attribute'] = dias_values['Attribute'].map(lambda x: x.replace(\"_RZ\", \"\"))\n",
    "\n",
    "    # serch for the phrases in the \"Meaning\" Column for which values that shall be replaced as nan \n",
    "    nan_values = dias_values[(dias_values['Meaning'].str.contains('unknown')) | \\\n",
    "                             (dias_values['Meaning'].str.contains('no transaction known')) | \\\n",
    "                             (dias_values['Meaning'].str.contains('no main age detectable')) | \\\n",
    "                             (dias_values['Meaning'].str.contains('no transactions known'))]\n",
    "    \n",
    "    \n",
    "    nan_ref = nan_values[['Attribute','Value']]\n",
    "\n",
    "    nan_doku_dict = nan_ref.set_index('Attribute')['Value'].to_dict()\n",
    "\n",
    "\n",
    "\n",
    "    for k,v in nan_doku_dict.items():\n",
    "        if isinstance(v, str):\n",
    "            v_new = {int(v): np.nan for v in v.split(\",\")}\n",
    "            nan_doku_dict[k] = v_new\n",
    "        else:\n",
    "            v_new = {v : np.nan}\n",
    "            nan_doku_dict[k] = v_new\n",
    "\n",
    "\n",
    "\n",
    "    nan_df = df.replace(nan_doku_dict)\n",
    "    \n",
    "    #Edit some columns manually \n",
    "    nan_df['CAMEO_DEU_2015'].replace({'X': np.nan, 'XX':np.nan},inplace = True)\n",
    "    nan_df['CAMEO_INTL_2015'].replace({'X': np.nan, 'XX':np.nan},inplace = True)\n",
    "    nan_df['CAMEO_DEUG_2015'].replace({'X': np.nan, 'XX':np.nan},inplace = True)\n",
    "\n",
    "    print('=====================================================================')\n",
    "\n",
    "    return nan_df\n",
    "\n",
    "\n",
    "\n",
    "def rem_nas(df, thresh_col = 0.5, thresh_row = 0.8):\n",
    "    '''\n",
    "    \n",
    "    This function removes columns and rows that exeed a cirtain threshold of NaNs. \n",
    "    \n",
    "    Input: df- The datframe for wich columns and rows should be removed \n",
    "    \n",
    "    Output: df (df_clean)- A dataframe with reduced columns and rows based on the missing thresholds. \n",
    "    '''\n",
    "    \n",
    "    print('============Remiving Columns and Rows with to many NaNs==============')\n",
    "    \n",
    "    df_col =df.copy()\n",
    "    \n",
    "    print('---------Remove columns with more than {}% missings------------'.format(round(thresh_col*100)))\n",
    "    print('The shape of the old dataframe:',df_col.shape)\n",
    "    df_col = df_col.dropna(axis = 1 , thresh = df_col.shape[0]*(1 - thresh_col))\n",
    "    print('The shape of the new dataframe:' ,df_col.shape)\n",
    "    print('{} columns have been removed from the dataframe.'.format(df.shape[1]-df_col.shape[1]))\n",
    "\n",
    "    print('----------------------------------------------------------------')\n",
    "    \n",
    "    print('---------Remove rows with more than {}% missings------------'.format(round(thresh_row*100)))\n",
    "    print('The shape of the old dataframe:',df_col.shape)\n",
    "    \n",
    "    df_clean = df_col.dropna(axis = 0 , thresh = df_col.shape[1]*(1-thresh_row))\n",
    "    print('The shape of the new dataframe:' ,df_clean.shape)\n",
    "    print('{} rows have been removed from the dataframe.'.format(df_col.shape[0]-df_clean.shape[0]))\n",
    "   \n",
    "    return df_clean\n",
    "\n",
    "    print('=====================================================================')\n",
    "\n",
    "\n",
    "\n",
    "def impute_missings(df):\n",
    "    \n",
    "    \n",
    "    '''\n",
    "    This function imputes the missing values using differnt strategies that have been derived from the data inspection. \n",
    "    \n",
    "    Input: \n",
    "        df (df)- Dataframe that for wich missing imputation should be applied.\n",
    "        \n",
    "    Output:\n",
    "        df (df_imp)- Dataframe wich missings are imputed. \n",
    "    \n",
    "    \n",
    "    '''\n",
    "    \n",
    "    print('====================Data Imputation================================')\n",
    "\n",
    "    \n",
    "    # Check for each feature from the description file wich imputing strategy seams reasonable \n",
    "    df_imp = df.copy()\n",
    "    \n",
    "    \n",
    "    \n",
    "    unknown_10 = ['D19_BANKEN_DATUM','D19_BANKEN_OFFLINE_DATUM','D19_BANKEN_ONLINE_DATUM','D19_GESAMT_DATUM','D19_GESAMT_OFFLINE_DATUM','D19_GESAMT_ONLINE_DATUM' \\\n",
    "                  ,'D19_TELKO_DATUM','D19_TELKO_OFFLINE_DATUM','D19_TELKO_ONLINE_DATUM','D19_VERSAND_DATUM','D19_VERSAND_OFFLINE_DATUM','D19_VERSAND_ONLINE_DATUM']\n",
    "    \n",
    "    for col in unknown_10:\n",
    "        try:\n",
    "            df_imp[col].fillna(10,inplace = True)\n",
    "        except: print('Col',col,'no in the df anymore.')\n",
    "    \n",
    "    print('Imputing 10er Values is done.')\n",
    "\n",
    "    \n",
    "    \n",
    "    unknown_9 = ['KBA05_CCM1','ANREDE_KZ','KBA05_FRAU','KBA05_ALTER1','KBA05_ALTER2','KBA05_ALTER3','KBA05_ALTER4','KBA05_ANHANG']\n",
    "    \n",
    "    for col in unknown_9:\n",
    "        try:\n",
    "            df_imp[col].fillna(9,inplace = True)\n",
    "        except: print('Col',col,'no in the df anymore.')\n",
    "    print('Imputing 9er Values is done.')\n",
    "\n",
    "    \n",
    "    \n",
    "    median = ['ANZ_HAUSHALTE_AKTIV','ANZ_HH_TITEL','ANZ_PERSONEN','GEBURTSJAHR']\n",
    "    \n",
    "    for col in median:\n",
    "        try:\n",
    "            df_imp[col].fillna(df_imp[col].median(),inplace = True)\n",
    "        except: print('Col',col,'no in the df anymore.')\n",
    "\n",
    "    print('Imputing Mean Values is done. ')\n",
    "\n",
    "    \n",
    "    most_frequent = ['BALLRAUM','CAMEO_DEUG_2015','CAMEO_DEU_2015','CJT_GESAMTTYP','D19_KONSUMTYP', 'EINGEFUEGT_AM','D19_LETZTER_KAUF_BRANCHE']\n",
    "    \n",
    "    for col in most_frequent:\n",
    "        try:\n",
    "            df_imp[col].fillna(list(df_imp[col].value_counts().index)[0],inplace = True)\n",
    "        except: print('Col',col,'no in the df anymore.')\n",
    "\n",
    "    print('Imputing most frequent values is done.')\n",
    "                \n",
    "    #Impute the rest with the simple imputer uning a constant vlaue \n",
    "\n",
    "    for col in df_imp.columns:\n",
    "        df_imp[col].fillna(0,inplace=True)\n",
    "    print('The rest of the columns are imputed with a zero. ')\n",
    "    \n",
    "    print('=====================================================================')\n",
    "    \n",
    "    return df_imp\n",
    "\n",
    "\n",
    "def encode_data (df, categories = None):\n",
    "    \n",
    "    '''\n",
    "    This fnction encodes the dataset. Default is that all \"object\" columns should be processed. \n",
    "    Optionaly it can take an array of manually selectd categorical colimns. \n",
    "    \n",
    "    Input:\n",
    "        df (df)- Dataframe that is to be endoded. \n",
    "    Output:\n",
    "        df(enc_df)- Encoded dataframe. \n",
    "    \n",
    "    '''\n",
    "    \n",
    "    \n",
    "    enc_df = df.copy()\n",
    "    enc_df.drop(['EINGEFUEGT_AM'], axis = 1,inplace = True)\n",
    "    \n",
    "    if categories == None: categories = df.select_dtypes(include='object').columns\n",
    "        \n",
    "    print(categories)\n",
    "    \n",
    "    for v in categories:\n",
    "        try:\n",
    "            enc_df = pd.concat([enc_df.drop(v, axis=1), pd.get_dummies(enc_df[v], prefix=v, prefix_sep='_', drop_first=True)], axis=1 )\n",
    "            print('Encode:', v)\n",
    "        except: print('Column ', v, ' not found.')\n",
    "   \n",
    "    return enc_df\n",
    "    "
   ]
  },
  {
   "cell_type": "markdown",
   "metadata": {},
   "source": [
    "## Part 0: Get to Know the Data\n",
    "\n",
    "There are four data files associated with this project:\n",
    "\n",
    "- `Udacity_AZDIAS_052018.csv`: Demographics data for the general population of Germany; 891 211 persons (rows) x 366 features (columns).\n",
    "- `Udacity_CUSTOMERS_052018.csv`: Demographics data for customers of a mail-order company; 191 652 persons (rows) x 369 features (columns).\n",
    "- `Udacity_MAILOUT_052018_TRAIN.csv`: Demographics data for individuals who were targets of a marketing campaign; 42 982 persons (rows) x 367 (columns).\n",
    "- `Udacity_MAILOUT_052018_TEST.csv`: Demographics data for individuals who were targets of a marketing campaign; 42 833 persons (rows) x 366 (columns).\n",
    "\n",
    "Each row of the demographics files represents a single person, but also includes information outside of individuals, including information about their household, building, and neighborhood. Use the information from the first two files to figure out how customers (\"CUSTOMERS\") are similar to or differ from the general population at large (\"AZDIAS\"), then use your analysis to make predictions on the other two files (\"MAILOUT\"), predicting which recipients are most likely to become a customer for the mail-order company.\n",
    "\n",
    "The \"CUSTOMERS\" file contains three extra columns ('CUSTOMER_GROUP', 'ONLINE_PURCHASE', and 'PRODUCT_GROUP'), which provide broad information about the customers depicted in the file. The original \"MAILOUT\" file included one additional column, \"RESPONSE\", which indicated whether or not each recipient became a customer of the company. For the \"TRAIN\" subset, this column has been retained, but in the \"TEST\" subset it has been removed; it is against that withheld column that your final predictions will be assessed in the Kaggle competition.\n",
    "\n",
    "Otherwise, all of the remaining columns are the same between the three data files. For more information about the columns depicted in the files, you can refer to two Excel spreadsheets provided in the workspace. [One of them](./DIAS Information Levels - Attributes 2017.xlsx) is a top-level list of attributes and descriptions, organized by informational category. [The other](./DIAS Attributes - Values 2017.xlsx) is a detailed mapping of data values for each feature in alphabetical order.\n",
    "\n",
    "In the below cell, we've provided some initial code to load in the first two datasets. Note for all of the `.csv` data files in this project that they're semicolon (`;`) delimited, so an additional argument in the [`read_csv()`](https://pandas.pydata.org/pandas-docs/stable/generated/pandas.read_csv.html) call has been included to read in the data properly. Also, considering the size of the datasets, it may take some time for them to load completely.\n",
    "\n",
    "You'll notice when the data is loaded in that a warning message will immediately pop up. Before you really start digging into the modeling and analysis, you're going to need to perform some cleaning. Take some time to browse the structure of the data and look over the informational spreadsheets to understand the data values. Make some decisions on which features to keep, which features to drop, and if any revisions need to be made on data formats. It'll be a good idea to create a function with pre-processing steps, since you'll need to clean all of the datasets before you work with them."
   ]
  },
  {
   "cell_type": "markdown",
   "metadata": {},
   "source": [
    "### 0.1 Load the Dataa"
   ]
  },
  {
   "cell_type": "code",
   "execution_count": 3,
   "metadata": {},
   "outputs": [
    {
     "name": "stdout",
     "output_type": "stream",
     "text": [
      "CPU times: user 18.9 s, sys: 2.35 s, total: 21.3 s\n",
      "Wall time: 21.3 s\n"
     ]
    }
   ],
   "source": [
    "%%time\n",
    "# load in the data\n",
    "dtypes = {'CAMEO_INTL_2015': object , 'CAMEO_DEUG_2015': object} # make sure the data is read in without mixed valeus errpr  \n",
    "azdias = pd.read_csv('data/Udacity_AZDIAS_052018.csv', sep=';', dtype=dtypes)\n",
    "customers = pd.read_csv('data/Udacity_CUSTOMERS_052018.csv', sep=';',dtype=dtypes)"
   ]
  },
  {
   "cell_type": "markdown",
   "metadata": {},
   "source": [
    "### 0.2) Inspect the datasets"
   ]
  },
  {
   "cell_type": "markdown",
   "metadata": {},
   "source": [
    "#### AZDIAS Dataset"
   ]
  },
  {
   "cell_type": "code",
   "execution_count": 4,
   "metadata": {},
   "outputs": [
    {
     "name": "stdout",
     "output_type": "stream",
     "text": [
      "The AZDIASD Dataset has 891221 rows.\n",
      "The AZDIASD Dataset has 366 columns.\n"
     ]
    }
   ],
   "source": [
    "print(\"The AZDIASD Dataset has {} rows.\".format(azdias.shape[0]))\n",
    "print(\"The AZDIASD Dataset has {} columns.\".format(azdias.shape[1]))"
   ]
  },
  {
   "cell_type": "code",
   "execution_count": 5,
   "metadata": {},
   "outputs": [
    {
     "data": {
      "text/html": [
       "<div>\n",
       "<style scoped>\n",
       "    .dataframe tbody tr th:only-of-type {\n",
       "        vertical-align: middle;\n",
       "    }\n",
       "\n",
       "    .dataframe tbody tr th {\n",
       "        vertical-align: top;\n",
       "    }\n",
       "\n",
       "    .dataframe thead th {\n",
       "        text-align: right;\n",
       "    }\n",
       "</style>\n",
       "<table border=\"1\" class=\"dataframe\">\n",
       "  <thead>\n",
       "    <tr style=\"text-align: right;\">\n",
       "      <th></th>\n",
       "      <th>LNR</th>\n",
       "      <th>AGER_TYP</th>\n",
       "      <th>AKT_DAT_KL</th>\n",
       "      <th>ALTER_HH</th>\n",
       "      <th>ALTER_KIND1</th>\n",
       "      <th>ALTER_KIND2</th>\n",
       "      <th>ALTER_KIND3</th>\n",
       "      <th>ALTER_KIND4</th>\n",
       "      <th>ALTERSKATEGORIE_FEIN</th>\n",
       "      <th>ANZ_HAUSHALTE_AKTIV</th>\n",
       "      <th>...</th>\n",
       "      <th>VHN</th>\n",
       "      <th>VK_DHT4A</th>\n",
       "      <th>VK_DISTANZ</th>\n",
       "      <th>VK_ZG11</th>\n",
       "      <th>W_KEIT_KIND_HH</th>\n",
       "      <th>WOHNDAUER_2008</th>\n",
       "      <th>WOHNLAGE</th>\n",
       "      <th>ZABEOTYP</th>\n",
       "      <th>ANREDE_KZ</th>\n",
       "      <th>ALTERSKATEGORIE_GROB</th>\n",
       "    </tr>\n",
       "  </thead>\n",
       "  <tbody>\n",
       "    <tr>\n",
       "      <th>0</th>\n",
       "      <td>910215</td>\n",
       "      <td>-1</td>\n",
       "      <td>NaN</td>\n",
       "      <td>NaN</td>\n",
       "      <td>NaN</td>\n",
       "      <td>NaN</td>\n",
       "      <td>NaN</td>\n",
       "      <td>NaN</td>\n",
       "      <td>NaN</td>\n",
       "      <td>NaN</td>\n",
       "      <td>...</td>\n",
       "      <td>NaN</td>\n",
       "      <td>NaN</td>\n",
       "      <td>NaN</td>\n",
       "      <td>NaN</td>\n",
       "      <td>NaN</td>\n",
       "      <td>NaN</td>\n",
       "      <td>NaN</td>\n",
       "      <td>3</td>\n",
       "      <td>1</td>\n",
       "      <td>2</td>\n",
       "    </tr>\n",
       "    <tr>\n",
       "      <th>1</th>\n",
       "      <td>910220</td>\n",
       "      <td>-1</td>\n",
       "      <td>9.0</td>\n",
       "      <td>0.0</td>\n",
       "      <td>NaN</td>\n",
       "      <td>NaN</td>\n",
       "      <td>NaN</td>\n",
       "      <td>NaN</td>\n",
       "      <td>21.0</td>\n",
       "      <td>11.0</td>\n",
       "      <td>...</td>\n",
       "      <td>4.0</td>\n",
       "      <td>8.0</td>\n",
       "      <td>11.0</td>\n",
       "      <td>10.0</td>\n",
       "      <td>3.0</td>\n",
       "      <td>9.0</td>\n",
       "      <td>4.0</td>\n",
       "      <td>5</td>\n",
       "      <td>2</td>\n",
       "      <td>1</td>\n",
       "    </tr>\n",
       "    <tr>\n",
       "      <th>2</th>\n",
       "      <td>910225</td>\n",
       "      <td>-1</td>\n",
       "      <td>9.0</td>\n",
       "      <td>17.0</td>\n",
       "      <td>NaN</td>\n",
       "      <td>NaN</td>\n",
       "      <td>NaN</td>\n",
       "      <td>NaN</td>\n",
       "      <td>17.0</td>\n",
       "      <td>10.0</td>\n",
       "      <td>...</td>\n",
       "      <td>2.0</td>\n",
       "      <td>9.0</td>\n",
       "      <td>9.0</td>\n",
       "      <td>6.0</td>\n",
       "      <td>3.0</td>\n",
       "      <td>9.0</td>\n",
       "      <td>2.0</td>\n",
       "      <td>5</td>\n",
       "      <td>2</td>\n",
       "      <td>3</td>\n",
       "    </tr>\n",
       "    <tr>\n",
       "      <th>3</th>\n",
       "      <td>910226</td>\n",
       "      <td>2</td>\n",
       "      <td>1.0</td>\n",
       "      <td>13.0</td>\n",
       "      <td>NaN</td>\n",
       "      <td>NaN</td>\n",
       "      <td>NaN</td>\n",
       "      <td>NaN</td>\n",
       "      <td>13.0</td>\n",
       "      <td>1.0</td>\n",
       "      <td>...</td>\n",
       "      <td>0.0</td>\n",
       "      <td>7.0</td>\n",
       "      <td>10.0</td>\n",
       "      <td>11.0</td>\n",
       "      <td>NaN</td>\n",
       "      <td>9.0</td>\n",
       "      <td>7.0</td>\n",
       "      <td>3</td>\n",
       "      <td>2</td>\n",
       "      <td>4</td>\n",
       "    </tr>\n",
       "    <tr>\n",
       "      <th>4</th>\n",
       "      <td>910241</td>\n",
       "      <td>-1</td>\n",
       "      <td>1.0</td>\n",
       "      <td>20.0</td>\n",
       "      <td>NaN</td>\n",
       "      <td>NaN</td>\n",
       "      <td>NaN</td>\n",
       "      <td>NaN</td>\n",
       "      <td>14.0</td>\n",
       "      <td>3.0</td>\n",
       "      <td>...</td>\n",
       "      <td>2.0</td>\n",
       "      <td>3.0</td>\n",
       "      <td>5.0</td>\n",
       "      <td>4.0</td>\n",
       "      <td>2.0</td>\n",
       "      <td>9.0</td>\n",
       "      <td>3.0</td>\n",
       "      <td>4</td>\n",
       "      <td>1</td>\n",
       "      <td>3</td>\n",
       "    </tr>\n",
       "  </tbody>\n",
       "</table>\n",
       "<p>5 rows × 366 columns</p>\n",
       "</div>"
      ],
      "text/plain": [
       "      LNR  AGER_TYP  AKT_DAT_KL  ALTER_HH  ALTER_KIND1  ALTER_KIND2  \\\n",
       "0  910215        -1         NaN       NaN          NaN          NaN   \n",
       "1  910220        -1         9.0       0.0          NaN          NaN   \n",
       "2  910225        -1         9.0      17.0          NaN          NaN   \n",
       "3  910226         2         1.0      13.0          NaN          NaN   \n",
       "4  910241        -1         1.0      20.0          NaN          NaN   \n",
       "\n",
       "   ALTER_KIND3  ALTER_KIND4  ALTERSKATEGORIE_FEIN  ANZ_HAUSHALTE_AKTIV  ...  \\\n",
       "0          NaN          NaN                   NaN                  NaN  ...   \n",
       "1          NaN          NaN                  21.0                 11.0  ...   \n",
       "2          NaN          NaN                  17.0                 10.0  ...   \n",
       "3          NaN          NaN                  13.0                  1.0  ...   \n",
       "4          NaN          NaN                  14.0                  3.0  ...   \n",
       "\n",
       "   VHN  VK_DHT4A  VK_DISTANZ  VK_ZG11  W_KEIT_KIND_HH  WOHNDAUER_2008  \\\n",
       "0  NaN       NaN         NaN      NaN             NaN             NaN   \n",
       "1  4.0       8.0        11.0     10.0             3.0             9.0   \n",
       "2  2.0       9.0         9.0      6.0             3.0             9.0   \n",
       "3  0.0       7.0        10.0     11.0             NaN             9.0   \n",
       "4  2.0       3.0         5.0      4.0             2.0             9.0   \n",
       "\n",
       "   WOHNLAGE ZABEOTYP ANREDE_KZ ALTERSKATEGORIE_GROB  \n",
       "0       NaN        3         1                    2  \n",
       "1       4.0        5         2                    1  \n",
       "2       2.0        5         2                    3  \n",
       "3       7.0        3         2                    4  \n",
       "4       3.0        4         1                    3  \n",
       "\n",
       "[5 rows x 366 columns]"
      ]
     },
     "execution_count": 5,
     "metadata": {},
     "output_type": "execute_result"
    }
   ],
   "source": [
    "#looging at the azdias df\n",
    "azdias.head()"
   ]
  },
  {
   "cell_type": "code",
   "execution_count": 6,
   "metadata": {},
   "outputs": [
    {
     "data": {
      "text/html": [
       "<div>\n",
       "<style scoped>\n",
       "    .dataframe tbody tr th:only-of-type {\n",
       "        vertical-align: middle;\n",
       "    }\n",
       "\n",
       "    .dataframe tbody tr th {\n",
       "        vertical-align: top;\n",
       "    }\n",
       "\n",
       "    .dataframe thead th {\n",
       "        text-align: right;\n",
       "    }\n",
       "</style>\n",
       "<table border=\"1\" class=\"dataframe\">\n",
       "  <thead>\n",
       "    <tr style=\"text-align: right;\">\n",
       "      <th></th>\n",
       "      <th>count</th>\n",
       "      <th>mean</th>\n",
       "      <th>std</th>\n",
       "      <th>min</th>\n",
       "      <th>25%</th>\n",
       "      <th>50%</th>\n",
       "      <th>75%</th>\n",
       "      <th>max</th>\n",
       "    </tr>\n",
       "  </thead>\n",
       "  <tbody>\n",
       "    <tr>\n",
       "      <th>LNR</th>\n",
       "      <td>891221.0</td>\n",
       "      <td>637263.000000</td>\n",
       "      <td>257273.486465</td>\n",
       "      <td>191653.0</td>\n",
       "      <td>414458.0</td>\n",
       "      <td>637263.0</td>\n",
       "      <td>860068.0</td>\n",
       "      <td>1082873.0</td>\n",
       "    </tr>\n",
       "    <tr>\n",
       "      <th>AGER_TYP</th>\n",
       "      <td>891221.0</td>\n",
       "      <td>-0.358435</td>\n",
       "      <td>1.198724</td>\n",
       "      <td>-1.0</td>\n",
       "      <td>-1.0</td>\n",
       "      <td>-1.0</td>\n",
       "      <td>-1.0</td>\n",
       "      <td>3.0</td>\n",
       "    </tr>\n",
       "    <tr>\n",
       "      <th>AKT_DAT_KL</th>\n",
       "      <td>817722.0</td>\n",
       "      <td>4.421928</td>\n",
       "      <td>3.638805</td>\n",
       "      <td>1.0</td>\n",
       "      <td>1.0</td>\n",
       "      <td>3.0</td>\n",
       "      <td>9.0</td>\n",
       "      <td>9.0</td>\n",
       "    </tr>\n",
       "    <tr>\n",
       "      <th>ALTER_HH</th>\n",
       "      <td>817722.0</td>\n",
       "      <td>10.864126</td>\n",
       "      <td>7.639683</td>\n",
       "      <td>0.0</td>\n",
       "      <td>0.0</td>\n",
       "      <td>13.0</td>\n",
       "      <td>17.0</td>\n",
       "      <td>21.0</td>\n",
       "    </tr>\n",
       "    <tr>\n",
       "      <th>ALTER_KIND1</th>\n",
       "      <td>81058.0</td>\n",
       "      <td>11.745392</td>\n",
       "      <td>4.097660</td>\n",
       "      <td>2.0</td>\n",
       "      <td>8.0</td>\n",
       "      <td>12.0</td>\n",
       "      <td>15.0</td>\n",
       "      <td>18.0</td>\n",
       "    </tr>\n",
       "    <tr>\n",
       "      <th>...</th>\n",
       "      <td>...</td>\n",
       "      <td>...</td>\n",
       "      <td>...</td>\n",
       "      <td>...</td>\n",
       "      <td>...</td>\n",
       "      <td>...</td>\n",
       "      <td>...</td>\n",
       "      <td>...</td>\n",
       "    </tr>\n",
       "    <tr>\n",
       "      <th>WOHNDAUER_2008</th>\n",
       "      <td>817722.0</td>\n",
       "      <td>7.908791</td>\n",
       "      <td>1.923137</td>\n",
       "      <td>1.0</td>\n",
       "      <td>8.0</td>\n",
       "      <td>9.0</td>\n",
       "      <td>9.0</td>\n",
       "      <td>9.0</td>\n",
       "    </tr>\n",
       "    <tr>\n",
       "      <th>WOHNLAGE</th>\n",
       "      <td>798073.0</td>\n",
       "      <td>4.052836</td>\n",
       "      <td>1.949539</td>\n",
       "      <td>0.0</td>\n",
       "      <td>3.0</td>\n",
       "      <td>3.0</td>\n",
       "      <td>5.0</td>\n",
       "      <td>8.0</td>\n",
       "    </tr>\n",
       "    <tr>\n",
       "      <th>ZABEOTYP</th>\n",
       "      <td>891221.0</td>\n",
       "      <td>3.362438</td>\n",
       "      <td>1.352704</td>\n",
       "      <td>1.0</td>\n",
       "      <td>3.0</td>\n",
       "      <td>3.0</td>\n",
       "      <td>4.0</td>\n",
       "      <td>6.0</td>\n",
       "    </tr>\n",
       "    <tr>\n",
       "      <th>ANREDE_KZ</th>\n",
       "      <td>891221.0</td>\n",
       "      <td>1.522098</td>\n",
       "      <td>0.499512</td>\n",
       "      <td>1.0</td>\n",
       "      <td>1.0</td>\n",
       "      <td>2.0</td>\n",
       "      <td>2.0</td>\n",
       "      <td>2.0</td>\n",
       "    </tr>\n",
       "    <tr>\n",
       "      <th>ALTERSKATEGORIE_GROB</th>\n",
       "      <td>891221.0</td>\n",
       "      <td>2.777398</td>\n",
       "      <td>1.068775</td>\n",
       "      <td>1.0</td>\n",
       "      <td>2.0</td>\n",
       "      <td>3.0</td>\n",
       "      <td>4.0</td>\n",
       "      <td>9.0</td>\n",
       "    </tr>\n",
       "  </tbody>\n",
       "</table>\n",
       "<p>360 rows × 8 columns</p>\n",
       "</div>"
      ],
      "text/plain": [
       "                         count           mean            std       min  \\\n",
       "LNR                   891221.0  637263.000000  257273.486465  191653.0   \n",
       "AGER_TYP              891221.0      -0.358435       1.198724      -1.0   \n",
       "AKT_DAT_KL            817722.0       4.421928       3.638805       1.0   \n",
       "ALTER_HH              817722.0      10.864126       7.639683       0.0   \n",
       "ALTER_KIND1            81058.0      11.745392       4.097660       2.0   \n",
       "...                        ...            ...            ...       ...   \n",
       "WOHNDAUER_2008        817722.0       7.908791       1.923137       1.0   \n",
       "WOHNLAGE              798073.0       4.052836       1.949539       0.0   \n",
       "ZABEOTYP              891221.0       3.362438       1.352704       1.0   \n",
       "ANREDE_KZ             891221.0       1.522098       0.499512       1.0   \n",
       "ALTERSKATEGORIE_GROB  891221.0       2.777398       1.068775       1.0   \n",
       "\n",
       "                           25%       50%       75%        max  \n",
       "LNR                   414458.0  637263.0  860068.0  1082873.0  \n",
       "AGER_TYP                  -1.0      -1.0      -1.0        3.0  \n",
       "AKT_DAT_KL                 1.0       3.0       9.0        9.0  \n",
       "ALTER_HH                   0.0      13.0      17.0       21.0  \n",
       "ALTER_KIND1                8.0      12.0      15.0       18.0  \n",
       "...                        ...       ...       ...        ...  \n",
       "WOHNDAUER_2008             8.0       9.0       9.0        9.0  \n",
       "WOHNLAGE                   3.0       3.0       5.0        8.0  \n",
       "ZABEOTYP                   3.0       3.0       4.0        6.0  \n",
       "ANREDE_KZ                  1.0       2.0       2.0        2.0  \n",
       "ALTERSKATEGORIE_GROB       2.0       3.0       4.0        9.0  \n",
       "\n",
       "[360 rows x 8 columns]"
      ]
     },
     "execution_count": 6,
     "metadata": {},
     "output_type": "execute_result"
    }
   ],
   "source": [
    "azdias.describe().transpose()"
   ]
  },
  {
   "cell_type": "code",
   "execution_count": 7,
   "metadata": {},
   "outputs": [
    {
     "data": {
      "text/plain": [
       "float64    267\n",
       "int64       93\n",
       "object       6\n",
       "dtype: int64"
      ]
     },
     "execution_count": 7,
     "metadata": {},
     "output_type": "execute_result"
    }
   ],
   "source": [
    "# what are the occurring datatyps in the azdias dataset\n",
    "azdias.dtypes.value_counts()"
   ]
  },
  {
   "cell_type": "markdown",
   "metadata": {},
   "source": [
    "Most of the colums are numeric. Just six coliumns are from the type object. \n",
    "However the mixed columns appear to be numerical at a first glance."
   ]
  },
  {
   "cell_type": "code",
   "execution_count": 8,
   "metadata": {},
   "outputs": [
    {
     "data": {
      "text/html": [
       "<div>\n",
       "<style scoped>\n",
       "    .dataframe tbody tr th:only-of-type {\n",
       "        vertical-align: middle;\n",
       "    }\n",
       "\n",
       "    .dataframe tbody tr th {\n",
       "        vertical-align: top;\n",
       "    }\n",
       "\n",
       "    .dataframe thead th {\n",
       "        text-align: right;\n",
       "    }\n",
       "</style>\n",
       "<table border=\"1\" class=\"dataframe\">\n",
       "  <thead>\n",
       "    <tr style=\"text-align: right;\">\n",
       "      <th></th>\n",
       "      <th>CAMEO_DEU_2015</th>\n",
       "      <th>CAMEO_DEUG_2015</th>\n",
       "      <th>CAMEO_INTL_2015</th>\n",
       "      <th>D19_LETZTER_KAUF_BRANCHE</th>\n",
       "      <th>EINGEFUEGT_AM</th>\n",
       "      <th>OST_WEST_KZ</th>\n",
       "    </tr>\n",
       "  </thead>\n",
       "  <tbody>\n",
       "    <tr>\n",
       "      <th>0</th>\n",
       "      <td>NaN</td>\n",
       "      <td>NaN</td>\n",
       "      <td>NaN</td>\n",
       "      <td>NaN</td>\n",
       "      <td>NaN</td>\n",
       "      <td>NaN</td>\n",
       "    </tr>\n",
       "    <tr>\n",
       "      <th>1</th>\n",
       "      <td>8A</td>\n",
       "      <td>8</td>\n",
       "      <td>51</td>\n",
       "      <td>NaN</td>\n",
       "      <td>1992-02-10 00:00:00</td>\n",
       "      <td>W</td>\n",
       "    </tr>\n",
       "    <tr>\n",
       "      <th>2</th>\n",
       "      <td>4C</td>\n",
       "      <td>4</td>\n",
       "      <td>24</td>\n",
       "      <td>D19_UNBEKANNT</td>\n",
       "      <td>1992-02-12 00:00:00</td>\n",
       "      <td>W</td>\n",
       "    </tr>\n",
       "    <tr>\n",
       "      <th>3</th>\n",
       "      <td>2A</td>\n",
       "      <td>2</td>\n",
       "      <td>12</td>\n",
       "      <td>D19_UNBEKANNT</td>\n",
       "      <td>1997-04-21 00:00:00</td>\n",
       "      <td>W</td>\n",
       "    </tr>\n",
       "    <tr>\n",
       "      <th>4</th>\n",
       "      <td>6B</td>\n",
       "      <td>6</td>\n",
       "      <td>43</td>\n",
       "      <td>D19_SCHUHE</td>\n",
       "      <td>1992-02-12 00:00:00</td>\n",
       "      <td>W</td>\n",
       "    </tr>\n",
       "    <tr>\n",
       "      <th>...</th>\n",
       "      <td>...</td>\n",
       "      <td>...</td>\n",
       "      <td>...</td>\n",
       "      <td>...</td>\n",
       "      <td>...</td>\n",
       "      <td>...</td>\n",
       "    </tr>\n",
       "    <tr>\n",
       "      <th>891216</th>\n",
       "      <td>7A</td>\n",
       "      <td>7</td>\n",
       "      <td>41</td>\n",
       "      <td>D19_HAUS_DEKO</td>\n",
       "      <td>1992-02-10 00:00:00</td>\n",
       "      <td>W</td>\n",
       "    </tr>\n",
       "    <tr>\n",
       "      <th>891217</th>\n",
       "      <td>9D</td>\n",
       "      <td>9</td>\n",
       "      <td>51</td>\n",
       "      <td>D19_UNBEKANNT</td>\n",
       "      <td>1992-02-10 00:00:00</td>\n",
       "      <td>W</td>\n",
       "    </tr>\n",
       "    <tr>\n",
       "      <th>891218</th>\n",
       "      <td>4C</td>\n",
       "      <td>4</td>\n",
       "      <td>24</td>\n",
       "      <td>D19_BEKLEIDUNG_GEH</td>\n",
       "      <td>1992-02-10 00:00:00</td>\n",
       "      <td>W</td>\n",
       "    </tr>\n",
       "    <tr>\n",
       "      <th>891219</th>\n",
       "      <td>9D</td>\n",
       "      <td>9</td>\n",
       "      <td>51</td>\n",
       "      <td>D19_UNBEKANNT</td>\n",
       "      <td>1992-02-12 00:00:00</td>\n",
       "      <td>W</td>\n",
       "    </tr>\n",
       "    <tr>\n",
       "      <th>891220</th>\n",
       "      <td>6B</td>\n",
       "      <td>6</td>\n",
       "      <td>43</td>\n",
       "      <td>NaN</td>\n",
       "      <td>1992-02-10 00:00:00</td>\n",
       "      <td>W</td>\n",
       "    </tr>\n",
       "  </tbody>\n",
       "</table>\n",
       "<p>891221 rows × 6 columns</p>\n",
       "</div>"
      ],
      "text/plain": [
       "       CAMEO_DEU_2015 CAMEO_DEUG_2015 CAMEO_INTL_2015  \\\n",
       "0                 NaN             NaN             NaN   \n",
       "1                  8A               8              51   \n",
       "2                  4C               4              24   \n",
       "3                  2A               2              12   \n",
       "4                  6B               6              43   \n",
       "...               ...             ...             ...   \n",
       "891216             7A               7              41   \n",
       "891217             9D               9              51   \n",
       "891218             4C               4              24   \n",
       "891219             9D               9              51   \n",
       "891220             6B               6              43   \n",
       "\n",
       "       D19_LETZTER_KAUF_BRANCHE        EINGEFUEGT_AM OST_WEST_KZ  \n",
       "0                           NaN                  NaN         NaN  \n",
       "1                           NaN  1992-02-10 00:00:00           W  \n",
       "2                 D19_UNBEKANNT  1992-02-12 00:00:00           W  \n",
       "3                 D19_UNBEKANNT  1997-04-21 00:00:00           W  \n",
       "4                    D19_SCHUHE  1992-02-12 00:00:00           W  \n",
       "...                         ...                  ...         ...  \n",
       "891216            D19_HAUS_DEKO  1992-02-10 00:00:00           W  \n",
       "891217            D19_UNBEKANNT  1992-02-10 00:00:00           W  \n",
       "891218       D19_BEKLEIDUNG_GEH  1992-02-10 00:00:00           W  \n",
       "891219            D19_UNBEKANNT  1992-02-12 00:00:00           W  \n",
       "891220                      NaN  1992-02-10 00:00:00           W  \n",
       "\n",
       "[891221 rows x 6 columns]"
      ]
     },
     "execution_count": 8,
     "metadata": {},
     "output_type": "execute_result"
    }
   ],
   "source": [
    "azdias.select_dtypes(include = 'object')"
   ]
  },
  {
   "cell_type": "code",
   "execution_count": 9,
   "metadata": {},
   "outputs": [
    {
     "data": {
      "text/plain": [
       "array([nan, '8', '4', '2', '6', '1', '9', '5', '7', '3', 'X'],\n",
       "      dtype=object)"
      ]
     },
     "execution_count": 9,
     "metadata": {},
     "output_type": "execute_result"
    }
   ],
   "source": [
    "# ivestigating the mixed columns that produce an error if not read in as an object\n",
    "azdias['CAMEO_DEUG_2015'].unique()"
   ]
  },
  {
   "cell_type": "code",
   "execution_count": 27,
   "metadata": {},
   "outputs": [
    {
     "data": {
      "text/plain": [
       "array([nan, '51', '24', '12', '43', '54', '22', '14', '13', '15', '33',\n",
       "       '41', '34', '55', '25', '23', '31', '52', '35', '45', '44', '32',\n",
       "       'XX'], dtype=object)"
      ]
     },
     "execution_count": 27,
     "metadata": {},
     "output_type": "execute_result"
    }
   ],
   "source": [
    "azdias['CAMEO_INTL_2015'].unique()"
   ]
  },
  {
   "cell_type": "markdown",
   "metadata": {},
   "source": [
    "The problem with the both CAMEO_DEUG_2015 and CAMEO_DEUG_2015 was that they contained an X what is assumed to be a unknown.\n",
    "This sould be later convertet to as a NaN - than the variabels are numerical. "
   ]
  },
  {
   "cell_type": "markdown",
   "metadata": {},
   "source": [
    "#### Data description file \n"
   ]
  },
  {
   "cell_type": "code",
   "execution_count": 11,
   "metadata": {},
   "outputs": [],
   "source": [
    "#load in the description file and process it so that it can be used for the analysis\n",
    "desc_azdias = pd.read_excel('DIAS Attributes - Values 2017.xlsx', skiprows=1).drop('Unnamed: 0', axis=1)\n",
    "desc_azdias.fillna(method='ffill', inplace=True) "
   ]
  },
  {
   "cell_type": "code",
   "execution_count": 12,
   "metadata": {},
   "outputs": [
    {
     "data": {
      "text/plain": [
       "-1       138\n",
       "-1, 9     75\n",
       "-1, 0     16\n",
       "0          2\n",
       "-1         1\n",
       "Name: Value, dtype: int64"
      ]
     },
     "execution_count": 12,
     "metadata": {},
     "output_type": "execute_result"
    }
   ],
   "source": [
    "desc_azdias[desc_azdias['Meaning'] == 'unknown']['Value'].value_counts()\n"
   ]
  },
  {
   "cell_type": "markdown",
   "metadata": {},
   "source": [
    "The datasets seem to have a some data labled as unknown. They are often coded as -1 or 9.\n",
    "It would make sense to code them laten in the processing as NaNs. "
   ]
  },
  {
   "cell_type": "code",
   "execution_count": 13,
   "metadata": {},
   "outputs": [
    {
     "data": {
      "text/plain": [
       "Index(['LNR', 'AGER_TYP', 'AKT_DAT_KL', 'ALTER_HH', 'ALTER_KIND1',\n",
       "       'ALTER_KIND2', 'ALTER_KIND3', 'ALTER_KIND4', 'ALTERSKATEGORIE_FEIN',\n",
       "       'ANZ_HAUSHALTE_AKTIV',\n",
       "       ...\n",
       "       'VHN', 'VK_DHT4A', 'VK_DISTANZ', 'VK_ZG11', 'W_KEIT_KIND_HH',\n",
       "       'WOHNDAUER_2008', 'WOHNLAGE', 'ZABEOTYP', 'ANREDE_KZ',\n",
       "       'ALTERSKATEGORIE_GROB'],\n",
       "      dtype='object', length=366)"
      ]
     },
     "execution_count": 13,
     "metadata": {},
     "output_type": "execute_result"
    }
   ],
   "source": [
    "azdias.columns"
   ]
  },
  {
   "cell_type": "markdown",
   "metadata": {},
   "source": [
    "#### Cusomers Dataset\n"
   ]
  },
  {
   "cell_type": "code",
   "execution_count": 14,
   "metadata": {},
   "outputs": [
    {
     "name": "stdout",
     "output_type": "stream",
     "text": [
      "The Customers Dataset has 191652 rows.\n",
      "The Customers Dataset has 369 columns.\n"
     ]
    }
   ],
   "source": [
    "print(\"The Customers Dataset has {} rows.\".format(customers.shape[0]))\n",
    "print(\"The Customers Dataset has {} columns.\".format(customers.shape[1]))"
   ]
  },
  {
   "cell_type": "code",
   "execution_count": 15,
   "metadata": {},
   "outputs": [
    {
     "data": {
      "text/html": [
       "<div>\n",
       "<style scoped>\n",
       "    .dataframe tbody tr th:only-of-type {\n",
       "        vertical-align: middle;\n",
       "    }\n",
       "\n",
       "    .dataframe tbody tr th {\n",
       "        vertical-align: top;\n",
       "    }\n",
       "\n",
       "    .dataframe thead th {\n",
       "        text-align: right;\n",
       "    }\n",
       "</style>\n",
       "<table border=\"1\" class=\"dataframe\">\n",
       "  <thead>\n",
       "    <tr style=\"text-align: right;\">\n",
       "      <th></th>\n",
       "      <th>LNR</th>\n",
       "      <th>AGER_TYP</th>\n",
       "      <th>AKT_DAT_KL</th>\n",
       "      <th>ALTER_HH</th>\n",
       "      <th>ALTER_KIND1</th>\n",
       "      <th>ALTER_KIND2</th>\n",
       "      <th>ALTER_KIND3</th>\n",
       "      <th>ALTER_KIND4</th>\n",
       "      <th>ALTERSKATEGORIE_FEIN</th>\n",
       "      <th>ANZ_HAUSHALTE_AKTIV</th>\n",
       "      <th>...</th>\n",
       "      <th>VK_ZG11</th>\n",
       "      <th>W_KEIT_KIND_HH</th>\n",
       "      <th>WOHNDAUER_2008</th>\n",
       "      <th>WOHNLAGE</th>\n",
       "      <th>ZABEOTYP</th>\n",
       "      <th>PRODUCT_GROUP</th>\n",
       "      <th>CUSTOMER_GROUP</th>\n",
       "      <th>ONLINE_PURCHASE</th>\n",
       "      <th>ANREDE_KZ</th>\n",
       "      <th>ALTERSKATEGORIE_GROB</th>\n",
       "    </tr>\n",
       "  </thead>\n",
       "  <tbody>\n",
       "    <tr>\n",
       "      <th>0</th>\n",
       "      <td>9626</td>\n",
       "      <td>2</td>\n",
       "      <td>1.0</td>\n",
       "      <td>10.0</td>\n",
       "      <td>NaN</td>\n",
       "      <td>NaN</td>\n",
       "      <td>NaN</td>\n",
       "      <td>NaN</td>\n",
       "      <td>10.0</td>\n",
       "      <td>1.0</td>\n",
       "      <td>...</td>\n",
       "      <td>2.0</td>\n",
       "      <td>6.0</td>\n",
       "      <td>9.0</td>\n",
       "      <td>7.0</td>\n",
       "      <td>3</td>\n",
       "      <td>COSMETIC_AND_FOOD</td>\n",
       "      <td>MULTI_BUYER</td>\n",
       "      <td>0</td>\n",
       "      <td>1</td>\n",
       "      <td>4</td>\n",
       "    </tr>\n",
       "    <tr>\n",
       "      <th>1</th>\n",
       "      <td>9628</td>\n",
       "      <td>-1</td>\n",
       "      <td>9.0</td>\n",
       "      <td>11.0</td>\n",
       "      <td>NaN</td>\n",
       "      <td>NaN</td>\n",
       "      <td>NaN</td>\n",
       "      <td>NaN</td>\n",
       "      <td>NaN</td>\n",
       "      <td>NaN</td>\n",
       "      <td>...</td>\n",
       "      <td>3.0</td>\n",
       "      <td>0.0</td>\n",
       "      <td>9.0</td>\n",
       "      <td>NaN</td>\n",
       "      <td>3</td>\n",
       "      <td>FOOD</td>\n",
       "      <td>SINGLE_BUYER</td>\n",
       "      <td>0</td>\n",
       "      <td>1</td>\n",
       "      <td>4</td>\n",
       "    </tr>\n",
       "    <tr>\n",
       "      <th>2</th>\n",
       "      <td>143872</td>\n",
       "      <td>-1</td>\n",
       "      <td>1.0</td>\n",
       "      <td>6.0</td>\n",
       "      <td>NaN</td>\n",
       "      <td>NaN</td>\n",
       "      <td>NaN</td>\n",
       "      <td>NaN</td>\n",
       "      <td>0.0</td>\n",
       "      <td>1.0</td>\n",
       "      <td>...</td>\n",
       "      <td>11.0</td>\n",
       "      <td>6.0</td>\n",
       "      <td>9.0</td>\n",
       "      <td>2.0</td>\n",
       "      <td>3</td>\n",
       "      <td>COSMETIC_AND_FOOD</td>\n",
       "      <td>MULTI_BUYER</td>\n",
       "      <td>0</td>\n",
       "      <td>2</td>\n",
       "      <td>4</td>\n",
       "    </tr>\n",
       "    <tr>\n",
       "      <th>3</th>\n",
       "      <td>143873</td>\n",
       "      <td>1</td>\n",
       "      <td>1.0</td>\n",
       "      <td>8.0</td>\n",
       "      <td>NaN</td>\n",
       "      <td>NaN</td>\n",
       "      <td>NaN</td>\n",
       "      <td>NaN</td>\n",
       "      <td>8.0</td>\n",
       "      <td>0.0</td>\n",
       "      <td>...</td>\n",
       "      <td>2.0</td>\n",
       "      <td>NaN</td>\n",
       "      <td>9.0</td>\n",
       "      <td>7.0</td>\n",
       "      <td>1</td>\n",
       "      <td>COSMETIC</td>\n",
       "      <td>MULTI_BUYER</td>\n",
       "      <td>0</td>\n",
       "      <td>1</td>\n",
       "      <td>4</td>\n",
       "    </tr>\n",
       "    <tr>\n",
       "      <th>4</th>\n",
       "      <td>143874</td>\n",
       "      <td>-1</td>\n",
       "      <td>1.0</td>\n",
       "      <td>20.0</td>\n",
       "      <td>NaN</td>\n",
       "      <td>NaN</td>\n",
       "      <td>NaN</td>\n",
       "      <td>NaN</td>\n",
       "      <td>14.0</td>\n",
       "      <td>7.0</td>\n",
       "      <td>...</td>\n",
       "      <td>4.0</td>\n",
       "      <td>2.0</td>\n",
       "      <td>9.0</td>\n",
       "      <td>3.0</td>\n",
       "      <td>1</td>\n",
       "      <td>FOOD</td>\n",
       "      <td>MULTI_BUYER</td>\n",
       "      <td>0</td>\n",
       "      <td>1</td>\n",
       "      <td>3</td>\n",
       "    </tr>\n",
       "  </tbody>\n",
       "</table>\n",
       "<p>5 rows × 369 columns</p>\n",
       "</div>"
      ],
      "text/plain": [
       "      LNR  AGER_TYP  AKT_DAT_KL  ALTER_HH  ALTER_KIND1  ALTER_KIND2  \\\n",
       "0    9626         2         1.0      10.0          NaN          NaN   \n",
       "1    9628        -1         9.0      11.0          NaN          NaN   \n",
       "2  143872        -1         1.0       6.0          NaN          NaN   \n",
       "3  143873         1         1.0       8.0          NaN          NaN   \n",
       "4  143874        -1         1.0      20.0          NaN          NaN   \n",
       "\n",
       "   ALTER_KIND3  ALTER_KIND4  ALTERSKATEGORIE_FEIN  ANZ_HAUSHALTE_AKTIV  ...  \\\n",
       "0          NaN          NaN                  10.0                  1.0  ...   \n",
       "1          NaN          NaN                   NaN                  NaN  ...   \n",
       "2          NaN          NaN                   0.0                  1.0  ...   \n",
       "3          NaN          NaN                   8.0                  0.0  ...   \n",
       "4          NaN          NaN                  14.0                  7.0  ...   \n",
       "\n",
       "   VK_ZG11  W_KEIT_KIND_HH  WOHNDAUER_2008  WOHNLAGE  ZABEOTYP  \\\n",
       "0      2.0             6.0             9.0       7.0         3   \n",
       "1      3.0             0.0             9.0       NaN         3   \n",
       "2     11.0             6.0             9.0       2.0         3   \n",
       "3      2.0             NaN             9.0       7.0         1   \n",
       "4      4.0             2.0             9.0       3.0         1   \n",
       "\n",
       "       PRODUCT_GROUP  CUSTOMER_GROUP ONLINE_PURCHASE ANREDE_KZ  \\\n",
       "0  COSMETIC_AND_FOOD     MULTI_BUYER               0         1   \n",
       "1               FOOD    SINGLE_BUYER               0         1   \n",
       "2  COSMETIC_AND_FOOD     MULTI_BUYER               0         2   \n",
       "3           COSMETIC     MULTI_BUYER               0         1   \n",
       "4               FOOD     MULTI_BUYER               0         1   \n",
       "\n",
       "  ALTERSKATEGORIE_GROB  \n",
       "0                    4  \n",
       "1                    4  \n",
       "2                    4  \n",
       "3                    4  \n",
       "4                    3  \n",
       "\n",
       "[5 rows x 369 columns]"
      ]
     },
     "execution_count": 15,
     "metadata": {},
     "output_type": "execute_result"
    }
   ],
   "source": [
    "#looging at the customers df\n",
    "customers.head()"
   ]
  },
  {
   "cell_type": "code",
   "execution_count": 16,
   "metadata": {
    "scrolled": true
   },
   "outputs": [
    {
     "data": {
      "text/html": [
       "<div>\n",
       "<style scoped>\n",
       "    .dataframe tbody tr th:only-of-type {\n",
       "        vertical-align: middle;\n",
       "    }\n",
       "\n",
       "    .dataframe tbody tr th {\n",
       "        vertical-align: top;\n",
       "    }\n",
       "\n",
       "    .dataframe thead th {\n",
       "        text-align: right;\n",
       "    }\n",
       "</style>\n",
       "<table border=\"1\" class=\"dataframe\">\n",
       "  <thead>\n",
       "    <tr style=\"text-align: right;\">\n",
       "      <th></th>\n",
       "      <th>count</th>\n",
       "      <th>mean</th>\n",
       "      <th>std</th>\n",
       "      <th>min</th>\n",
       "      <th>25%</th>\n",
       "      <th>50%</th>\n",
       "      <th>75%</th>\n",
       "      <th>max</th>\n",
       "    </tr>\n",
       "  </thead>\n",
       "  <tbody>\n",
       "    <tr>\n",
       "      <th>LNR</th>\n",
       "      <td>191652.0</td>\n",
       "      <td>95826.500000</td>\n",
       "      <td>55325.311233</td>\n",
       "      <td>1.0</td>\n",
       "      <td>47913.75</td>\n",
       "      <td>95826.5</td>\n",
       "      <td>143739.25</td>\n",
       "      <td>191652.0</td>\n",
       "    </tr>\n",
       "    <tr>\n",
       "      <th>AGER_TYP</th>\n",
       "      <td>191652.0</td>\n",
       "      <td>0.344359</td>\n",
       "      <td>1.391672</td>\n",
       "      <td>-1.0</td>\n",
       "      <td>-1.00</td>\n",
       "      <td>0.0</td>\n",
       "      <td>2.00</td>\n",
       "      <td>3.0</td>\n",
       "    </tr>\n",
       "    <tr>\n",
       "      <th>AKT_DAT_KL</th>\n",
       "      <td>145056.0</td>\n",
       "      <td>1.747525</td>\n",
       "      <td>1.966334</td>\n",
       "      <td>1.0</td>\n",
       "      <td>1.00</td>\n",
       "      <td>1.0</td>\n",
       "      <td>1.00</td>\n",
       "      <td>9.0</td>\n",
       "    </tr>\n",
       "    <tr>\n",
       "      <th>ALTER_HH</th>\n",
       "      <td>145056.0</td>\n",
       "      <td>11.352009</td>\n",
       "      <td>6.275026</td>\n",
       "      <td>0.0</td>\n",
       "      <td>8.00</td>\n",
       "      <td>11.0</td>\n",
       "      <td>16.00</td>\n",
       "      <td>21.0</td>\n",
       "    </tr>\n",
       "    <tr>\n",
       "      <th>ALTER_KIND1</th>\n",
       "      <td>11766.0</td>\n",
       "      <td>12.337243</td>\n",
       "      <td>4.006050</td>\n",
       "      <td>2.0</td>\n",
       "      <td>9.00</td>\n",
       "      <td>13.0</td>\n",
       "      <td>16.00</td>\n",
       "      <td>18.0</td>\n",
       "    </tr>\n",
       "    <tr>\n",
       "      <th>...</th>\n",
       "      <td>...</td>\n",
       "      <td>...</td>\n",
       "      <td>...</td>\n",
       "      <td>...</td>\n",
       "      <td>...</td>\n",
       "      <td>...</td>\n",
       "      <td>...</td>\n",
       "      <td>...</td>\n",
       "    </tr>\n",
       "    <tr>\n",
       "      <th>WOHNLAGE</th>\n",
       "      <td>141725.0</td>\n",
       "      <td>3.723133</td>\n",
       "      <td>2.095540</td>\n",
       "      <td>0.0</td>\n",
       "      <td>2.00</td>\n",
       "      <td>3.0</td>\n",
       "      <td>5.00</td>\n",
       "      <td>8.0</td>\n",
       "    </tr>\n",
       "    <tr>\n",
       "      <th>ZABEOTYP</th>\n",
       "      <td>191652.0</td>\n",
       "      <td>2.576806</td>\n",
       "      <td>1.168486</td>\n",
       "      <td>1.0</td>\n",
       "      <td>1.00</td>\n",
       "      <td>3.0</td>\n",
       "      <td>3.00</td>\n",
       "      <td>6.0</td>\n",
       "    </tr>\n",
       "    <tr>\n",
       "      <th>ONLINE_PURCHASE</th>\n",
       "      <td>191652.0</td>\n",
       "      <td>0.090247</td>\n",
       "      <td>0.286536</td>\n",
       "      <td>0.0</td>\n",
       "      <td>0.00</td>\n",
       "      <td>0.0</td>\n",
       "      <td>0.00</td>\n",
       "      <td>1.0</td>\n",
       "    </tr>\n",
       "    <tr>\n",
       "      <th>ANREDE_KZ</th>\n",
       "      <td>191652.0</td>\n",
       "      <td>1.376432</td>\n",
       "      <td>0.484492</td>\n",
       "      <td>1.0</td>\n",
       "      <td>1.00</td>\n",
       "      <td>1.0</td>\n",
       "      <td>2.00</td>\n",
       "      <td>2.0</td>\n",
       "    </tr>\n",
       "    <tr>\n",
       "      <th>ALTERSKATEGORIE_GROB</th>\n",
       "      <td>191652.0</td>\n",
       "      <td>3.060907</td>\n",
       "      <td>1.086254</td>\n",
       "      <td>1.0</td>\n",
       "      <td>3.00</td>\n",
       "      <td>3.0</td>\n",
       "      <td>4.00</td>\n",
       "      <td>9.0</td>\n",
       "    </tr>\n",
       "  </tbody>\n",
       "</table>\n",
       "<p>361 rows × 8 columns</p>\n",
       "</div>"
      ],
      "text/plain": [
       "                         count          mean           std  min       25%  \\\n",
       "LNR                   191652.0  95826.500000  55325.311233  1.0  47913.75   \n",
       "AGER_TYP              191652.0      0.344359      1.391672 -1.0     -1.00   \n",
       "AKT_DAT_KL            145056.0      1.747525      1.966334  1.0      1.00   \n",
       "ALTER_HH              145056.0     11.352009      6.275026  0.0      8.00   \n",
       "ALTER_KIND1            11766.0     12.337243      4.006050  2.0      9.00   \n",
       "...                        ...           ...           ...  ...       ...   \n",
       "WOHNLAGE              141725.0      3.723133      2.095540  0.0      2.00   \n",
       "ZABEOTYP              191652.0      2.576806      1.168486  1.0      1.00   \n",
       "ONLINE_PURCHASE       191652.0      0.090247      0.286536  0.0      0.00   \n",
       "ANREDE_KZ             191652.0      1.376432      0.484492  1.0      1.00   \n",
       "ALTERSKATEGORIE_GROB  191652.0      3.060907      1.086254  1.0      3.00   \n",
       "\n",
       "                          50%        75%       max  \n",
       "LNR                   95826.5  143739.25  191652.0  \n",
       "AGER_TYP                  0.0       2.00       3.0  \n",
       "AKT_DAT_KL                1.0       1.00       9.0  \n",
       "ALTER_HH                 11.0      16.00      21.0  \n",
       "ALTER_KIND1              13.0      16.00      18.0  \n",
       "...                       ...        ...       ...  \n",
       "WOHNLAGE                  3.0       5.00       8.0  \n",
       "ZABEOTYP                  3.0       3.00       6.0  \n",
       "ONLINE_PURCHASE           0.0       0.00       1.0  \n",
       "ANREDE_KZ                 1.0       2.00       2.0  \n",
       "ALTERSKATEGORIE_GROB      3.0       4.00       9.0  \n",
       "\n",
       "[361 rows x 8 columns]"
      ]
     },
     "execution_count": 16,
     "metadata": {},
     "output_type": "execute_result"
    }
   ],
   "source": [
    "#get sumarizing descriptive statistics of the customers df\n",
    "customers.describe().transpose()"
   ]
  },
  {
   "cell_type": "code",
   "execution_count": 17,
   "metadata": {},
   "outputs": [
    {
     "data": {
      "text/plain": [
       "float64    267\n",
       "int64       94\n",
       "object       8\n",
       "dtype: int64"
      ]
     },
     "execution_count": 17,
     "metadata": {},
     "output_type": "execute_result"
    }
   ],
   "source": [
    "# what data types ocour how often in the df\n",
    "customers.dtypes.value_counts()"
   ]
  },
  {
   "cell_type": "markdown",
   "metadata": {},
   "source": [
    "Comparing Customers to the Azdias data"
   ]
  },
  {
   "cell_type": "code",
   "execution_count": 18,
   "metadata": {},
   "outputs": [
    {
     "name": "stdout",
     "output_type": "stream",
     "text": [
      "Number of columns in azdias:    366\n",
      "Number of columns in customers: 369\n",
      "Columns in customer that do  not exists in azdias:  ['ONLINE_PURCHASE', 'PRODUCT_GROUP', 'CUSTOMER_GROUP']\n"
     ]
    }
   ],
   "source": [
    "# Comparing the columns in azdias and customer\n",
    "print('Number of columns in azdias:   ', azdias.shape[1])\n",
    "print('Number of columns in customers:', customers.shape[1])\n",
    "cols_cust_only = list(set(customers.columns).difference(set(azdias.columns)))\n",
    "print('Columns in customer that do  not exists in azdias: ', cols_cust_only)"
   ]
  },
  {
   "cell_type": "markdown",
   "metadata": {},
   "source": [
    "The Custoemrs datset has the same features like the azdias dataset plus three additional features.\n",
    "Since these are all purchase related features it makes sense, that they donot exist in the dataframe of the non-customers.\n",
    "Since they do not provide any value for comparisom they should be droped later in the processing. "
   ]
  },
  {
   "cell_type": "markdown",
   "metadata": {},
   "source": [
    "#### Missing values "
   ]
  },
  {
   "cell_type": "markdown",
   "metadata": {},
   "source": [
    "##### Azidas Data - Missings in Columns"
   ]
  },
  {
   "cell_type": "code",
   "execution_count": 29,
   "metadata": {},
   "outputs": [
    {
     "name": "stdout",
     "output_type": "stream",
     "text": [
      "There are 366 columns that have 0% or more missings. That are 100.0% of all columns.\n",
      "There are 237 columns that have 10% or more missings. That are 65.0% of all columns.\n",
      "There are 16 columns that have 20% or more missings. That are 4.0% of all columns.\n",
      "There are 6 columns that have 30% or more missings. That are 2.0% of all columns.\n",
      "There are 6 columns that have 40% or more missings. That are 2.0% of all columns.\n",
      "There are 6 columns that have 50% or more missings. That are 2.0% of all columns.\n",
      "There are 6 columns that have 60% or more missings. That are 2.0% of all columns.\n",
      "There are 5 columns that have 70% or more missings. That are 1.0% of all columns.\n",
      "There are 4 columns that have 80% or more missings. That are 1.0% of all columns.\n",
      "There are 4 columns that have 90% or more missings. That are 1.0% of all columns.\n"
     ]
    },
    {
     "data": {
      "image/png": "[encoded data removed]",
      "text/plain": [
       "<Figure size 1440x360 with 1 Axes>"
      ]
     },
     "metadata": {
      "needs_background": "light"
     },
     "output_type": "display_data"
    },
    {
     "data": {
      "image/png": "[encoded data removed]",
      "text/plain": [
       "<Figure size 1440x360 with 1 Axes>"
      ]
     },
     "metadata": {
      "needs_background": "light"
     },
     "output_type": "display_data"
    }
   ],
   "source": [
    "inspect_missings_column(azdias)"
   ]
  },
  {
   "cell_type": "markdown",
   "metadata": {},
   "source": [
    "##### Customers Missing in Columns "
   ]
  },
  {
   "cell_type": "code",
   "execution_count": null,
   "metadata": {},
   "outputs": [],
   "source": [
    "inspect_missings_column(customers)"
   ]
  },
  {
   "cell_type": "markdown",
   "metadata": {},
   "source": [
    "There are 6 columns in the customers and azidas datafram that have more than 30% of missings. \n",
    "Thereby this seems to be a good threshold to drop all columns that have more than 30% of missings. "
   ]
  },
  {
   "cell_type": "markdown",
   "metadata": {},
   "source": [
    "##### AZDIAS Missing in rows"
   ]
  },
  {
   "cell_type": "code",
   "execution_count": 55,
   "metadata": {},
   "outputs": [
    {
     "name": "stdout",
     "output_type": "stream",
     "text": [
      "Looking at the given dataset with a number of bins of  10 \n",
      "140484 of all rows have 10 missings or less, that are 16%. \n",
      "118087 of all rows have 20 missings or less, that are 13%. \n",
      "105805 of all rows have 30 missings or less, that are 12%. \n",
      "99264 of all rows have 40 missings or less, that are 11%. \n",
      "99231 of all rows have 50 missings or less, that are 11%. \n",
      "93168 of all rows have 60 missings or less, that are 10%. \n",
      "17 of all rows have 70 missings or less, that are 0%. \n",
      "0 of all rows have 80 missings or less, that are 0%. \n",
      "0 of all rows have 90 missings or less, that are 0%. \n",
      "0 of all rows have 100 missings or less, that are 0%. \n"
     ]
    },
    {
     "data": {
      "image/png": "[encoded data removed]",
      "text/plain": [
       "<Figure size 1440x360 with 1 Axes>"
      ]
     },
     "metadata": {
      "needs_background": "light"
     },
     "output_type": "display_data"
    }
   ],
   "source": [
    "inspect_missings_row(azdias)"
   ]
  },
  {
   "cell_type": "markdown",
   "metadata": {},
   "source": [
    "##### Custoemrs Missing in rows"
   ]
  },
  {
   "cell_type": "code",
   "execution_count": 56,
   "metadata": {},
   "outputs": [
    {
     "name": "stdout",
     "output_type": "stream",
     "text": [
      "Looking at the given dataset with a number of bins of  10 \n",
      "56574 of all rows have 10 missings or less, that are 30%. \n",
      "52572 of all rows have 20 missings or less, that are 27%. \n",
      "51281 of all rows have 30 missings or less, that are 27%. \n",
      "50763 of all rows have 40 missings or less, that are 26%. \n",
      "50751 of all rows have 50 missings or less, that are 26%. \n",
      "49911 of all rows have 60 missings or less, that are 26%. \n",
      "3 of all rows have 70 missings or less, that are 0%. \n",
      "0 of all rows have 80 missings or less, that are 0%. \n",
      "0 of all rows have 90 missings or less, that are 0%. \n",
      "0 of all rows have 100 missings or less, that are 0%. \n"
     ]
    },
    {
     "data": {
      "image/png": "[encoded data removed]",
      "text/plain": [
       "<Figure size 1440x360 with 1 Axes>"
      ]
     },
     "metadata": {
      "needs_background": "light"
     },
     "output_type": "display_data"
    }
   ],
   "source": [
    "inspect_missings_row(customers)"
   ]
  },
  {
   "cell_type": "markdown",
   "metadata": {},
   "source": [
    "In the azdasi there are olny 17 and in the customer dataset zero obeservations that have more than 70% of missings. \n",
    "However when we relabele the values as stated in the previous section the numbers could change. "
   ]
  },
  {
   "cell_type": "markdown",
   "metadata": {},
   "source": [
    "### 0.3 Develop feature engieering"
   ]
  },
  {
   "cell_type": "markdown",
   "metadata": {},
   "source": [
    "#### Unknown Data Relableling"
   ]
  },
  {
   "cell_type": "code",
   "execution_count": 32,
   "metadata": {},
   "outputs": [
    {
     "name": "stdout",
     "output_type": "stream",
     "text": [
      "===============Changing the Unkown Data to NaNs======================\n",
      "=====================================================================\n",
      "===============Changing the Unkown Data to NaNs======================\n",
      "=====================================================================\n"
     ]
    }
   ],
   "source": [
    "# convert all unknown values from the azdias df to nans \n",
    "azdias_rep = change_unknown_to_nan(azdias) \n",
    "# convert all unknown values from the customers df to nans \n",
    "customers_rep = change_unknown_to_nan(customers) "
   ]
  },
  {
   "cell_type": "markdown",
   "metadata": {},
   "source": [
    "Before handeling missings the data that is labeld as unkown is transformed to NaNs, since it does not hold any mor infroamtion than a missing.\n",
    "Therefore the missings values are standadized. \n"
   ]
  },
  {
   "cell_type": "code",
   "execution_count": 33,
   "metadata": {},
   "outputs": [],
   "source": [
    "#check again for missings after relableing the \"unkown data\""
   ]
  },
  {
   "cell_type": "code",
   "execution_count": 34,
   "metadata": {},
   "outputs": [],
   "source": [
    "# first look at the columns "
   ]
  },
  {
   "cell_type": "code",
   "execution_count": 47,
   "metadata": {},
   "outputs": [
    {
     "name": "stdout",
     "output_type": "stream",
     "text": [
      "There are 366 columns that have 0% or more missings. That are 100.0% of all columns.\n",
      "There are 299 columns that have 10% or more missings. That are 82.0% of all columns.\n",
      "There are 74 columns that have 20% or more missings. That are 20.0% of all columns.\n",
      "There are 65 columns that have 30% or more missings. That are 18.0% of all columns.\n",
      "There are 63 columns that have 40% or more missings. That are 17.0% of all columns.\n",
      "There are 62 columns that have 50% or more missings. That are 17.0% of all columns.\n",
      "There are 57 columns that have 60% or more missings. That are 16.0% of all columns.\n",
      "There are 52 columns that have 70% or more missings. That are 14.0% of all columns.\n",
      "There are 43 columns that have 80% or more missings. That are 12.0% of all columns.\n",
      "There are 25 columns that have 90% or more missings. That are 7.0% of all columns.\n"
     ]
    },
    {
     "data": {
      "image/png": "[encoded data removed]",
      "text/plain": [
       "<Figure size 1440x360 with 1 Axes>"
      ]
     },
     "metadata": {
      "needs_background": "light"
     },
     "output_type": "display_data"
    },
    {
     "data": {
      "image/png": "[encoded data removed]",
      "text/plain": [
       "<Figure size 1440x360 with 1 Axes>"
      ]
     },
     "metadata": {
      "needs_background": "light"
     },
     "output_type": "display_data"
    }
   ],
   "source": [
    "inspect_missings_column(azdias_rep,plot=True)"
   ]
  },
  {
   "cell_type": "code",
   "execution_count": 48,
   "metadata": {},
   "outputs": [
    {
     "name": "stdout",
     "output_type": "stream",
     "text": [
      "There are 369 columns that have 0% or more missings. That are 100.0% of all columns.\n",
      "There are 313 columns that have 10% or more missings. That are 85.0% of all columns.\n",
      "There are 313 columns that have 20% or more missings. That are 85.0% of all columns.\n",
      "There are 67 columns that have 30% or more missings. That are 18.0% of all columns.\n",
      "There are 61 columns that have 40% or more missings. That are 17.0% of all columns.\n",
      "There are 56 columns that have 50% or more missings. That are 15.0% of all columns.\n",
      "There are 49 columns that have 60% or more missings. That are 13.0% of all columns.\n",
      "There are 46 columns that have 70% or more missings. That are 12.0% of all columns.\n",
      "There are 37 columns that have 80% or more missings. That are 10.0% of all columns.\n",
      "There are 22 columns that have 90% or more missings. That are 6.0% of all columns.\n"
     ]
    },
    {
     "data": {
      "image/png": "[encoded data removed]",
      "text/plain": [
       "<Figure size 1440x360 with 1 Axes>"
      ]
     },
     "metadata": {
      "needs_background": "light"
     },
     "output_type": "display_data"
    },
    {
     "data": {
      "image/png": "[encoded data removed]",
      "text/plain": [
       "<Figure size 1440x360 with 1 Axes>"
      ]
     },
     "metadata": {
      "needs_background": "light"
     },
     "output_type": "display_data"
    }
   ],
   "source": [
    "inspect_missings_column(customers_rep,plot=True)"
   ]
  },
  {
   "cell_type": "markdown",
   "metadata": {},
   "source": [
    "Now 52 Columns in the AZDIAS and 46 in the CUSTUMERS dataset have more than 30% missings. \n",
    "In order not to drop to much data the dropping point will be set to 50%.\n",
    "That means 62 columns (16%) and 56(15%) of the columns will be dropped. "
   ]
  },
  {
   "cell_type": "code",
   "execution_count": 37,
   "metadata": {},
   "outputs": [],
   "source": [
    "#Plotting the Row missings stats"
   ]
  },
  {
   "cell_type": "code",
   "execution_count": 58,
   "metadata": {},
   "outputs": [
    {
     "name": "stdout",
     "output_type": "stream",
     "text": [
      "Looking at the given dataset with a number of bins of  10 \n",
      "817232 of all rows have 10 missings or less, that are 92%. \n",
      "217314 of all rows have 20 missings or less, that are 24%. \n",
      "139620 of all rows have 30 missings or less, that are 16%. \n",
      "106212 of all rows have 40 missings or less, that are 12%. \n",
      "103235 of all rows have 50 missings or less, that are 12%. \n",
      "99746 of all rows have 60 missings or less, that are 11%. \n",
      "92402 of all rows have 70 missings or less, that are 10%. \n",
      "76848 of all rows have 80 missings or less, that are 9%. \n",
      "0 of all rows have 90 missings or less, that are 0%. \n",
      "0 of all rows have 100 missings or less, that are 0%. \n"
     ]
    },
    {
     "data": {
      "image/png": "[encoded data removed]",
      "text/plain": [
       "<Figure size 1440x360 with 1 Axes>"
      ]
     },
     "metadata": {
      "needs_background": "light"
     },
     "output_type": "display_data"
    }
   ],
   "source": [
    "inspect_missings_row(azdias_rep,plot=False)"
   ]
  },
  {
   "cell_type": "code",
   "execution_count": 59,
   "metadata": {},
   "outputs": [
    {
     "name": "stdout",
     "output_type": "stream",
     "text": [
      "Looking at the given dataset with a number of bins of  10 \n",
      "165976 of all rows have 10 missings or less, that are 87%. \n",
      "58608 of all rows have 20 missings or less, that are 31%. \n",
      "54588 of all rows have 30 missings or less, that are 28%. \n",
      "51287 of all rows have 40 missings or less, that are 27%. \n",
      "50866 of all rows have 50 missings or less, that are 27%. \n",
      "50732 of all rows have 60 missings or less, that are 26%. \n",
      "49151 of all rows have 70 missings or less, that are 26%. \n",
      "46622 of all rows have 80 missings or less, that are 24%. \n",
      "0 of all rows have 90 missings or less, that are 0%. \n",
      "0 of all rows have 100 missings or less, that are 0%. \n"
     ]
    },
    {
     "data": {
      "image/png": "[encoded data removed]",
      "text/plain": [
       "<Figure size 1440x360 with 1 Axes>"
      ]
     },
     "metadata": {
      "needs_background": "light"
     },
     "output_type": "display_data"
    }
   ],
   "source": [
    "inspect_missings_row(customers_rep,plot=False)"
   ]
  },
  {
   "cell_type": "markdown",
   "metadata": {},
   "source": [
    "By looking at the rows having 70% still seams to be a reasonable threshold. \n",
    "That means dropping 76848 (9%) from AZIDAS and 46622 (24%) of the observations from CUSTOMERS."
   ]
  },
  {
   "cell_type": "markdown",
   "metadata": {},
   "source": [
    "#### Droping Columns and Rows based on their missings"
   ]
  },
  {
   "cell_type": "markdown",
   "metadata": {},
   "source": [
    "The first step of handeling missings is to look for columns and rows that have a so many missings that it would make snese to rather drop themm instead of imputing them."
   ]
  },
  {
   "cell_type": "code",
   "execution_count": 60,
   "metadata": {},
   "outputs": [
    {
     "name": "stdout",
     "output_type": "stream",
     "text": [
      "============Remiving Columns and Rows with to many NaNs==============\n",
      "---------Remove columns with more than 50% missings------------\n",
      "The shape of the old dataframe: (891221, 366)\n",
      "The shape of the new dataframe: (891221, 304)\n",
      "62 columns have been removed from the dataframe.\n",
      "----------------------------------------------------------------\n",
      "---------Remove rows with more than 80% missings------------\n",
      "The shape of the old dataframe: (891221, 304)\n",
      "The shape of the new dataframe: (817688, 304)\n",
      "73533 rows have been removed from the dataframe.\n"
     ]
    }
   ],
   "source": [
    "azdias_nan = rem_nas(azdias_rep)"
   ]
  },
  {
   "cell_type": "markdown",
   "metadata": {},
   "source": [
    "#### Impute the rest of the missing values"
   ]
  },
  {
   "cell_type": "markdown",
   "metadata": {},
   "source": [
    "The imputaion shpuld takte the variables type into account. \n",
    "The datasets mostly consitst of categorical but also ordinal and continus numerical features. \n",
    "For a lot of the features there exists an \"neutral\" element such as \"none\" or \"no treansactions known\" these are often either coded as a zero or ten. So the in the first part I will impute the nans of these features the this. \n"
   ]
  },
  {
   "cell_type": "code",
   "execution_count": 61,
   "metadata": {},
   "outputs": [
    {
     "name": "stdout",
     "output_type": "stream",
     "text": [
      "====================Data Imputation================================\n",
      "Col D19_BANKEN_DATUM no in the df anymore.\n",
      "Col D19_BANKEN_OFFLINE_DATUM no in the df anymore.\n",
      "Col D19_BANKEN_ONLINE_DATUM no in the df anymore.\n",
      "Col D19_GESAMT_OFFLINE_DATUM no in the df anymore.\n",
      "Col D19_GESAMT_ONLINE_DATUM no in the df anymore.\n",
      "Col D19_TELKO_DATUM no in the df anymore.\n",
      "Col D19_TELKO_OFFLINE_DATUM no in the df anymore.\n",
      "Col D19_TELKO_ONLINE_DATUM no in the df anymore.\n",
      "Col D19_VERSAND_OFFLINE_DATUM no in the df anymore.\n",
      "Col D19_VERSAND_ONLINE_DATUM no in the df anymore.\n",
      "Imputing 10er Values is done.\n",
      "Imputing 9er Values is done.\n",
      "Imputing Mean Values is done. \n",
      "Imputing most frequent values is done.\n",
      "The rest of the columns are imputed with a zero. \n",
      "=====================================================================\n"
     ]
    }
   ],
   "source": [
    "az_imp = impute_missings(azdias_nan)"
   ]
  },
  {
   "cell_type": "code",
   "execution_count": 62,
   "metadata": {},
   "outputs": [
    {
     "data": {
      "text/plain": [
       "0.0"
      ]
     },
     "execution_count": 62,
     "metadata": {},
     "output_type": "execute_result"
    }
   ],
   "source": [
    "#checking if missings left \n",
    "az_imp.isna().mean().sum()"
   ]
  },
  {
   "cell_type": "code",
   "execution_count": 63,
   "metadata": {},
   "outputs": [
    {
     "data": {
      "text/html": [
       "<div>\n",
       "<style scoped>\n",
       "    .dataframe tbody tr th:only-of-type {\n",
       "        vertical-align: middle;\n",
       "    }\n",
       "\n",
       "    .dataframe tbody tr th {\n",
       "        vertical-align: top;\n",
       "    }\n",
       "\n",
       "    .dataframe thead th {\n",
       "        text-align: right;\n",
       "    }\n",
       "</style>\n",
       "<table border=\"1\" class=\"dataframe\">\n",
       "  <thead>\n",
       "    <tr style=\"text-align: right;\">\n",
       "      <th></th>\n",
       "      <th>CAMEO_DEU_2015</th>\n",
       "      <th>CAMEO_DEUG_2015</th>\n",
       "      <th>CAMEO_INTL_2015</th>\n",
       "      <th>D19_LETZTER_KAUF_BRANCHE</th>\n",
       "      <th>EINGEFUEGT_AM</th>\n",
       "      <th>OST_WEST_KZ</th>\n",
       "    </tr>\n",
       "  </thead>\n",
       "  <tbody>\n",
       "    <tr>\n",
       "      <th>1</th>\n",
       "      <td>8A</td>\n",
       "      <td>8</td>\n",
       "      <td>51</td>\n",
       "      <td>D19_UNBEKANNT</td>\n",
       "      <td>1992-02-10 00:00:00</td>\n",
       "      <td>W</td>\n",
       "    </tr>\n",
       "    <tr>\n",
       "      <th>2</th>\n",
       "      <td>4C</td>\n",
       "      <td>4</td>\n",
       "      <td>24</td>\n",
       "      <td>D19_UNBEKANNT</td>\n",
       "      <td>1992-02-12 00:00:00</td>\n",
       "      <td>W</td>\n",
       "    </tr>\n",
       "    <tr>\n",
       "      <th>3</th>\n",
       "      <td>2A</td>\n",
       "      <td>2</td>\n",
       "      <td>12</td>\n",
       "      <td>D19_UNBEKANNT</td>\n",
       "      <td>1997-04-21 00:00:00</td>\n",
       "      <td>W</td>\n",
       "    </tr>\n",
       "    <tr>\n",
       "      <th>4</th>\n",
       "      <td>6B</td>\n",
       "      <td>6</td>\n",
       "      <td>43</td>\n",
       "      <td>D19_SCHUHE</td>\n",
       "      <td>1992-02-12 00:00:00</td>\n",
       "      <td>W</td>\n",
       "    </tr>\n",
       "    <tr>\n",
       "      <th>5</th>\n",
       "      <td>8C</td>\n",
       "      <td>8</td>\n",
       "      <td>54</td>\n",
       "      <td>D19_ENERGIE</td>\n",
       "      <td>1992-02-12 00:00:00</td>\n",
       "      <td>W</td>\n",
       "    </tr>\n",
       "    <tr>\n",
       "      <th>...</th>\n",
       "      <td>...</td>\n",
       "      <td>...</td>\n",
       "      <td>...</td>\n",
       "      <td>...</td>\n",
       "      <td>...</td>\n",
       "      <td>...</td>\n",
       "    </tr>\n",
       "    <tr>\n",
       "      <th>891216</th>\n",
       "      <td>7A</td>\n",
       "      <td>7</td>\n",
       "      <td>41</td>\n",
       "      <td>D19_HAUS_DEKO</td>\n",
       "      <td>1992-02-10 00:00:00</td>\n",
       "      <td>W</td>\n",
       "    </tr>\n",
       "    <tr>\n",
       "      <th>891217</th>\n",
       "      <td>9D</td>\n",
       "      <td>9</td>\n",
       "      <td>51</td>\n",
       "      <td>D19_UNBEKANNT</td>\n",
       "      <td>1992-02-10 00:00:00</td>\n",
       "      <td>W</td>\n",
       "    </tr>\n",
       "    <tr>\n",
       "      <th>891218</th>\n",
       "      <td>4C</td>\n",
       "      <td>4</td>\n",
       "      <td>24</td>\n",
       "      <td>D19_BEKLEIDUNG_GEH</td>\n",
       "      <td>1992-02-10 00:00:00</td>\n",
       "      <td>W</td>\n",
       "    </tr>\n",
       "    <tr>\n",
       "      <th>891219</th>\n",
       "      <td>9D</td>\n",
       "      <td>9</td>\n",
       "      <td>51</td>\n",
       "      <td>D19_UNBEKANNT</td>\n",
       "      <td>1992-02-12 00:00:00</td>\n",
       "      <td>W</td>\n",
       "    </tr>\n",
       "    <tr>\n",
       "      <th>891220</th>\n",
       "      <td>6B</td>\n",
       "      <td>6</td>\n",
       "      <td>43</td>\n",
       "      <td>D19_UNBEKANNT</td>\n",
       "      <td>1992-02-10 00:00:00</td>\n",
       "      <td>W</td>\n",
       "    </tr>\n",
       "  </tbody>\n",
       "</table>\n",
       "<p>817688 rows × 6 columns</p>\n",
       "</div>"
      ],
      "text/plain": [
       "       CAMEO_DEU_2015 CAMEO_DEUG_2015 CAMEO_INTL_2015  \\\n",
       "1                  8A               8              51   \n",
       "2                  4C               4              24   \n",
       "3                  2A               2              12   \n",
       "4                  6B               6              43   \n",
       "5                  8C               8              54   \n",
       "...               ...             ...             ...   \n",
       "891216             7A               7              41   \n",
       "891217             9D               9              51   \n",
       "891218             4C               4              24   \n",
       "891219             9D               9              51   \n",
       "891220             6B               6              43   \n",
       "\n",
       "       D19_LETZTER_KAUF_BRANCHE        EINGEFUEGT_AM OST_WEST_KZ  \n",
       "1                 D19_UNBEKANNT  1992-02-10 00:00:00           W  \n",
       "2                 D19_UNBEKANNT  1992-02-12 00:00:00           W  \n",
       "3                 D19_UNBEKANNT  1997-04-21 00:00:00           W  \n",
       "4                    D19_SCHUHE  1992-02-12 00:00:00           W  \n",
       "5                   D19_ENERGIE  1992-02-12 00:00:00           W  \n",
       "...                         ...                  ...         ...  \n",
       "891216            D19_HAUS_DEKO  1992-02-10 00:00:00           W  \n",
       "891217            D19_UNBEKANNT  1992-02-10 00:00:00           W  \n",
       "891218       D19_BEKLEIDUNG_GEH  1992-02-10 00:00:00           W  \n",
       "891219            D19_UNBEKANNT  1992-02-12 00:00:00           W  \n",
       "891220            D19_UNBEKANNT  1992-02-10 00:00:00           W  \n",
       "\n",
       "[817688 rows x 6 columns]"
      ]
     },
     "execution_count": 63,
     "metadata": {},
     "output_type": "execute_result"
    }
   ],
   "source": [
    "# checking whichb colums are of thype object\n",
    "az_imp.select_dtypes(include='object')"
   ]
  },
  {
   "cell_type": "markdown",
   "metadata": {},
   "source": [
    "#### Encoding of the differnt Varibales"
   ]
  },
  {
   "cell_type": "markdown",
   "metadata": {},
   "source": [
    "The remaining six columns must me encoded since they are one-hot encoded.\n",
    "Here however it could be beneficial to investigate the data for even more catigorical data that are not labeld as such yet.\n",
    "In this work is was assumed that most of the data is ordnial data and thereby must not be further encoded. \n"
   ]
  },
  {
   "cell_type": "code",
   "execution_count": 64,
   "metadata": {},
   "outputs": [
    {
     "name": "stdout",
     "output_type": "stream",
     "text": [
      "CAMEO_DEU_2015 :  44\n",
      "CAMEO_DEUG_2015 :  9\n",
      "CAMEO_INTL_2015 :  22\n",
      "D19_LETZTER_KAUF_BRANCHE :  35\n",
      "EINGEFUEGT_AM :  5162\n",
      "OST_WEST_KZ :  3\n"
     ]
    }
   ],
   "source": [
    "#checking the cardinality before applying one-hot encoding\n",
    "for c in az_imp.select_dtypes(include='object').columns:\n",
    "    print(c,\": \",len(az_imp[c].value_counts()))"
   ]
  },
  {
   "cell_type": "markdown",
   "metadata": {},
   "source": [
    "The check shows that the column 'EINGEFUEGT_AM' must not be one-hot-encoded, since it is a data column wich would explode the data. \n",
    "It can be either furher processed or dropped, wich i decided for. "
   ]
  },
  {
   "cell_type": "code",
   "execution_count": 65,
   "metadata": {},
   "outputs": [
    {
     "name": "stdout",
     "output_type": "stream",
     "text": [
      "Index(['CAMEO_DEU_2015', 'CAMEO_DEUG_2015', 'CAMEO_INTL_2015',\n",
      "       'D19_LETZTER_KAUF_BRANCHE', 'EINGEFUEGT_AM', 'OST_WEST_KZ'],\n",
      "      dtype='object')\n",
      "Encode: CAMEO_DEU_2015\n",
      "Encode: CAMEO_DEUG_2015\n",
      "Encode: CAMEO_INTL_2015\n",
      "Encode: D19_LETZTER_KAUF_BRANCHE\n",
      "Column  EINGEFUEGT_AM  not found.\n",
      "Encode: OST_WEST_KZ\n"
     ]
    }
   ],
   "source": [
    "az_enc = encode_data(az_imp)"
   ]
  },
  {
   "cell_type": "code",
   "execution_count": 66,
   "metadata": {},
   "outputs": [
    {
     "data": {
      "text/plain": [
       "(817688, 406)"
      ]
     },
     "execution_count": 66,
     "metadata": {},
     "output_type": "execute_result"
    }
   ],
   "source": [
    "az_enc.shape"
   ]
  },
  {
   "cell_type": "markdown",
   "metadata": {},
   "source": [
    "### 0.4) Fetaure Eng. Pipeline"
   ]
  },
  {
   "cell_type": "markdown",
   "metadata": {},
   "source": [
    "Finally all the above steps are comined into a data preperation pipeline wich is used in the following. "
   ]
  },
  {
   "cell_type": "code",
   "execution_count": 368,
   "metadata": {},
   "outputs": [],
   "source": [
    "def data_load_and_prep(file_path, score_mode = False):\n",
    "    '''\n",
    "    This functions loads the csv files into python and provides all the transforamtion on the data that have been shown above.\n",
    "    Finally it outputs a cleaned dataframe that can be used for machine learning algorithmes\n",
    "    \n",
    "    1.) The dataset is loaded into python \n",
    "    2.) Change the unknown values to nan values\n",
    "    2.) Missings values are handeld by dropping some colums and rows \n",
    "    3.) Missing values are handeld by appropriate imputaiomn\n",
    "    4.) Thte data is ecoded \n",
    "    \n",
    "    '''\n",
    "    \n",
    "    \n",
    "    # 1) Load the data into python\n",
    "     \n",
    "    dt = {'CAMEO_INTL_2015': object , 'CAMEO_DEUG_2015': object}\n",
    "    df = pd.read_csv(file_path, sep=';', dtype=dtypes)\n",
    "    \n",
    "    #drop some columns that are not needed \n",
    "    dro = ['CUSTOMER_GROUP','ONLINE_PURCHASE','PRODUCT_GROUP']\n",
    "    for c in dro:\n",
    "        try:\n",
    "            df.drop(c,axis=1, inplace = True)\n",
    "            print('Drop ',c,' from customers dataset.')\n",
    "        except:\n",
    "            print('Column ',c,' was not in the df.')\n",
    "                \n",
    "    if score_mode==False: \n",
    "        df.drop(['LNR'],axis=1, inplace = True) \n",
    "    else: print('LNR is keept for scoring')\n",
    "        \n",
    "    # 2) Change all the values taht are labeld as unkowns in the description file to nan values\n",
    "    df = change_unknown_to_nan(df)\n",
    "    \n",
    "    # 3) Drop colmuns and rows wich exceed a the threshold of 30% of missings\n",
    "    if score_mode == True:\n",
    "        tresh_row = 1\n",
    "    else: tresh_row=0.8\n",
    "        \n",
    "    df = rem_nas(df,thresh_row = tresh_row)\n",
    "    \n",
    "    # 4) Impute the rest of the missings using appropirate strategies \n",
    "    df = impute_missings(df)\n",
    "    \n",
    "    # 5) Encode the objects to numericals \n",
    "    df_enc = encode_data(df)\n",
    "    \n",
    "    return df_enc \n",
    "    "
   ]
  },
  {
   "cell_type": "code",
   "execution_count": 68,
   "metadata": {},
   "outputs": [
    {
     "name": "stdout",
     "output_type": "stream",
     "text": [
      "Drop  CUSTOMER_GROUP  from customers dataset.\n",
      "Drop  ONLINE_PURCHASE  from customers dataset.\n",
      "Drop  PRODUCT_GROUP  from customers dataset.\n",
      "LNR Column is droped from the data.\n",
      "===============Changing the Unkown Data to NaNs======================\n",
      "=====================================================================\n",
      "============Remiving Columns and Rows with to many NaNs==============\n",
      "---------Remove columns with more than 50% missings------------\n",
      "The shape of the old dataframe: (191652, 365)\n",
      "The shape of the new dataframe: (191652, 309)\n",
      "56 columns have been removed from the dataframe.\n",
      "----------------------------------------------------------------\n",
      "---------Remove rows with more than 80% missings------------\n",
      "The shape of the old dataframe: (191652, 309)\n",
      "The shape of the new dataframe: (145036, 309)\n",
      "46616 rows have been removed from the dataframe.\n",
      "====================Data Imputation================================\n",
      "Col D19_BANKEN_DATUM no in the df anymore.\n",
      "Col D19_BANKEN_OFFLINE_DATUM no in the df anymore.\n",
      "Col D19_BANKEN_ONLINE_DATUM no in the df anymore.\n",
      "Col D19_TELKO_DATUM no in the df anymore.\n",
      "Col D19_TELKO_OFFLINE_DATUM no in the df anymore.\n",
      "Col D19_TELKO_ONLINE_DATUM no in the df anymore.\n",
      "Col D19_VERSAND_OFFLINE_DATUM no in the df anymore.\n",
      "Col D19_VERSAND_ONLINE_DATUM no in the df anymore.\n",
      "Imputing 10er Values is done.\n",
      "Imputing 9er Values is done.\n",
      "Imputing Mean Values is done. \n",
      "Imputing most frequent values is done.\n",
      "The rest of the columns are imputed with a zero. \n",
      "=====================================================================\n",
      "Index(['CAMEO_DEU_2015', 'CAMEO_DEUG_2015', 'CAMEO_INTL_2015',\n",
      "       'D19_LETZTER_KAUF_BRANCHE', 'EINGEFUEGT_AM', 'OST_WEST_KZ'],\n",
      "      dtype='object')\n",
      "Encode: CAMEO_DEU_2015\n",
      "Encode: CAMEO_DEUG_2015\n",
      "Encode: CAMEO_INTL_2015\n",
      "Encode: D19_LETZTER_KAUF_BRANCHE\n",
      "Column  EINGEFUEGT_AM  not found.\n",
      "Encode: OST_WEST_KZ\n"
     ]
    }
   ],
   "source": [
    "# load an process the customers dataframe \n",
    "cu_enc = data_load_and_prep('data/Udacity_CUSTOMERS_052018.csv')"
   ]
  },
  {
   "cell_type": "code",
   "execution_count": 69,
   "metadata": {},
   "outputs": [
    {
     "data": {
      "text/plain": [
       "(145036, 411)"
      ]
     },
     "execution_count": 69,
     "metadata": {},
     "output_type": "execute_result"
    }
   ],
   "source": [
    "cu_enc.shape"
   ]
  },
  {
   "cell_type": "code",
   "execution_count": 70,
   "metadata": {
    "collapsed": true,
    "jupyter": {
     "outputs_hidden": true
    }
   },
   "outputs": [
    {
     "name": "stdout",
     "output_type": "stream",
     "text": [
      "Column  CUSTOMER_GROUP  was not in the df.\n",
      "Column  ONLINE_PURCHASE  was not in the df.\n",
      "Column  PRODUCT_GROUP  was not in the df.\n",
      "LNR Column is droped from the data.\n",
      "===============Changing the Unkown Data to NaNs======================\n",
      "=====================================================================\n",
      "============Remiving Columns and Rows with to many NaNs==============\n",
      "---------Remove columns with more than 50% missings------------\n",
      "The shape of the old dataframe: (891221, 365)\n",
      "The shape of the new dataframe: (891221, 303)\n",
      "62 columns have been removed from the dataframe.\n",
      "----------------------------------------------------------------\n",
      "---------Remove rows with more than 80% missings------------\n",
      "The shape of the old dataframe: (891221, 303)\n",
      "The shape of the new dataframe: (817673, 303)\n",
      "73548 rows have been removed from the dataframe.\n",
      "====================Data Imputation================================\n",
      "Col D19_BANKEN_DATUM no in the df anymore.\n",
      "Col D19_BANKEN_OFFLINE_DATUM no in the df anymore.\n",
      "Col D19_BANKEN_ONLINE_DATUM no in the df anymore.\n",
      "Col D19_GESAMT_OFFLINE_DATUM no in the df anymore.\n",
      "Col D19_GESAMT_ONLINE_DATUM no in the df anymore.\n",
      "Col D19_TELKO_DATUM no in the df anymore.\n",
      "Col D19_TELKO_OFFLINE_DATUM no in the df anymore.\n",
      "Col D19_TELKO_ONLINE_DATUM no in the df anymore.\n",
      "Col D19_VERSAND_OFFLINE_DATUM no in the df anymore.\n",
      "Col D19_VERSAND_ONLINE_DATUM no in the df anymore.\n",
      "Imputing 10er Values is done.\n",
      "Imputing 9er Values is done.\n",
      "Imputing Mean Values is done. \n",
      "Imputing most frequent values is done.\n",
      "The rest of the columns are imputed with a zero. \n",
      "=====================================================================\n",
      "Index(['CAMEO_DEU_2015', 'CAMEO_DEUG_2015', 'CAMEO_INTL_2015',\n",
      "       'D19_LETZTER_KAUF_BRANCHE', 'EINGEFUEGT_AM', 'OST_WEST_KZ'],\n",
      "      dtype='object')\n",
      "Encode: CAMEO_DEU_2015\n",
      "Encode: CAMEO_DEUG_2015\n",
      "Encode: CAMEO_INTL_2015\n",
      "Encode: D19_LETZTER_KAUF_BRANCHE\n",
      "Column  EINGEFUEGT_AM  not found.\n",
      "Encode: OST_WEST_KZ\n"
     ]
    }
   ],
   "source": [
    "az_enc = data_load_and_prep('data/Udacity_AZDIAS_052018.csv')"
   ]
  },
  {
   "cell_type": "code",
   "execution_count": 78,
   "metadata": {},
   "outputs": [
    {
     "data": {
      "text/plain": [
       "(817673, 405)"
      ]
     },
     "execution_count": 78,
     "metadata": {},
     "output_type": "execute_result"
    }
   ],
   "source": [
    "az_enc.shape"
   ]
  },
  {
   "cell_type": "markdown",
   "metadata": {},
   "source": [
    "## Part 1: Customer Segmentation Report\n",
    "\n",
    "The main bulk of your analysis will come in this part of the project. Here, you should use unsupervised learning techniques to describe the relationship between the demographics of the company's existing customers and the general population of Germany. By the end of this part, you should be able to describe parts of the general population that are more likely to be part of the mail-order company's main customer base, and which parts of the general population are less so."
   ]
  },
  {
   "cell_type": "markdown",
   "metadata": {},
   "source": [
    "### 1.1 PCA as preperation "
   ]
  },
  {
   "cell_type": "markdown",
   "metadata": {},
   "source": [
    "Since there are still more than 400 columns in the datasets, PCA is conducted in order do lower the dimesnions of the datasets. This article served as a rough guidence. "
   ]
  },
  {
   "cell_type": "code",
   "execution_count": 79,
   "metadata": {},
   "outputs": [],
   "source": [
    "#find common columns in azdias and customwers \n",
    "comon_cols = np.intersect1d(cu_enc.columns, az_enc.columns )\n",
    "drop_azdias = np.setdiff1d(az_enc.columns, comon_cols)\n",
    "drop_customers = np.setdiff1d(cu_enc.columns, comon_cols)\n",
    "\n",
    "az_enc.drop(drop_azdias,axis=1,inplace = True)\n",
    "cu_enc.drop(drop_customers,axis=1,inplace=True)"
   ]
  },
  {
   "cell_type": "code",
   "execution_count": 80,
   "metadata": {},
   "outputs": [
    {
     "data": {
      "text/plain": [
       "(817673, 405)"
      ]
     },
     "execution_count": 80,
     "metadata": {},
     "output_type": "execute_result"
    }
   ],
   "source": [
    "az_enc.shape"
   ]
  },
  {
   "cell_type": "code",
   "execution_count": 81,
   "metadata": {},
   "outputs": [
    {
     "data": {
      "text/plain": [
       "(145036, 405)"
      ]
     },
     "execution_count": 81,
     "metadata": {},
     "output_type": "execute_result"
    }
   ],
   "source": [
    "cu_enc.shape"
   ]
  },
  {
   "cell_type": "code",
   "execution_count": 82,
   "metadata": {},
   "outputs": [],
   "source": [
    "def learn_principal_components(df, percent):\n",
    "    '''\n",
    "    This method lerns a PCA based for a given df and a percentage. \n",
    "    \n",
    "    Input:\n",
    "        df- a data frame the pca should be applyed to \n",
    "        float- a nuber between 0 and 1 indicating what percentage of the variance should be preserved\n",
    "    Output\n",
    "    \n",
    "    '''\n",
    "    \n",
    "    # Bring data into standard form \n",
    "    scaled_df = StandardScaler().fit_transform(df)\n",
    "    \n",
    "    # pca \n",
    "    pca = PCA(n_components=df.shape[1], random_state=42) \n",
    "    pca.fit(scaled_df)     \n",
    "    \n",
    "    # percentage of variance explained by each pc  \n",
    "    weight_pca = pca.explained_variance_ratio_\n",
    "    perc_pca = np.cumsum(weight_pca)\n",
    "    \n",
    "    # Minimum number of principal components that perserves more than number of the given percentage of variance of df\n",
    "    num_pca = np.where(perc_pca>=percent)[0][0]\n",
    "    \n",
    "    # PCA transform scaled df to pca\n",
    "    pca = PCA(n_components=num_pca, random_state=42) \n",
    "    principal_components = pca.fit_transform(scaled_df) \n",
    "    df_principal= pd.DataFrame(principal_components)\n",
    "    \n",
    "    # Plot PCA results with number of PCs and their explained variability\n",
    "    plt.figure(figsize=(10,5))\n",
    "    plt.plot(perc_pca, color='b')\n",
    "    plt.xlabel('Number Principal Components')\n",
    "    plt.ylabel('Explained Variability')\n",
    "    plt.xlim(0, df.shape[1])\n",
    "    plt.show();\n",
    "    print('The PCA with {}% variance results into keeping {} features.'.format(percent*100,num_pca))\n",
    "               \n",
    "    return df_principal, num_pca, pca\n",
    "\n",
    "\n",
    "\n",
    "\n",
    "\n",
    "def apply_pca(df, n_components):\n",
    "    '''\n",
    "    This function learns a PCA to a new dataset with a given number of components. \n",
    "    \n",
    "    Input:df (df)- dataframe that pca should ba applied to \n",
    "        int (n_components)- number how many components shall be procuded\n",
    "    '''\n",
    "    \n",
    "    scaled_df = StandardScaler().fit_transform(df)\n",
    "\n",
    "    pca = PCA(n_components=n_components)\n",
    "    pca.fit(scaled_df)\n",
    "    df_pca = pd.DataFrame(pca.transform(scaled_df))\n",
    "    return df_pca\n"
   ]
  },
  {
   "cell_type": "code",
   "execution_count": 84,
   "metadata": {},
   "outputs": [
    {
     "data": {
      "image/png": "[encoded data removed]",
      "text/plain": [
       "<Figure size 720x360 with 1 Axes>"
      ]
     },
     "metadata": {
      "needs_background": "light"
     },
     "output_type": "display_data"
    },
    {
     "name": "stdout",
     "output_type": "stream",
     "text": [
      "The PCA with 90.0% variance results into keeping 182 features.\n"
     ]
    }
   ],
   "source": [
    "azdias_pca, num_pca, pca = learn_principal_components(az_enc, percent=0.9)"
   ]
  },
  {
   "cell_type": "markdown",
   "metadata": {},
   "source": [
    "By applying PCA to the data 182 features of the 405 are able to describe 90% of the variance. "
   ]
  },
  {
   "cell_type": "code",
   "execution_count": null,
   "metadata": {},
   "outputs": [],
   "source": [
    "#Plot some numbers about the PCA"
   ]
  },
  {
   "cell_type": "code",
   "execution_count": 85,
   "metadata": {},
   "outputs": [],
   "source": [
    "top_pc = pca.explained_variance_ratio_[:10]"
   ]
  },
  {
   "cell_type": "code",
   "execution_count": 86,
   "metadata": {},
   "outputs": [
    {
     "name": "stdout",
     "output_type": "stream",
     "text": [
      "The  1 th compomnent explaines 10.0 % of the variance.\n",
      "The  2 th compomnent explaines 6.0 % of the variance.\n",
      "The  3 th compomnent explaines 4.0 % of the variance.\n",
      "The  4 th compomnent explaines 4.0 % of the variance.\n",
      "The  5 th compomnent explaines 3.0 % of the variance.\n",
      "The  6 th compomnent explaines 2.0 % of the variance.\n",
      "The  7 th compomnent explaines 2.0 % of the variance.\n",
      "The  8 th compomnent explaines 2.0 % of the variance.\n",
      "The  9 th compomnent explaines 1.0 % of the variance.\n",
      "The  10 th compomnent explaines 1.0 % of the variance.\n",
      "The accumulated explained variance is  34.43 %.\n"
     ]
    }
   ],
   "source": [
    "i = 0\n",
    "accumulated = 0\n",
    "for v in top_pc:\n",
    "    i = i+1\n",
    "    print('The ',i, 'th compomnent explaines',round(v*100,) ,'% of the variance.')\n",
    "    accumulated = accumulated +v \n",
    "    \n",
    "print('The accumulated explained variance is ',round(accumulated*100,2),'%.')"
   ]
  },
  {
   "cell_type": "markdown",
   "metadata": {},
   "source": [
    " 34% of the variance can be explained by the top 10 principal components. "
   ]
  },
  {
   "cell_type": "code",
   "execution_count": 89,
   "metadata": {},
   "outputs": [],
   "source": [
    "def get_pca_features(pca, num_comp = 3):\n",
    "    for c in np.arange(0,num_comp):\n",
    "        weight = pca.components_[0]\n",
    "        df_features = pd.DataFrame(weights_array, index = column_names, columns=['weight'])\n",
    "    return df_features.sort_values(by='weight', ascending=False).round(2)"
   ]
  },
  {
   "cell_type": "markdown",
   "metadata": {},
   "source": [
    "#### Perfrom PCA on customers dataframe"
   ]
  },
  {
   "cell_type": "code",
   "execution_count": 93,
   "metadata": {},
   "outputs": [],
   "source": [
    "# Perform the prviously learnd PCA on the customers datapca on the customer dataset\n",
    "cu_std = StandardScaler().fit_transform(cu_enc)\n",
    "customers_pca = pca.transform(cu_std)"
   ]
  },
  {
   "cell_type": "markdown",
   "metadata": {},
   "source": [
    "Now the PCA is completed on both dataframes. To explain 90% of variance 182 principal cpmponents are needed and thereby keept. \n",
    "In the following thy will be used to perfrom a clustering on the data. "
   ]
  },
  {
   "cell_type": "markdown",
   "metadata": {},
   "source": [
    "### 2.2.Perform Clsutering "
   ]
  },
  {
   "cell_type": "code",
   "execution_count": 94,
   "metadata": {},
   "outputs": [],
   "source": [
    "def kmean_clsuter_evaluation(df, cluster_min = 2, cluster_max = 20):\n",
    "    '''\n",
    "    INPUT \n",
    "    df - pandas dataframe to train k-means on \n",
    "    \n",
    "    OUTPUT\n",
    "    None\n",
    "    \n",
    "    This function display elbow plot for k-mean clustering on dataframe. \n",
    "    \n",
    "    '''\n",
    "    Sum_of_squared_distances = []\n",
    "    \n",
    "    for k in range(cluster_min, cluster_max + 1):\n",
    "        # run k-means clustering\n",
    "        k_means = KMeans(n_clusters=k, random_state=0).fit(df)\n",
    "        # Record sum of squared distances of samples to the nearest cluster center\n",
    "        Sum_of_squared_distances.append(k_means.inertia_)\n",
    "        print('-----Computing Cluster No. {} ------'.format(k))\n",
    "       \n",
    "\n",
    "    #The elbow method as a first evaluation metic \n",
    "    plt.figure(figsize = (10,5))\n",
    "    plt.plot(range(cluster_min, cluster_max + 1), Sum_of_squared_distances, marker='o', linestyle='--')\n",
    "    plt.xlabel('Number of Clusters')\n",
    "    plt.ylabel('Sum of squared distances')\n",
    "    plt.title('K-Means with PCA Clustering')\n",
    "    plt.show()\n",
    "    "
   ]
  },
  {
   "cell_type": "code",
   "execution_count": 95,
   "metadata": {},
   "outputs": [
    {
     "name": "stdout",
     "output_type": "stream",
     "text": [
      "-----Computing Cluster No. 2 ------\n",
      "-----Computing Cluster No. 3 ------\n",
      "-----Computing Cluster No. 4 ------\n",
      "-----Computing Cluster No. 5 ------\n",
      "-----Computing Cluster No. 6 ------\n",
      "-----Computing Cluster No. 7 ------\n",
      "-----Computing Cluster No. 8 ------\n",
      "-----Computing Cluster No. 9 ------\n",
      "-----Computing Cluster No. 10 ------\n",
      "-----Computing Cluster No. 11 ------\n",
      "-----Computing Cluster No. 12 ------\n",
      "-----Computing Cluster No. 13 ------\n",
      "-----Computing Cluster No. 14 ------\n",
      "-----Computing Cluster No. 15 ------\n",
      "-----Computing Cluster No. 16 ------\n",
      "-----Computing Cluster No. 17 ------\n",
      "-----Computing Cluster No. 18 ------\n",
      "-----Computing Cluster No. 19 ------\n",
      "-----Computing Cluster No. 20 ------\n"
     ]
    },
    {
     "data": {
      "image/png": "[encoded data removed]",
      "text/plain": [
       "<Figure size 720x360 with 1 Axes>"
      ]
     },
     "metadata": {
      "needs_background": "light"
     },
     "output_type": "display_data"
    }
   ],
   "source": [
    "#compute k-means clsutering to find the optimal number of clusters\n",
    "kmean_clsuter_evaluation(azdias_pca, cluster_max = 20)"
   ]
  },
  {
   "cell_type": "markdown",
   "metadata": {},
   "source": [
    "Though the ellbow is not very clearly identifiable it shows that the clustering should be done with 12-15 Clsuters\n",
    "In this case 13 Clsuters seem to be a reasonabale chloice. \n",
    "\n",
    "- PCA-Components = 182\n",
    "- Number of Cluster = 13"
   ]
  },
  {
   "cell_type": "code",
   "execution_count": 96,
   "metadata": {},
   "outputs": [],
   "source": [
    "# Train & fit K-Means on the azdias dataset with the previously evaluated ideal number of clusters\n",
    "kmeans = KMeans(n_clusters=13, random_state=42)\n",
    "km_model = kmeans.fit(azdias_pca)\n",
    "\n",
    "azdias_cluster = pd.DataFrame(km_model.predict(azdias_pca), columns=['cluster'])"
   ]
  },
  {
   "cell_type": "markdown",
   "metadata": {},
   "source": [
    "### 2.3 Results interpreation"
   ]
  },
  {
   "cell_type": "code",
   "execution_count": 97,
   "metadata": {},
   "outputs": [],
   "source": [
    "#prepare a dataframe that provides descriptive inforamtion for each cluster \n",
    "customers_cluster = pd.DataFrame(km_model.predict(customers_pca), columns=['cluster'])\n",
    "azdias_cl_cnt = azdias_cluster['cluster'].value_counts().sort_index()\n",
    "customers_cl_cnt = customers_cluster['cluster'].value_counts().sort_index()\n",
    "\n",
    "comb_clusters = pd.concat([azdias_cl_cnt, customers_cl_cnt], axis=1).reset_index()\n",
    "comb_clusters.columns = ['cluster', 'population_count', 'customers_count']\n",
    "comb_clusters['cluster'] = comb_clusters.index+1\n",
    "\n",
    "comb_clusters['population_share'] = comb_clusters['population_count']/comb_clusters['population_count'].sum()*100\n",
    "comb_clusters['customers_share'] = comb_clusters['customers_count']/comb_clusters['customers_count'].sum()*100\n",
    "comb_clusters['diff_share'] = comb_clusters['customers_share'] - comb_clusters['population_share']"
   ]
  },
  {
   "cell_type": "code",
   "execution_count": 98,
   "metadata": {},
   "outputs": [
    {
     "data": {
      "text/html": [
       "<div>\n",
       "<style scoped>\n",
       "    .dataframe tbody tr th:only-of-type {\n",
       "        vertical-align: middle;\n",
       "    }\n",
       "\n",
       "    .dataframe tbody tr th {\n",
       "        vertical-align: top;\n",
       "    }\n",
       "\n",
       "    .dataframe thead th {\n",
       "        text-align: right;\n",
       "    }\n",
       "</style>\n",
       "<table border=\"1\" class=\"dataframe\">\n",
       "  <thead>\n",
       "    <tr style=\"text-align: right;\">\n",
       "      <th></th>\n",
       "      <th>cluster</th>\n",
       "      <th>population_count</th>\n",
       "      <th>customers_count</th>\n",
       "      <th>population_share</th>\n",
       "      <th>customers_share</th>\n",
       "      <th>diff_share</th>\n",
       "    </tr>\n",
       "  </thead>\n",
       "  <tbody>\n",
       "    <tr>\n",
       "      <th>0</th>\n",
       "      <td>1</td>\n",
       "      <td>16294</td>\n",
       "      <td>4466</td>\n",
       "      <td>1.992728</td>\n",
       "      <td>3.079236</td>\n",
       "      <td>1.086507</td>\n",
       "    </tr>\n",
       "    <tr>\n",
       "      <th>1</th>\n",
       "      <td>2</td>\n",
       "      <td>48072</td>\n",
       "      <td>6125</td>\n",
       "      <td>5.879123</td>\n",
       "      <td>4.223089</td>\n",
       "      <td>-1.656033</td>\n",
       "    </tr>\n",
       "    <tr>\n",
       "      <th>2</th>\n",
       "      <td>3</td>\n",
       "      <td>53649</td>\n",
       "      <td>8362</td>\n",
       "      <td>6.561180</td>\n",
       "      <td>5.765465</td>\n",
       "      <td>-0.795715</td>\n",
       "    </tr>\n",
       "    <tr>\n",
       "      <th>3</th>\n",
       "      <td>4</td>\n",
       "      <td>101646</td>\n",
       "      <td>22617</td>\n",
       "      <td>12.431131</td>\n",
       "      <td>15.594059</td>\n",
       "      <td>3.162929</td>\n",
       "    </tr>\n",
       "    <tr>\n",
       "      <th>4</th>\n",
       "      <td>5</td>\n",
       "      <td>32313</td>\n",
       "      <td>4665</td>\n",
       "      <td>3.951824</td>\n",
       "      <td>3.216443</td>\n",
       "      <td>-0.735381</td>\n",
       "    </tr>\n",
       "    <tr>\n",
       "      <th>5</th>\n",
       "      <td>6</td>\n",
       "      <td>51648</td>\n",
       "      <td>4522</td>\n",
       "      <td>6.316461</td>\n",
       "      <td>3.117847</td>\n",
       "      <td>-3.198615</td>\n",
       "    </tr>\n",
       "    <tr>\n",
       "      <th>6</th>\n",
       "      <td>7</td>\n",
       "      <td>95051</td>\n",
       "      <td>24576</td>\n",
       "      <td>11.624574</td>\n",
       "      <td>16.944759</td>\n",
       "      <td>5.320185</td>\n",
       "    </tr>\n",
       "    <tr>\n",
       "      <th>7</th>\n",
       "      <td>8</td>\n",
       "      <td>105447</td>\n",
       "      <td>13406</td>\n",
       "      <td>12.895987</td>\n",
       "      <td>9.243222</td>\n",
       "      <td>-3.652764</td>\n",
       "    </tr>\n",
       "    <tr>\n",
       "      <th>8</th>\n",
       "      <td>9</td>\n",
       "      <td>81775</td>\n",
       "      <td>7378</td>\n",
       "      <td>10.000942</td>\n",
       "      <td>5.087013</td>\n",
       "      <td>-4.913929</td>\n",
       "    </tr>\n",
       "    <tr>\n",
       "      <th>9</th>\n",
       "      <td>10</td>\n",
       "      <td>13822</td>\n",
       "      <td>2658</td>\n",
       "      <td>1.690407</td>\n",
       "      <td>1.832648</td>\n",
       "      <td>0.142242</td>\n",
       "    </tr>\n",
       "    <tr>\n",
       "      <th>10</th>\n",
       "      <td>11</td>\n",
       "      <td>70154</td>\n",
       "      <td>20077</td>\n",
       "      <td>8.579713</td>\n",
       "      <td>13.842770</td>\n",
       "      <td>5.263057</td>\n",
       "    </tr>\n",
       "    <tr>\n",
       "      <th>11</th>\n",
       "      <td>12</td>\n",
       "      <td>50299</td>\n",
       "      <td>5225</td>\n",
       "      <td>6.151481</td>\n",
       "      <td>3.602554</td>\n",
       "      <td>-2.548927</td>\n",
       "    </tr>\n",
       "    <tr>\n",
       "      <th>12</th>\n",
       "      <td>13</td>\n",
       "      <td>97503</td>\n",
       "      <td>20959</td>\n",
       "      <td>11.924449</td>\n",
       "      <td>14.450895</td>\n",
       "      <td>2.526446</td>\n",
       "    </tr>\n",
       "  </tbody>\n",
       "</table>\n",
       "</div>"
      ],
      "text/plain": [
       "    cluster  population_count  customers_count  population_share  \\\n",
       "0         1             16294             4466          1.992728   \n",
       "1         2             48072             6125          5.879123   \n",
       "2         3             53649             8362          6.561180   \n",
       "3         4            101646            22617         12.431131   \n",
       "4         5             32313             4665          3.951824   \n",
       "5         6             51648             4522          6.316461   \n",
       "6         7             95051            24576         11.624574   \n",
       "7         8            105447            13406         12.895987   \n",
       "8         9             81775             7378         10.000942   \n",
       "9        10             13822             2658          1.690407   \n",
       "10       11             70154            20077          8.579713   \n",
       "11       12             50299             5225          6.151481   \n",
       "12       13             97503            20959         11.924449   \n",
       "\n",
       "    customers_share  diff_share  \n",
       "0          3.079236    1.086507  \n",
       "1          4.223089   -1.656033  \n",
       "2          5.765465   -0.795715  \n",
       "3         15.594059    3.162929  \n",
       "4          3.216443   -0.735381  \n",
       "5          3.117847   -3.198615  \n",
       "6         16.944759    5.320185  \n",
       "7          9.243222   -3.652764  \n",
       "8          5.087013   -4.913929  \n",
       "9          1.832648    0.142242  \n",
       "10        13.842770    5.263057  \n",
       "11         3.602554   -2.548927  \n",
       "12        14.450895    2.526446  "
      ]
     },
     "execution_count": 98,
     "metadata": {},
     "output_type": "execute_result"
    }
   ],
   "source": [
    "#short look at the data\n",
    "comb_clusters"
   ]
  },
  {
   "cell_type": "code",
   "execution_count": 111,
   "metadata": {},
   "outputs": [],
   "source": [
    "#Prepare data so it can be plotted clusterwise in a grouped barplot\n",
    "population_ratio = comb_clusters[['cluster','population_share']]\n",
    "population_ratio = population_ratio.rename(columns={'population_share':'value'})\n",
    "population_ratio.set_index(pd.DataFrame(['Population']*population_ratio.shape[0])[0], inplace = True)\n",
    "\n",
    "custumer_ratio = comb_clusters[['cluster','customers_share']]\n",
    "custumer_ratio = custumer_ratio.rename(columns={'customers_share':'value'})\n",
    "custumer_ratio.set_index(pd.DataFrame(['Customers']*population_ratio.shape[0])[0], inplace = True)\n",
    "\n",
    "cluster_plt = population_ratio.append(custumer_ratio).reset_index()"
   ]
  },
  {
   "cell_type": "code",
   "execution_count": 112,
   "metadata": {},
   "outputs": [
    {
     "data": {
      "image/png": "[encoded data removed]",
      "text/plain": [
       "<Figure size 1080x360 with 1 Axes>"
      ]
     },
     "metadata": {
      "needs_background": "light"
     },
     "output_type": "display_data"
    }
   ],
   "source": [
    "#plot a grouped bar chart of the clsters and their ratio \n",
    "plt.figure(figsize=(15, 5))\n",
    "sns.barplot(x=\"cluster\", y=\"value\", hue=0, data=cluster_plt)\n",
    "plt.xlabel('Cluster Number')\n",
    "plt.ylabel('Precents')\n",
    "plt.title('Relative share of clusters in customers and the general population')\n",
    "plt.legend()\n",
    "plt.show()"
   ]
  },
  {
   "cell_type": "markdown",
   "metadata": {},
   "source": [
    "The plot shows the distribution of the population and the customer data across the 13 selected clsuters. \n",
    "It can be seen that the in the cusotomers data the clusters are more uneven.\n",
    "For the customer data seem to peek in clsuters 3 and 8. For differentiation to the general population let's look at the next figure. "
   ]
  },
  {
   "cell_type": "code",
   "execution_count": 113,
   "metadata": {},
   "outputs": [
    {
     "data": {
      "image/png": "[encoded data removed]",
      "text/plain": [
       "<Figure size 720x360 with 1 Axes>"
      ]
     },
     "metadata": {
      "needs_background": "light"
     },
     "output_type": "display_data"
    }
   ],
   "source": [
    "#plot the difference in proportion for the clusters\n",
    "fig = plt.figure(figsize=(10,5))\n",
    "ax = sns.barplot(x = comb_clusters['cluster'], y = comb_clusters['diff_share'], palette=\"muted\")\n",
    "ax.set(title=f'Difference in cluster proportions - >0 - cluster contains rel. more customers', ylabel='Proportion', xlabel='Clusters');"
   ]
  },
  {
   "cell_type": "markdown",
   "metadata": {},
   "source": [
    "The figure aboves shows the deviation from the customers data from the genreal population. \n",
    "It shows that clsuter 8 and 3 are good chices to investigate in order to find out what attributes make a arvato customer. \n",
    "\n",
    "Conversly clsuter 9 and 4 apper to be negative exaples. "
   ]
  },
  {
   "cell_type": "markdown",
   "metadata": {},
   "source": [
    "#### Investigate the clsuters of intrest "
   ]
  },
  {
   "cell_type": "code",
   "execution_count": 132,
   "metadata": {},
   "outputs": [],
   "source": [
    "#select the clusters to select the centers from\n",
    "customers_center = kmeans.cluster_centers_[7]\n",
    "azdias_center = kmeans.cluster_centers_[9]"
   ]
  },
  {
   "cell_type": "code",
   "execution_count": 133,
   "metadata": {},
   "outputs": [],
   "source": [
    "#invert transform the inforamtion for the two slected clusters\n",
    "center_customers_inv = pca.inverse_transform(customers_center)\n",
    "center_azidas_inv = pca.inverse_transform(azdias_center)"
   ]
  },
  {
   "cell_type": "code",
   "execution_count": 134,
   "metadata": {},
   "outputs": [],
   "source": [
    "#retrieve the original cloumn names from the datasets\n",
    "cu_feature_names = cu_enc.columns\n",
    "az_feature_names = az_enc.columns"
   ]
  },
  {
   "cell_type": "code",
   "execution_count": 135,
   "metadata": {},
   "outputs": [],
   "source": [
    "features = pd.DataFrame({\"feature\" : cu_feature_names, \"intrested_cluster_7\": center_customers_inv,\"not_intrested_cluster_9\": center_azidas_inv}) #, 'Difference': (center_customers_inv - center_general_inv)})"
   ]
  },
  {
   "cell_type": "code",
   "execution_count": 136,
   "metadata": {},
   "outputs": [
    {
     "data": {
      "text/html": [
       "<div>\n",
       "<style scoped>\n",
       "    .dataframe tbody tr th:only-of-type {\n",
       "        vertical-align: middle;\n",
       "    }\n",
       "\n",
       "    .dataframe tbody tr th {\n",
       "        vertical-align: top;\n",
       "    }\n",
       "\n",
       "    .dataframe thead th {\n",
       "        text-align: right;\n",
       "    }\n",
       "</style>\n",
       "<table border=\"1\" class=\"dataframe\">\n",
       "  <thead>\n",
       "    <tr style=\"text-align: right;\">\n",
       "      <th></th>\n",
       "      <th>feature</th>\n",
       "      <th>intrested_cluster_7</th>\n",
       "      <th>not_intrested_cluster_9</th>\n",
       "    </tr>\n",
       "  </thead>\n",
       "  <tbody>\n",
       "    <tr>\n",
       "      <th>0</th>\n",
       "      <td>AKT_DAT_KL</td>\n",
       "      <td>0.502021</td>\n",
       "      <td>0.000109</td>\n",
       "    </tr>\n",
       "    <tr>\n",
       "      <th>1</th>\n",
       "      <td>ALTER_HH</td>\n",
       "      <td>0.102189</td>\n",
       "      <td>-0.051065</td>\n",
       "    </tr>\n",
       "    <tr>\n",
       "      <th>2</th>\n",
       "      <td>ALTERSKATEGORIE_FEIN</td>\n",
       "      <td>0.226231</td>\n",
       "      <td>-0.032417</td>\n",
       "    </tr>\n",
       "    <tr>\n",
       "      <th>3</th>\n",
       "      <td>ANZ_HAUSHALTE_AKTIV</td>\n",
       "      <td>-0.109898</td>\n",
       "      <td>-0.098682</td>\n",
       "    </tr>\n",
       "    <tr>\n",
       "      <th>4</th>\n",
       "      <td>ANZ_HH_TITEL</td>\n",
       "      <td>-0.087268</td>\n",
       "      <td>-0.013235</td>\n",
       "    </tr>\n",
       "    <tr>\n",
       "      <th>...</th>\n",
       "      <td>...</td>\n",
       "      <td>...</td>\n",
       "      <td>...</td>\n",
       "    </tr>\n",
       "    <tr>\n",
       "      <th>400</th>\n",
       "      <td>D19_LETZTER_KAUF_BRANCHE_D19_VERSICHERUNGEN</td>\n",
       "      <td>-0.083037</td>\n",
       "      <td>-0.017809</td>\n",
       "    </tr>\n",
       "    <tr>\n",
       "      <th>401</th>\n",
       "      <td>D19_LETZTER_KAUF_BRANCHE_D19_VOLLSORTIMENT</td>\n",
       "      <td>-0.112915</td>\n",
       "      <td>0.003342</td>\n",
       "    </tr>\n",
       "    <tr>\n",
       "      <th>402</th>\n",
       "      <td>D19_LETZTER_KAUF_BRANCHE_D19_WEIN_FEINKOST</td>\n",
       "      <td>-0.038669</td>\n",
       "      <td>-0.001734</td>\n",
       "    </tr>\n",
       "    <tr>\n",
       "      <th>403</th>\n",
       "      <td>OST_WEST_KZ_O</td>\n",
       "      <td>-0.388795</td>\n",
       "      <td>-0.105084</td>\n",
       "    </tr>\n",
       "    <tr>\n",
       "      <th>404</th>\n",
       "      <td>OST_WEST_KZ_W</td>\n",
       "      <td>0.432100</td>\n",
       "      <td>0.166099</td>\n",
       "    </tr>\n",
       "  </tbody>\n",
       "</table>\n",
       "<p>405 rows × 3 columns</p>\n",
       "</div>"
      ],
      "text/plain": [
       "                                         feature  intrested_cluster_7  \\\n",
       "0                                     AKT_DAT_KL             0.502021   \n",
       "1                                       ALTER_HH             0.102189   \n",
       "2                           ALTERSKATEGORIE_FEIN             0.226231   \n",
       "3                            ANZ_HAUSHALTE_AKTIV            -0.109898   \n",
       "4                                   ANZ_HH_TITEL            -0.087268   \n",
       "..                                           ...                  ...   \n",
       "400  D19_LETZTER_KAUF_BRANCHE_D19_VERSICHERUNGEN            -0.083037   \n",
       "401   D19_LETZTER_KAUF_BRANCHE_D19_VOLLSORTIMENT            -0.112915   \n",
       "402   D19_LETZTER_KAUF_BRANCHE_D19_WEIN_FEINKOST            -0.038669   \n",
       "403                                OST_WEST_KZ_O            -0.388795   \n",
       "404                                OST_WEST_KZ_W             0.432100   \n",
       "\n",
       "     not_intrested_cluster_9  \n",
       "0                   0.000109  \n",
       "1                  -0.051065  \n",
       "2                  -0.032417  \n",
       "3                  -0.098682  \n",
       "4                  -0.013235  \n",
       "..                       ...  \n",
       "400                -0.017809  \n",
       "401                 0.003342  \n",
       "402                -0.001734  \n",
       "403                -0.105084  \n",
       "404                 0.166099  \n",
       "\n",
       "[405 rows x 3 columns]"
      ]
     },
     "execution_count": 136,
     "metadata": {},
     "output_type": "execute_result"
    }
   ],
   "source": [
    "features"
   ]
  },
  {
   "cell_type": "code",
   "execution_count": 140,
   "metadata": {},
   "outputs": [],
   "source": [
    "#prepare a list to investigate the features that are more likely to be seen in the two selected clsuters\n",
    "features['Difference'] = features['intrested_cluster_7'] - features['not_intrested_cluster_9']\n",
    "features.sort_values(by='intrested_cluster_7',ascending = False ,inplace=True)"
   ]
  },
  {
   "cell_type": "code",
   "execution_count": 141,
   "metadata": {},
   "outputs": [
    {
     "data": {
      "text/html": [
       "<div>\n",
       "<style scoped>\n",
       "    .dataframe tbody tr th:only-of-type {\n",
       "        vertical-align: middle;\n",
       "    }\n",
       "\n",
       "    .dataframe tbody tr th {\n",
       "        vertical-align: top;\n",
       "    }\n",
       "\n",
       "    .dataframe thead th {\n",
       "        text-align: right;\n",
       "    }\n",
       "</style>\n",
       "<table border=\"1\" class=\"dataframe\">\n",
       "  <thead>\n",
       "    <tr style=\"text-align: right;\">\n",
       "      <th></th>\n",
       "      <th>feature</th>\n",
       "      <th>intrested_cluster_7</th>\n",
       "      <th>not_intrested_cluster_9</th>\n",
       "      <th>Difference</th>\n",
       "    </tr>\n",
       "  </thead>\n",
       "  <tbody>\n",
       "    <tr>\n",
       "      <th>224</th>\n",
       "      <td>KBA13_SITZE_4</td>\n",
       "      <td>0.273754</td>\n",
       "      <td>0.240340</td>\n",
       "      <td>0.033414</td>\n",
       "    </tr>\n",
       "    <tr>\n",
       "      <th>281</th>\n",
       "      <td>UMFELD_ALT</td>\n",
       "      <td>0.276421</td>\n",
       "      <td>-0.151986</td>\n",
       "      <td>0.428407</td>\n",
       "    </tr>\n",
       "    <tr>\n",
       "      <th>161</th>\n",
       "      <td>KBA13_HALTER_50</td>\n",
       "      <td>0.279136</td>\n",
       "      <td>0.014973</td>\n",
       "      <td>0.264163</td>\n",
       "    </tr>\n",
       "    <tr>\n",
       "      <th>203</th>\n",
       "      <td>KBA13_MERCEDES</td>\n",
       "      <td>0.287683</td>\n",
       "      <td>0.221446</td>\n",
       "      <td>0.066236</td>\n",
       "    </tr>\n",
       "    <tr>\n",
       "      <th>68</th>\n",
       "      <td>KBA05_DIESEL</td>\n",
       "      <td>0.292025</td>\n",
       "      <td>0.105970</td>\n",
       "      <td>0.186055</td>\n",
       "    </tr>\n",
       "    <tr>\n",
       "      <th>52</th>\n",
       "      <td>HH_EINKOMMEN_SCORE</td>\n",
       "      <td>0.296873</td>\n",
       "      <td>0.226161</td>\n",
       "      <td>0.070711</td>\n",
       "    </tr>\n",
       "    <tr>\n",
       "      <th>120</th>\n",
       "      <td>KBA13_ALTERHALTER_60</td>\n",
       "      <td>0.301876</td>\n",
       "      <td>0.042956</td>\n",
       "      <td>0.258920</td>\n",
       "    </tr>\n",
       "    <tr>\n",
       "      <th>209</th>\n",
       "      <td>KBA13_SEG_GELAENDEWAGEN</td>\n",
       "      <td>0.302750</td>\n",
       "      <td>0.127743</td>\n",
       "      <td>0.175006</td>\n",
       "    </tr>\n",
       "    <tr>\n",
       "      <th>27</th>\n",
       "      <td>D19_VERSAND_DATUM</td>\n",
       "      <td>0.303139</td>\n",
       "      <td>0.040985</td>\n",
       "      <td>0.262155</td>\n",
       "    </tr>\n",
       "    <tr>\n",
       "      <th>66</th>\n",
       "      <td>KBA05_CCM3</td>\n",
       "      <td>0.303952</td>\n",
       "      <td>0.186820</td>\n",
       "      <td>0.117132</td>\n",
       "    </tr>\n",
       "    <tr>\n",
       "      <th>362</th>\n",
       "      <td>CAMEO_INTL_2015_43</td>\n",
       "      <td>0.305769</td>\n",
       "      <td>-0.260314</td>\n",
       "      <td>0.566083</td>\n",
       "    </tr>\n",
       "    <tr>\n",
       "      <th>398</th>\n",
       "      <td>D19_LETZTER_KAUF_BRANCHE_D19_UNBEKANNT</td>\n",
       "      <td>0.307632</td>\n",
       "      <td>0.035602</td>\n",
       "      <td>0.272031</td>\n",
       "    </tr>\n",
       "    <tr>\n",
       "      <th>53</th>\n",
       "      <td>INNENSTADT</td>\n",
       "      <td>0.314320</td>\n",
       "      <td>0.056675</td>\n",
       "      <td>0.257645</td>\n",
       "    </tr>\n",
       "    <tr>\n",
       "      <th>214</th>\n",
       "      <td>KBA13_SEG_MINIVANS</td>\n",
       "      <td>0.318300</td>\n",
       "      <td>0.114634</td>\n",
       "      <td>0.203666</td>\n",
       "    </tr>\n",
       "    <tr>\n",
       "      <th>162</th>\n",
       "      <td>KBA13_HALTER_55</td>\n",
       "      <td>0.324088</td>\n",
       "      <td>0.072789</td>\n",
       "      <td>0.251298</td>\n",
       "    </tr>\n",
       "    <tr>\n",
       "      <th>266</th>\n",
       "      <td>SEMIO_FAM</td>\n",
       "      <td>0.331903</td>\n",
       "      <td>-0.042962</td>\n",
       "      <td>0.374865</td>\n",
       "    </tr>\n",
       "    <tr>\n",
       "      <th>21</th>\n",
       "      <td>D19_GESAMT_DATUM</td>\n",
       "      <td>0.332997</td>\n",
       "      <td>0.046386</td>\n",
       "      <td>0.286611</td>\n",
       "    </tr>\n",
       "    <tr>\n",
       "      <th>60</th>\n",
       "      <td>KBA05_ANTG2</td>\n",
       "      <td>0.359813</td>\n",
       "      <td>0.329787</td>\n",
       "      <td>0.030026</td>\n",
       "    </tr>\n",
       "    <tr>\n",
       "      <th>24</th>\n",
       "      <td>D19_KONSUMTYP_MAX</td>\n",
       "      <td>0.360343</td>\n",
       "      <td>0.038672</td>\n",
       "      <td>0.321671</td>\n",
       "    </tr>\n",
       "    <tr>\n",
       "      <th>11</th>\n",
       "      <td>CJT_GESAMTTYP</td>\n",
       "      <td>0.364940</td>\n",
       "      <td>-0.026567</td>\n",
       "      <td>0.391507</td>\n",
       "    </tr>\n",
       "  </tbody>\n",
       "</table>\n",
       "</div>"
      ],
      "text/plain": [
       "                                    feature  intrested_cluster_7  \\\n",
       "224                           KBA13_SITZE_4             0.273754   \n",
       "281                              UMFELD_ALT             0.276421   \n",
       "161                         KBA13_HALTER_50             0.279136   \n",
       "203                          KBA13_MERCEDES             0.287683   \n",
       "68                             KBA05_DIESEL             0.292025   \n",
       "52                       HH_EINKOMMEN_SCORE             0.296873   \n",
       "120                    KBA13_ALTERHALTER_60             0.301876   \n",
       "209                 KBA13_SEG_GELAENDEWAGEN             0.302750   \n",
       "27                        D19_VERSAND_DATUM             0.303139   \n",
       "66                               KBA05_CCM3             0.303952   \n",
       "362                      CAMEO_INTL_2015_43             0.305769   \n",
       "398  D19_LETZTER_KAUF_BRANCHE_D19_UNBEKANNT             0.307632   \n",
       "53                               INNENSTADT             0.314320   \n",
       "214                      KBA13_SEG_MINIVANS             0.318300   \n",
       "162                         KBA13_HALTER_55             0.324088   \n",
       "266                               SEMIO_FAM             0.331903   \n",
       "21                         D19_GESAMT_DATUM             0.332997   \n",
       "60                              KBA05_ANTG2             0.359813   \n",
       "24                        D19_KONSUMTYP_MAX             0.360343   \n",
       "11                            CJT_GESAMTTYP             0.364940   \n",
       "\n",
       "     not_intrested_cluster_9  Difference  \n",
       "224                 0.240340    0.033414  \n",
       "281                -0.151986    0.428407  \n",
       "161                 0.014973    0.264163  \n",
       "203                 0.221446    0.066236  \n",
       "68                  0.105970    0.186055  \n",
       "52                  0.226161    0.070711  \n",
       "120                 0.042956    0.258920  \n",
       "209                 0.127743    0.175006  \n",
       "27                  0.040985    0.262155  \n",
       "66                  0.186820    0.117132  \n",
       "362                -0.260314    0.566083  \n",
       "398                 0.035602    0.272031  \n",
       "53                  0.056675    0.257645  \n",
       "214                 0.114634    0.203666  \n",
       "162                 0.072789    0.251298  \n",
       "266                -0.042962    0.374865  \n",
       "21                  0.046386    0.286611  \n",
       "60                  0.329787    0.030026  \n",
       "24                  0.038672    0.321671  \n",
       "11                 -0.026567    0.391507  "
      ]
     },
     "execution_count": 141,
     "metadata": {},
     "output_type": "execute_result"
    }
   ],
   "source": [
    "#plot and investigate cluster of persons which rather tned to become customres from clsuter 8\n",
    "features.head(50).sort_values(by='intrested_cluster_7').head(20)"
   ]
  },
  {
   "cell_type": "markdown",
   "metadata": {},
   "source": [
    "Looking at features where the difference for customers it can be seen that peeople who are customers are rather wealthy.\n",
    "They are e.g. interested in investment. Living in the city center. And show a propensity to consume. "
   ]
  },
  {
   "cell_type": "code",
   "execution_count": null,
   "metadata": {},
   "outputs": [],
   "source": [
    "#plot and investigate features that are more likely to be seen in cluster 9\n",
    "features.tail(20).sort_values(by='not_intrested_cluster_9').head(20)"
   ]
  },
  {
   "cell_type": "markdown",
   "metadata": {},
   "source": [
    "Conversly, people with rather limited financial wealth are more unlikely to become customers. "
   ]
  },
  {
   "cell_type": "markdown",
   "metadata": {},
   "source": [
    "## Part 2: Supervised Learning Model\n",
    "\n",
    "Now that you've found which parts of the population are more likely to be customers of the mail-order company, it's time to build a prediction model. Each of the rows in the \"MAILOUT\" data files represents an individual that was targeted for a mailout campaign. Ideally, we should be able to use the demographic information from each individual to decide whether or not it will be worth it to include that person in the campaign.\n",
    "\n",
    "The \"MAILOUT\" data has been split into two approximately equal parts, each with almost 43 000 data rows. In this part, you can verify your model with the \"TRAIN\" partition, which includes a column, \"RESPONSE\", that states whether or not a person became a customer of the company following the campaign. In the next part, you'll need to create predictions on the \"TEST\" partition, where the \"RESPONSE\" column has been withheld."
   ]
  },
  {
   "cell_type": "markdown",
   "metadata": {},
   "source": [
    "## 2.1 Load and investigate training data"
   ]
  },
  {
   "cell_type": "code",
   "execution_count": 143,
   "metadata": {
    "collapsed": true,
    "jupyter": {
     "outputs_hidden": true
    }
   },
   "outputs": [
    {
     "name": "stdout",
     "output_type": "stream",
     "text": [
      "Column  CUSTOMER_GROUP  was not in the df.\n",
      "Column  ONLINE_PURCHASE  was not in the df.\n",
      "Column  PRODUCT_GROUP  was not in the df.\n",
      "LNR Column is droped from the data.\n",
      "===============Changing the Unkown Data to NaNs======================\n",
      "=====================================================================\n",
      "============Remiving Columns and Rows with to many NaNs==============\n",
      "---------Remove columns with more than 50% missings------------\n",
      "The shape of the old dataframe: (42962, 366)\n",
      "The shape of the new dataframe: (42962, 312)\n",
      "54 columns have been removed from the dataframe.\n",
      "----------------------------------------------------------------\n",
      "---------Remove rows with more than 80% missings------------\n",
      "The shape of the old dataframe: (42962, 312)\n",
      "The shape of the new dataframe: (35990, 312)\n",
      "6972 rows have been removed from the dataframe.\n",
      "====================Data Imputation================================\n",
      "Col D19_BANKEN_DATUM no in the df anymore.\n",
      "Col D19_BANKEN_OFFLINE_DATUM no in the df anymore.\n",
      "Col D19_BANKEN_ONLINE_DATUM no in the df anymore.\n",
      "Col D19_TELKO_DATUM no in the df anymore.\n",
      "Col D19_TELKO_OFFLINE_DATUM no in the df anymore.\n",
      "Col D19_TELKO_ONLINE_DATUM no in the df anymore.\n",
      "Col D19_VERSAND_ONLINE_DATUM no in the df anymore.\n",
      "Imputing 10er Values is done.\n",
      "Imputing 9er Values is done.\n",
      "Imputing Mean Values is done. \n",
      "Imputing most frequent values is done.\n",
      "The rest of the columns are imputed with a zero. \n",
      "=====================================================================\n",
      "Index(['CAMEO_DEU_2015', 'CAMEO_DEUG_2015', 'CAMEO_INTL_2015',\n",
      "       'D19_LETZTER_KAUF_BRANCHE', 'EINGEFUEGT_AM', 'OST_WEST_KZ'],\n",
      "      dtype='object')\n",
      "Encode: CAMEO_DEU_2015\n",
      "Encode: CAMEO_DEUG_2015\n",
      "Encode: CAMEO_INTL_2015\n",
      "Encode: D19_LETZTER_KAUF_BRANCHE\n",
      "Column  EINGEFUEGT_AM  not found.\n",
      "Encode: OST_WEST_KZ\n"
     ]
    }
   ],
   "source": [
    "#Load and clean the dataset\n",
    "mailout_train = data_load_and_prep('data/Udacity_MAILOUT_052018_TRAIN.csv')"
   ]
  },
  {
   "cell_type": "code",
   "execution_count": 144,
   "metadata": {},
   "outputs": [],
   "source": [
    "# Make 'RESPONSE' the y variable \n",
    "mailout_y = mailout_train['RESPONSE']\n",
    "mailout_X = mailout_train.drop('RESPONSE',axis = 1)"
   ]
  },
  {
   "cell_type": "code",
   "execution_count": 145,
   "metadata": {},
   "outputs": [],
   "source": [
    "#checking the number of rows for both datasets"
   ]
  },
  {
   "cell_type": "code",
   "execution_count": 511,
   "metadata": {},
   "outputs": [
    {
     "data": {
      "text/plain": [
       "35990"
      ]
     },
     "execution_count": 511,
     "metadata": {},
     "output_type": "execute_result"
    }
   ],
   "source": [
    "mailout_X.shape[0]"
   ]
  },
  {
   "cell_type": "code",
   "execution_count": 147,
   "metadata": {},
   "outputs": [
    {
     "data": {
      "text/plain": [
       "35990"
      ]
     },
     "execution_count": 147,
     "metadata": {},
     "output_type": "execute_result"
    }
   ],
   "source": [
    "mailout_y.shape[0]"
   ]
  },
  {
   "cell_type": "code",
   "execution_count": 148,
   "metadata": {},
   "outputs": [
    {
     "data": {
      "text/plain": [
       "Text(0.5, 1.0, 'Distribution of customer response')"
      ]
     },
     "execution_count": 148,
     "metadata": {},
     "output_type": "execute_result"
    },
    {
     "data": {
      "image/png": "[encoded data removed]",
      "text/plain": [
       "<Figure size 432x288 with 1 Axes>"
      ]
     },
     "metadata": {
      "needs_background": "light"
     },
     "output_type": "display_data"
    }
   ],
   "source": [
    "# Checking the distribution for the target\n",
    "mailout_y.value_counts().plot.bar() \n",
    "plt.title('Distribution of customer response')"
   ]
  },
  {
   "cell_type": "code",
   "execution_count": 514,
   "metadata": {},
   "outputs": [
    {
     "data": {
      "text/plain": [
       "0    35541\n",
       "1      449\n",
       "Name: RESPONSE, dtype: int64"
      ]
     },
     "execution_count": 514,
     "metadata": {},
     "output_type": "execute_result"
    }
   ],
   "source": [
    "mailout_y.value_counts()"
   ]
  },
  {
   "cell_type": "code",
   "execution_count": 149,
   "metadata": {},
   "outputs": [
    {
     "name": "stdout",
     "output_type": "stream",
     "text": [
      "The training data shows a response rate of  1.25 %. \n"
     ]
    }
   ],
   "source": [
    "print('The training data shows a response rate of ',round(mailout_y.value_counts()[1] / mailout_train.shape[0] * 100, 2),'%. ')"
   ]
  },
  {
   "cell_type": "markdown",
   "metadata": {},
   "source": [
    "#### Build ML-Pipeline to thest diffrent models"
   ]
  },
  {
   "cell_type": "code",
   "execution_count": 150,
   "metadata": {},
   "outputs": [],
   "source": [
    "def predict_learning_curves(X, y, model):\n",
    "    \"\"\"\n",
    "    Predict model using learning curves and plots the curces on trainig and coss-validation data. \n",
    "    \n",
    "    \n",
    "    Input:\n",
    "        df (X) - array-like of shape  that holds the features th fit the model on \n",
    "        Series (y): array like shape that holds tha target value\n",
    "        model: object type that implements the “fit” and “predict” methods\n",
    "        num_trainings (int): number of training samples to plot\n",
    "        \n",
    "    \"\"\"\n",
    "    \n",
    "    train_sizes, train_scores, test_scores = learning_curve(model, X, y, scoring = 'roc_auc',train_sizes=np.linspace(.1, 1.0, 10))\n",
    "\n",
    "    train_scores_mean = np.mean(train_scores, axis=1)\n",
    "    test_scores_mean = np.mean(test_scores, axis=1)\n",
    "    print(\"AUC train score = {}\".format(round(train_scores_mean[-1],2)))\n",
    "    print(\"AUC validation score = {}\".format(round(test_scores_mean[-1],2)))\n",
    "    plt.grid()\n",
    "    \n",
    "    #Plottin the learning- curves \n",
    "    plt.title(\"Learning Curve\")\n",
    "    plt.xlabel(\"% of training set\")\n",
    "    plt.ylabel(\"Score\")\n",
    "\n",
    "    plt.plot(np.linspace(.2, 1.0, 10)*100, train_scores_mean, color=\"b\",label=\"Score on training data\")\n",
    "    plt.plot(np.linspace(.2, 1.0, 10)*100, test_scores_mean, color=\"r\", label=\"Score on cross-validation sets\")\n",
    "\n",
    "    plt.yticks(np.arange(0.45, 1.02, 0.05))\n",
    "    plt.xticks(np.arange(0., 100.05, 10))\n",
    "    plt.legend(loc=\"best\")\n",
    "    plt.show()"
   ]
  },
  {
   "cell_type": "markdown",
   "metadata": {},
   "source": [
    "## 2.2 Build ML-Pipeline to thest diffrent algorithms"
   ]
  },
  {
   "cell_type": "code",
   "execution_count": 151,
   "metadata": {},
   "outputs": [],
   "source": [
    "models = {\n",
    "          'RandomForestClassifier': RandomForestClassifier(), \n",
    "          'GradientBoostingClassifier': GradientBoostingClassifier(),\n",
    "          'XGBClassifier': xgb.XGBClassifier()\n",
    "         }"
   ]
  },
  {
   "cell_type": "code",
   "execution_count": 152,
   "metadata": {},
   "outputs": [
    {
     "name": "stdout",
     "output_type": "stream",
     "text": [
      "RandomForestClassifier\n",
      "AUC train score = 1.0\n",
      "AUC validation score = 0.59\n"
     ]
    },
    {
     "data": {
      "image/png": "[encoded data removed]",
      "text/plain": [
       "<Figure size 432x288 with 1 Axes>"
      ]
     },
     "metadata": {
      "needs_background": "light"
     },
     "output_type": "display_data"
    },
    {
     "name": "stdout",
     "output_type": "stream",
     "text": [
      "GradientBoostingClassifier\n",
      "AUC train score = 0.95\n",
      "AUC validation score = 0.77\n"
     ]
    },
    {
     "data": {
      "image/png": "[encoded data removed]",
      "text/plain": [
       "<Figure size 432x288 with 1 Axes>"
      ]
     },
     "metadata": {
      "needs_background": "light"
     },
     "output_type": "display_data"
    },
    {
     "name": "stdout",
     "output_type": "stream",
     "text": [
      "XGBClassifier\n",
      "AUC train score = 0.93\n",
      "AUC validation score = 0.77\n"
     ]
    },
    {
     "data": {
      "image/png": "[encoded data removed]",
      "text/plain": [
       "<Figure size 432x288 with 1 Axes>"
      ]
     },
     "metadata": {
      "needs_background": "light"
     },
     "output_type": "display_data"
    }
   ],
   "source": [
    "for model_key in models.keys():\n",
    "    print(model_key)\n",
    "    ml_pipeline = Pipeline([\n",
    "        \n",
    "        ('model', models[model_key])\n",
    "    ])\n",
    "    predict_learning_curves(mailout_X, mailout_y, ml_pipeline)"
   ]
  },
  {
   "cell_type": "markdown",
   "metadata": {},
   "source": [
    "The GBT and XGBT seem to perform the best. Therefore in the next steps the XGBT is used to make the final rediction. \n",
    "Furthermore Oversampling is used to counteract the overfitting."
   ]
  },
  {
   "cell_type": "markdown",
   "metadata": {},
   "source": [
    "## 2.3 Optimize selected model"
   ]
  },
  {
   "cell_type": "markdown",
   "metadata": {},
   "source": [
    "### Making a prediction without parameter tuning but with oversampling"
   ]
  },
  {
   "cell_type": "markdown",
   "metadata": {},
   "source": [
    "Oversampling is used instead of undersampling because the target one class is very rare in total numbers. Using undersampling would increase the threat of dropping to much relevant inforamtion from the target zero class. "
   ]
  },
  {
   "cell_type": "code",
   "execution_count": 487,
   "metadata": {},
   "outputs": [],
   "source": [
    "oversampler = SMOTE(sampling_strategy = 0.33)\n",
    "X_train_os, y_train_os = oversampler.fit_resample(mailout_X, mailout_y)"
   ]
  },
  {
   "cell_type": "code",
   "execution_count": 488,
   "metadata": {},
   "outputs": [
    {
     "name": "stdout",
     "output_type": "stream",
     "text": [
      "XGBClassifier(max_depth=5, verbosity=0)\n",
      "ROC score: 0.9223226466575716\n",
      "Accuracy: 95.60% (1.24%)\n"
     ]
    }
   ],
   "source": [
    "nomral_model, model1_roc = XGB_Classify(X_train_os,y_train_os, 5)"
   ]
  },
  {
   "cell_type": "markdown",
   "metadata": {},
   "source": [
    "The XGB Boost did quite good job on the Kagge challenge with a score of 0.6 AUC and place 199 in the leaderboard. "
   ]
  },
  {
   "cell_type": "markdown",
   "metadata": {},
   "source": [
    "### Using GridSearch to imporve the model without oversampling"
   ]
  },
  {
   "cell_type": "code",
   "execution_count": 212,
   "metadata": {},
   "outputs": [],
   "source": [
    "X = mailout_X\n",
    "y = mailout_y"
   ]
  },
  {
   "cell_type": "code",
   "execution_count": 214,
   "metadata": {
    "collapsed": true,
    "jupyter": {
     "outputs_hidden": true
    }
   },
   "outputs": [
    {
     "name": "stdout",
     "output_type": "stream",
     "text": [
      "Fitting 5 folds for each of 8 candidates, totalling 40 fits\n",
      "[Parallel(n_jobs=1)]: Using backend SequentialBackend with 1 concurrent workers.\n",
      "[CV] xgb__learning_rate=0.1, xgb__max_depth=3, xgb__min_samples_split=2, xgb__n_estimators=100 \n",
      "[CV]  xgb__learning_rate=0.1, xgb__max_depth=3, xgb__min_samples_split=2, xgb__n_estimators=100, score=0.750, total=  32.6s\n",
      "[Parallel(n_jobs=1)]: Done   1 out of   1 | elapsed:   32.6s remaining:    0.0s\n",
      "[CV] xgb__learning_rate=0.1, xgb__max_depth=3, xgb__min_samples_split=2, xgb__n_estimators=100 \n",
      "[CV]  xgb__learning_rate=0.1, xgb__max_depth=3, xgb__min_samples_split=2, xgb__n_estimators=100, score=0.746, total=  32.7s\n",
      "[Parallel(n_jobs=1)]: Done   2 out of   2 | elapsed:  1.1min remaining:    0.0s\n",
      "[CV] xgb__learning_rate=0.1, xgb__max_depth=3, xgb__min_samples_split=2, xgb__n_estimators=100 \n",
      "[CV]  xgb__learning_rate=0.1, xgb__max_depth=3, xgb__min_samples_split=2, xgb__n_estimators=100, score=0.820, total=  33.1s\n",
      "[Parallel(n_jobs=1)]: Done   3 out of   3 | elapsed:  1.6min remaining:    0.0s\n",
      "[CV] xgb__learning_rate=0.1, xgb__max_depth=3, xgb__min_samples_split=2, xgb__n_estimators=100 \n",
      "[CV]  xgb__learning_rate=0.1, xgb__max_depth=3, xgb__min_samples_split=2, xgb__n_estimators=100, score=0.786, total=  32.6s\n",
      "[Parallel(n_jobs=1)]: Done   4 out of   4 | elapsed:  2.2min remaining:    0.0s\n",
      "[CV] xgb__learning_rate=0.1, xgb__max_depth=3, xgb__min_samples_split=2, xgb__n_estimators=100 \n",
      "[CV]  xgb__learning_rate=0.1, xgb__max_depth=3, xgb__min_samples_split=2, xgb__n_estimators=100, score=0.762, total=  32.1s\n",
      "[Parallel(n_jobs=1)]: Done   5 out of   5 | elapsed:  2.7min remaining:    0.0s\n",
      "[CV] xgb__learning_rate=0.1, xgb__max_depth=3, xgb__min_samples_split=4, xgb__n_estimators=100 \n",
      "[CV]  xgb__learning_rate=0.1, xgb__max_depth=3, xgb__min_samples_split=4, xgb__n_estimators=100, score=0.742, total=  32.0s\n",
      "[Parallel(n_jobs=1)]: Done   6 out of   6 | elapsed:  3.3min remaining:    0.0s\n",
      "[CV] xgb__learning_rate=0.1, xgb__max_depth=3, xgb__min_samples_split=4, xgb__n_estimators=100 \n",
      "[CV]  xgb__learning_rate=0.1, xgb__max_depth=3, xgb__min_samples_split=4, xgb__n_estimators=100, score=0.761, total=  32.1s\n",
      "[Parallel(n_jobs=1)]: Done   7 out of   7 | elapsed:  3.8min remaining:    0.0s\n",
      "[CV] xgb__learning_rate=0.1, xgb__max_depth=3, xgb__min_samples_split=4, xgb__n_estimators=100 \n",
      "[CV]  xgb__learning_rate=0.1, xgb__max_depth=3, xgb__min_samples_split=4, xgb__n_estimators=100, score=0.832, total=  32.3s\n",
      "[Parallel(n_jobs=1)]: Done   8 out of   8 | elapsed:  4.3min remaining:    0.0s\n",
      "[CV] xgb__learning_rate=0.1, xgb__max_depth=3, xgb__min_samples_split=4, xgb__n_estimators=100 \n",
      "[CV]  xgb__learning_rate=0.1, xgb__max_depth=3, xgb__min_samples_split=4, xgb__n_estimators=100, score=0.786, total=  32.8s\n",
      "[Parallel(n_jobs=1)]: Done   9 out of   9 | elapsed:  4.9min remaining:    0.0s\n",
      "[CV] xgb__learning_rate=0.1, xgb__max_depth=3, xgb__min_samples_split=4, xgb__n_estimators=100 \n",
      "[CV]  xgb__learning_rate=0.1, xgb__max_depth=3, xgb__min_samples_split=4, xgb__n_estimators=100, score=0.762, total=  34.3s\n",
      "[Parallel(n_jobs=1)]: Done  10 out of  10 | elapsed:  5.4min remaining:    0.0s\n",
      "[CV] xgb__learning_rate=0.1, xgb__max_depth=5, xgb__min_samples_split=2, xgb__n_estimators=100 \n",
      "[CV]  xgb__learning_rate=0.1, xgb__max_depth=5, xgb__min_samples_split=2, xgb__n_estimators=100, score=0.741, total=  57.4s\n",
      "[Parallel(n_jobs=1)]: Done  11 out of  11 | elapsed:  6.4min remaining:    0.0s\n",
      "[CV] xgb__learning_rate=0.1, xgb__max_depth=5, xgb__min_samples_split=2, xgb__n_estimators=100 \n",
      "[CV]  xgb__learning_rate=0.1, xgb__max_depth=5, xgb__min_samples_split=2, xgb__n_estimators=100, score=0.765, total=  57.2s\n",
      "[Parallel(n_jobs=1)]: Done  12 out of  12 | elapsed:  7.4min remaining:    0.0s\n",
      "[CV] xgb__learning_rate=0.1, xgb__max_depth=5, xgb__min_samples_split=2, xgb__n_estimators=100 \n",
      "[CV]  xgb__learning_rate=0.1, xgb__max_depth=5, xgb__min_samples_split=2, xgb__n_estimators=100, score=0.827, total=  57.0s\n",
      "[Parallel(n_jobs=1)]: Done  13 out of  13 | elapsed:  8.3min remaining:    0.0s\n",
      "[CV] xgb__learning_rate=0.1, xgb__max_depth=5, xgb__min_samples_split=2, xgb__n_estimators=100 \n",
      "[CV]  xgb__learning_rate=0.1, xgb__max_depth=5, xgb__min_samples_split=2, xgb__n_estimators=100, score=0.785, total=  56.7s\n",
      "[Parallel(n_jobs=1)]: Done  14 out of  14 | elapsed:  9.3min remaining:    0.0s\n",
      "[CV] xgb__learning_rate=0.1, xgb__max_depth=5, xgb__min_samples_split=2, xgb__n_estimators=100 \n",
      "[CV]  xgb__learning_rate=0.1, xgb__max_depth=5, xgb__min_samples_split=2, xgb__n_estimators=100, score=0.753, total=  57.8s\n",
      "[Parallel(n_jobs=1)]: Done  15 out of  15 | elapsed: 10.2min remaining:    0.0s\n",
      "[CV] xgb__learning_rate=0.1, xgb__max_depth=5, xgb__min_samples_split=4, xgb__n_estimators=100 \n",
      "[CV]  xgb__learning_rate=0.1, xgb__max_depth=5, xgb__min_samples_split=4, xgb__n_estimators=100, score=0.744, total=  56.9s\n",
      "[Parallel(n_jobs=1)]: Done  16 out of  16 | elapsed: 11.2min remaining:    0.0s\n",
      "[CV] xgb__learning_rate=0.1, xgb__max_depth=5, xgb__min_samples_split=4, xgb__n_estimators=100 \n",
      "[CV]  xgb__learning_rate=0.1, xgb__max_depth=5, xgb__min_samples_split=4, xgb__n_estimators=100, score=0.758, total=  58.7s\n",
      "[Parallel(n_jobs=1)]: Done  17 out of  17 | elapsed: 12.1min remaining:    0.0s\n",
      "[CV] xgb__learning_rate=0.1, xgb__max_depth=5, xgb__min_samples_split=4, xgb__n_estimators=100 \n",
      "[CV]  xgb__learning_rate=0.1, xgb__max_depth=5, xgb__min_samples_split=4, xgb__n_estimators=100, score=0.812, total=  57.3s\n",
      "[Parallel(n_jobs=1)]: Done  18 out of  18 | elapsed: 13.1min remaining:    0.0s\n",
      "[CV] xgb__learning_rate=0.1, xgb__max_depth=5, xgb__min_samples_split=4, xgb__n_estimators=100 \n",
      "[CV]  xgb__learning_rate=0.1, xgb__max_depth=5, xgb__min_samples_split=4, xgb__n_estimators=100, score=0.777, total=  57.5s\n",
      "[Parallel(n_jobs=1)]: Done  19 out of  19 | elapsed: 14.1min remaining:    0.0s\n",
      "[CV] xgb__learning_rate=0.1, xgb__max_depth=5, xgb__min_samples_split=4, xgb__n_estimators=100 \n",
      "[CV]  xgb__learning_rate=0.1, xgb__max_depth=5, xgb__min_samples_split=4, xgb__n_estimators=100, score=0.757, total=  57.4s\n",
      "[Parallel(n_jobs=1)]: Done  20 out of  20 | elapsed: 15.0min remaining:    0.0s\n",
      "[CV] xgb__learning_rate=0.2, xgb__max_depth=3, xgb__min_samples_split=2, xgb__n_estimators=100 \n",
      "[CV]  xgb__learning_rate=0.2, xgb__max_depth=3, xgb__min_samples_split=2, xgb__n_estimators=100, score=0.734, total=  32.6s\n",
      "[Parallel(n_jobs=1)]: Done  21 out of  21 | elapsed: 15.6min remaining:    0.0s\n",
      "[CV] xgb__learning_rate=0.2, xgb__max_depth=3, xgb__min_samples_split=2, xgb__n_estimators=100 \n",
      "[CV]  xgb__learning_rate=0.2, xgb__max_depth=3, xgb__min_samples_split=2, xgb__n_estimators=100, score=0.732, total=  32.4s\n",
      "[Parallel(n_jobs=1)]: Done  22 out of  22 | elapsed: 16.1min remaining:    0.0s\n",
      "[CV] xgb__learning_rate=0.2, xgb__max_depth=3, xgb__min_samples_split=2, xgb__n_estimators=100 \n",
      "[CV]  xgb__learning_rate=0.2, xgb__max_depth=3, xgb__min_samples_split=2, xgb__n_estimators=100, score=0.799, total=  32.7s\n",
      "[Parallel(n_jobs=1)]: Done  23 out of  23 | elapsed: 16.6min remaining:    0.0s\n",
      "[CV] xgb__learning_rate=0.2, xgb__max_depth=3, xgb__min_samples_split=2, xgb__n_estimators=100 \n",
      "[CV]  xgb__learning_rate=0.2, xgb__max_depth=3, xgb__min_samples_split=2, xgb__n_estimators=100, score=0.791, total=  32.3s\n",
      "[Parallel(n_jobs=1)]: Done  24 out of  24 | elapsed: 17.2min remaining:    0.0s\n",
      "[CV] xgb__learning_rate=0.2, xgb__max_depth=3, xgb__min_samples_split=2, xgb__n_estimators=100 \n",
      "[CV]  xgb__learning_rate=0.2, xgb__max_depth=3, xgb__min_samples_split=2, xgb__n_estimators=100, score=0.762, total=  32.0s\n",
      "[Parallel(n_jobs=1)]: Done  25 out of  25 | elapsed: 17.7min remaining:    0.0s\n",
      "[CV] xgb__learning_rate=0.2, xgb__max_depth=3, xgb__min_samples_split=4, xgb__n_estimators=100 \n",
      "[CV]  xgb__learning_rate=0.2, xgb__max_depth=3, xgb__min_samples_split=4, xgb__n_estimators=100, score=0.729, total=  32.4s\n",
      "[Parallel(n_jobs=1)]: Done  26 out of  26 | elapsed: 18.3min remaining:    0.0s\n",
      "[CV] xgb__learning_rate=0.2, xgb__max_depth=3, xgb__min_samples_split=4, xgb__n_estimators=100 \n",
      "[CV]  xgb__learning_rate=0.2, xgb__max_depth=3, xgb__min_samples_split=4, xgb__n_estimators=100, score=0.736, total=  32.0s\n",
      "[Parallel(n_jobs=1)]: Done  27 out of  27 | elapsed: 18.8min remaining:    0.0s\n",
      "[CV] xgb__learning_rate=0.2, xgb__max_depth=3, xgb__min_samples_split=4, xgb__n_estimators=100 \n",
      "[CV]  xgb__learning_rate=0.2, xgb__max_depth=3, xgb__min_samples_split=4, xgb__n_estimators=100, score=0.814, total=  32.1s\n",
      "[Parallel(n_jobs=1)]: Done  28 out of  28 | elapsed: 19.3min remaining:    0.0s\n",
      "[CV] xgb__learning_rate=0.2, xgb__max_depth=3, xgb__min_samples_split=4, xgb__n_estimators=100 \n",
      "[CV]  xgb__learning_rate=0.2, xgb__max_depth=3, xgb__min_samples_split=4, xgb__n_estimators=100, score=0.782, total=  32.3s\n",
      "[Parallel(n_jobs=1)]: Done  29 out of  29 | elapsed: 19.9min remaining:    0.0s\n",
      "[CV] xgb__learning_rate=0.2, xgb__max_depth=3, xgb__min_samples_split=4, xgb__n_estimators=100 \n",
      "[CV]  xgb__learning_rate=0.2, xgb__max_depth=3, xgb__min_samples_split=4, xgb__n_estimators=100, score=0.762, total=  32.1s\n",
      "[Parallel(n_jobs=1)]: Done  30 out of  30 | elapsed: 20.4min remaining:    0.0s\n",
      "[CV] xgb__learning_rate=0.2, xgb__max_depth=5, xgb__min_samples_split=2, xgb__n_estimators=100 \n",
      "[CV]  xgb__learning_rate=0.2, xgb__max_depth=5, xgb__min_samples_split=2, xgb__n_estimators=100, score=0.726, total=  57.0s\n",
      "[Parallel(n_jobs=1)]: Done  31 out of  31 | elapsed: 21.3min remaining:    0.0s\n",
      "[CV] xgb__learning_rate=0.2, xgb__max_depth=5, xgb__min_samples_split=2, xgb__n_estimators=100 \n",
      "[CV]  xgb__learning_rate=0.2, xgb__max_depth=5, xgb__min_samples_split=2, xgb__n_estimators=100, score=0.752, total=  57.0s\n",
      "[Parallel(n_jobs=1)]: Done  32 out of  32 | elapsed: 22.3min remaining:    0.0s\n",
      "[CV] xgb__learning_rate=0.2, xgb__max_depth=5, xgb__min_samples_split=2, xgb__n_estimators=100 \n",
      "[CV]  xgb__learning_rate=0.2, xgb__max_depth=5, xgb__min_samples_split=2, xgb__n_estimators=100, score=0.792, total=  57.0s\n",
      "[Parallel(n_jobs=1)]: Done  33 out of  33 | elapsed: 23.2min remaining:    0.0s\n",
      "[CV] xgb__learning_rate=0.2, xgb__max_depth=5, xgb__min_samples_split=2, xgb__n_estimators=100 \n",
      "[CV]  xgb__learning_rate=0.2, xgb__max_depth=5, xgb__min_samples_split=2, xgb__n_estimators=100, score=0.773, total=  56.8s\n",
      "[Parallel(n_jobs=1)]: Done  34 out of  34 | elapsed: 24.2min remaining:    0.0s\n",
      "[CV] xgb__learning_rate=0.2, xgb__max_depth=5, xgb__min_samples_split=2, xgb__n_estimators=100 \n",
      "[CV]  xgb__learning_rate=0.2, xgb__max_depth=5, xgb__min_samples_split=2, xgb__n_estimators=100, score=0.752, total=  56.2s\n",
      "[Parallel(n_jobs=1)]: Done  35 out of  35 | elapsed: 25.1min remaining:    0.0s\n",
      "[CV] xgb__learning_rate=0.2, xgb__max_depth=5, xgb__min_samples_split=4, xgb__n_estimators=100 \n",
      "[CV]  xgb__learning_rate=0.2, xgb__max_depth=5, xgb__min_samples_split=4, xgb__n_estimators=100, score=0.747, total=  55.4s\n",
      "[Parallel(n_jobs=1)]: Done  36 out of  36 | elapsed: 26.1min remaining:    0.0s\n",
      "[CV] xgb__learning_rate=0.2, xgb__max_depth=5, xgb__min_samples_split=4, xgb__n_estimators=100 \n",
      "[CV]  xgb__learning_rate=0.2, xgb__max_depth=5, xgb__min_samples_split=4, xgb__n_estimators=100, score=0.729, total=  56.1s\n",
      "[Parallel(n_jobs=1)]: Done  37 out of  37 | elapsed: 27.0min remaining:    0.0s\n",
      "[CV] xgb__learning_rate=0.2, xgb__max_depth=5, xgb__min_samples_split=4, xgb__n_estimators=100 \n",
      "[CV]  xgb__learning_rate=0.2, xgb__max_depth=5, xgb__min_samples_split=4, xgb__n_estimators=100, score=0.814, total=  56.3s\n",
      "[Parallel(n_jobs=1)]: Done  38 out of  38 | elapsed: 27.9min remaining:    0.0s\n",
      "[CV] xgb__learning_rate=0.2, xgb__max_depth=5, xgb__min_samples_split=4, xgb__n_estimators=100 \n",
      "[CV]  xgb__learning_rate=0.2, xgb__max_depth=5, xgb__min_samples_split=4, xgb__n_estimators=100, score=0.766, total=  57.2s\n",
      "[Parallel(n_jobs=1)]: Done  39 out of  39 | elapsed: 28.9min remaining:    0.0s\n",
      "[CV] xgb__learning_rate=0.2, xgb__max_depth=5, xgb__min_samples_split=4, xgb__n_estimators=100 \n",
      "[CV]  xgb__learning_rate=0.2, xgb__max_depth=5, xgb__min_samples_split=4, xgb__n_estimators=100, score=0.746, total=  58.6s\n",
      "[Parallel(n_jobs=1)]: Done  40 out of  40 | elapsed: 29.9min remaining:    0.0s\n",
      "[Parallel(n_jobs=1)]: Done  40 out of  40 | elapsed: 29.9min finished\n"
     ]
    },
    {
     "data": {
      "text/plain": [
       "GridSearchCV(estimator=Pipeline(steps=[('xgb',\n",
       "                                        GradientBoostingClassifier(random_state=42))]),\n",
       "             param_grid={'xgb__learning_rate': [0.1, 0.2],\n",
       "                         'xgb__max_depth': [3, 5],\n",
       "                         'xgb__min_samples_split': [2, 4],\n",
       "                         'xgb__n_estimators': [100]},\n",
       "             scoring='roc_auc', verbose=50)"
      ]
     },
     "execution_count": 214,
     "metadata": {},
     "output_type": "execute_result"
    }
   ],
   "source": [
    "#initialize with GradientBoostingClassifier\n",
    "xgb_pipeline = Pipeline([\n",
    "    ('xgb', GradientBoostingClassifier(random_state=42))\n",
    "])\n",
    "\n",
    "parameters = {'xgb__learning_rate': [0.1, 0.2], 'xgb__n_estimators': [100],\n",
    "             'xgb__max_depth': [3, 5], 'xgb__min_samples_split': [2,4]}        \n",
    "        \n",
    "grid_obj = GridSearchCV(gbc_pipeline, parameters, scoring = 'roc_auc', verbose=50)\n",
    "\n",
    "# Fit the grid search object to the training data and find the optimal parameters\n",
    "grid_obj.fit(X, y)"
   ]
  },
  {
   "cell_type": "code",
   "execution_count": 215,
   "metadata": {},
   "outputs": [
    {
     "name": "stdout",
     "output_type": "stream",
     "text": [
      "{'xgb__learning_rate': 0.1, 'xgb__max_depth': 3, 'xgb__min_samples_split': 4, 'xgb__n_estimators': 100}\n",
      "ROC score: 0.9361\n",
      "Final ROC score: 0.9378\n"
     ]
    }
   ],
   "source": [
    "# Taking the evaluetd estimator to predict \n",
    "print(grid_obj.best_params_)\n",
    "best_clf = grid_obj.best_estimator_\n",
    "best_predictions = best_clf.predict_proba(X)[:,1]\n",
    "\n",
    "# Doin the prediction on the train dataset with optimized parameters\n",
    "predictions = (xgb_pipeline.fit(X, y)).predict_proba(X)[:,1]\n",
    "\n",
    "print(\"ROC score: {:.4f}\".format(roc_auc_score(y, predictions)))\n",
    "print(\"Final ROC score: {:.4f}\".format(roc_auc_score(y, best_predictions)))\n",
    "\n"
   ]
  },
  {
   "cell_type": "markdown",
   "metadata": {},
   "source": [
    "This makes quite an improvement to letting the model run withot parameter tuning where it ran into overfitting. (\n",
    "It also outperformes the \"naive\" XGB model that uses oversampling by a great margin. The old version on rebalacned data"
   ]
  },
  {
   "cell_type": "code",
   "execution_count": 486,
   "metadata": {},
   "outputs": [],
   "source": [
    "# store file in the WD\n",
    "filename = \"unbalanced_xgb_model.pkl\"  \n",
    "with open(filename, 'wb') as file:  \n",
    "    pickle.dump(best_clf, file)"
   ]
  },
  {
   "cell_type": "markdown",
   "metadata": {},
   "source": [
    "### Using GridSearch to imporve the model without oversampling"
   ]
  },
  {
   "cell_type": "code",
   "execution_count": 489,
   "metadata": {},
   "outputs": [],
   "source": [
    "X = X_train_os\n",
    "y = y_train_os"
   ]
  },
  {
   "cell_type": "code",
   "execution_count": 490,
   "metadata": {
    "collapsed": true,
    "jupyter": {
     "outputs_hidden": true
    }
   },
   "outputs": [
    {
     "name": "stdout",
     "output_type": "stream",
     "text": [
      "Fitting 5 folds for each of 8 candidates, totalling 40 fits\n",
      "[Parallel(n_jobs=1)]: Using backend SequentialBackend with 1 concurrent workers.\n",
      "[CV] xgb__learning_rate=0.1, xgb__max_depth=3, xgb__min_samples_split=2, xgb__n_estimators=100 \n",
      "[CV]  xgb__learning_rate=0.1, xgb__max_depth=3, xgb__min_samples_split=2, xgb__n_estimators=100, score=0.965, total= 1.3min\n",
      "[Parallel(n_jobs=1)]: Done   1 out of   1 | elapsed:  1.3min remaining:    0.0s\n",
      "[CV] xgb__learning_rate=0.1, xgb__max_depth=3, xgb__min_samples_split=2, xgb__n_estimators=100 \n",
      "[CV]  xgb__learning_rate=0.1, xgb__max_depth=3, xgb__min_samples_split=2, xgb__n_estimators=100, score=1.000, total= 1.2min\n",
      "[Parallel(n_jobs=1)]: Done   2 out of   2 | elapsed:  2.5min remaining:    0.0s\n",
      "[CV] xgb__learning_rate=0.1, xgb__max_depth=3, xgb__min_samples_split=2, xgb__n_estimators=100 \n",
      "[CV]  xgb__learning_rate=0.1, xgb__max_depth=3, xgb__min_samples_split=2, xgb__n_estimators=100, score=1.000, total= 1.3min\n",
      "[Parallel(n_jobs=1)]: Done   3 out of   3 | elapsed:  3.7min remaining:    0.0s\n",
      "[CV] xgb__learning_rate=0.1, xgb__max_depth=3, xgb__min_samples_split=2, xgb__n_estimators=100 \n",
      "[CV]  xgb__learning_rate=0.1, xgb__max_depth=3, xgb__min_samples_split=2, xgb__n_estimators=100, score=1.000, total= 1.2min\n",
      "[Parallel(n_jobs=1)]: Done   4 out of   4 | elapsed:  5.0min remaining:    0.0s\n",
      "[CV] xgb__learning_rate=0.1, xgb__max_depth=3, xgb__min_samples_split=2, xgb__n_estimators=100 \n",
      "[CV]  xgb__learning_rate=0.1, xgb__max_depth=3, xgb__min_samples_split=2, xgb__n_estimators=100, score=1.000, total= 1.3min\n",
      "[Parallel(n_jobs=1)]: Done   5 out of   5 | elapsed:  6.2min remaining:    0.0s\n",
      "[CV] xgb__learning_rate=0.1, xgb__max_depth=3, xgb__min_samples_split=4, xgb__n_estimators=100 \n",
      "[CV]  xgb__learning_rate=0.1, xgb__max_depth=3, xgb__min_samples_split=4, xgb__n_estimators=100, score=0.965, total= 1.2min\n",
      "[Parallel(n_jobs=1)]: Done   6 out of   6 | elapsed:  7.5min remaining:    0.0s\n",
      "[CV] xgb__learning_rate=0.1, xgb__max_depth=3, xgb__min_samples_split=4, xgb__n_estimators=100 \n",
      "[CV]  xgb__learning_rate=0.1, xgb__max_depth=3, xgb__min_samples_split=4, xgb__n_estimators=100, score=1.000, total= 1.2min\n",
      "[Parallel(n_jobs=1)]: Done   7 out of   7 | elapsed:  8.7min remaining:    0.0s\n",
      "[CV] xgb__learning_rate=0.1, xgb__max_depth=3, xgb__min_samples_split=4, xgb__n_estimators=100 \n",
      "[CV]  xgb__learning_rate=0.1, xgb__max_depth=3, xgb__min_samples_split=4, xgb__n_estimators=100, score=1.000, total= 1.2min\n",
      "[Parallel(n_jobs=1)]: Done   8 out of   8 | elapsed:  9.9min remaining:    0.0s\n",
      "[CV] xgb__learning_rate=0.1, xgb__max_depth=3, xgb__min_samples_split=4, xgb__n_estimators=100 \n",
      "[CV]  xgb__learning_rate=0.1, xgb__max_depth=3, xgb__min_samples_split=4, xgb__n_estimators=100, score=1.000, total= 1.2min\n",
      "[Parallel(n_jobs=1)]: Done   9 out of   9 | elapsed: 11.1min remaining:    0.0s\n",
      "[CV] xgb__learning_rate=0.1, xgb__max_depth=3, xgb__min_samples_split=4, xgb__n_estimators=100 \n",
      "[CV]  xgb__learning_rate=0.1, xgb__max_depth=3, xgb__min_samples_split=4, xgb__n_estimators=100, score=1.000, total= 1.2min\n",
      "[Parallel(n_jobs=1)]: Done  10 out of  10 | elapsed: 12.3min remaining:    0.0s\n",
      "[CV] xgb__learning_rate=0.1, xgb__max_depth=5, xgb__min_samples_split=2, xgb__n_estimators=100 \n",
      "[CV]  xgb__learning_rate=0.1, xgb__max_depth=5, xgb__min_samples_split=2, xgb__n_estimators=100, score=0.970, total= 2.1min\n",
      "[Parallel(n_jobs=1)]: Done  11 out of  11 | elapsed: 14.5min remaining:    0.0s\n",
      "[CV] xgb__learning_rate=0.1, xgb__max_depth=5, xgb__min_samples_split=2, xgb__n_estimators=100 \n",
      "[CV]  xgb__learning_rate=0.1, xgb__max_depth=5, xgb__min_samples_split=2, xgb__n_estimators=100, score=1.000, total= 2.1min\n",
      "[Parallel(n_jobs=1)]: Done  12 out of  12 | elapsed: 16.6min remaining:    0.0s\n",
      "[CV] xgb__learning_rate=0.1, xgb__max_depth=5, xgb__min_samples_split=2, xgb__n_estimators=100 \n",
      "[CV]  xgb__learning_rate=0.1, xgb__max_depth=5, xgb__min_samples_split=2, xgb__n_estimators=100, score=1.000, total= 2.1min\n",
      "[Parallel(n_jobs=1)]: Done  13 out of  13 | elapsed: 18.7min remaining:    0.0s\n",
      "[CV] xgb__learning_rate=0.1, xgb__max_depth=5, xgb__min_samples_split=2, xgb__n_estimators=100 \n",
      "[CV]  xgb__learning_rate=0.1, xgb__max_depth=5, xgb__min_samples_split=2, xgb__n_estimators=100, score=1.000, total= 2.1min\n",
      "[Parallel(n_jobs=1)]: Done  14 out of  14 | elapsed: 20.8min remaining:    0.0s\n",
      "[CV] xgb__learning_rate=0.1, xgb__max_depth=5, xgb__min_samples_split=2, xgb__n_estimators=100 \n",
      "[CV]  xgb__learning_rate=0.1, xgb__max_depth=5, xgb__min_samples_split=2, xgb__n_estimators=100, score=1.000, total= 2.1min\n",
      "[Parallel(n_jobs=1)]: Done  15 out of  15 | elapsed: 22.8min remaining:    0.0s\n",
      "[CV] xgb__learning_rate=0.1, xgb__max_depth=5, xgb__min_samples_split=4, xgb__n_estimators=100 \n",
      "[CV]  xgb__learning_rate=0.1, xgb__max_depth=5, xgb__min_samples_split=4, xgb__n_estimators=100, score=0.970, total= 2.1min\n",
      "[Parallel(n_jobs=1)]: Done  16 out of  16 | elapsed: 25.0min remaining:    0.0s\n",
      "[CV] xgb__learning_rate=0.1, xgb__max_depth=5, xgb__min_samples_split=4, xgb__n_estimators=100 \n",
      "[CV]  xgb__learning_rate=0.1, xgb__max_depth=5, xgb__min_samples_split=4, xgb__n_estimators=100, score=1.000, total= 2.1min\n",
      "[Parallel(n_jobs=1)]: Done  17 out of  17 | elapsed: 27.1min remaining:    0.0s\n",
      "[CV] xgb__learning_rate=0.1, xgb__max_depth=5, xgb__min_samples_split=4, xgb__n_estimators=100 \n",
      "[CV]  xgb__learning_rate=0.1, xgb__max_depth=5, xgb__min_samples_split=4, xgb__n_estimators=100, score=1.000, total= 2.1min\n",
      "[Parallel(n_jobs=1)]: Done  18 out of  18 | elapsed: 29.2min remaining:    0.0s\n",
      "[CV] xgb__learning_rate=0.1, xgb__max_depth=5, xgb__min_samples_split=4, xgb__n_estimators=100 \n",
      "[CV]  xgb__learning_rate=0.1, xgb__max_depth=5, xgb__min_samples_split=4, xgb__n_estimators=100, score=1.000, total= 2.1min\n",
      "[Parallel(n_jobs=1)]: Done  19 out of  19 | elapsed: 31.3min remaining:    0.0s\n",
      "[CV] xgb__learning_rate=0.1, xgb__max_depth=5, xgb__min_samples_split=4, xgb__n_estimators=100 \n",
      "[CV]  xgb__learning_rate=0.1, xgb__max_depth=5, xgb__min_samples_split=4, xgb__n_estimators=100, score=1.000, total= 2.1min\n",
      "[Parallel(n_jobs=1)]: Done  20 out of  20 | elapsed: 33.4min remaining:    0.0s\n",
      "[CV] xgb__learning_rate=0.2, xgb__max_depth=3, xgb__min_samples_split=2, xgb__n_estimators=100 \n",
      "[CV]  xgb__learning_rate=0.2, xgb__max_depth=3, xgb__min_samples_split=2, xgb__n_estimators=100, score=0.963, total= 1.3min\n",
      "[Parallel(n_jobs=1)]: Done  21 out of  21 | elapsed: 34.6min remaining:    0.0s\n",
      "[CV] xgb__learning_rate=0.2, xgb__max_depth=3, xgb__min_samples_split=2, xgb__n_estimators=100 \n",
      "[CV]  xgb__learning_rate=0.2, xgb__max_depth=3, xgb__min_samples_split=2, xgb__n_estimators=100, score=1.000, total= 1.2min\n",
      "[Parallel(n_jobs=1)]: Done  22 out of  22 | elapsed: 35.9min remaining:    0.0s\n",
      "[CV] xgb__learning_rate=0.2, xgb__max_depth=3, xgb__min_samples_split=2, xgb__n_estimators=100 \n",
      "[CV]  xgb__learning_rate=0.2, xgb__max_depth=3, xgb__min_samples_split=2, xgb__n_estimators=100, score=1.000, total= 1.2min\n",
      "[Parallel(n_jobs=1)]: Done  23 out of  23 | elapsed: 37.1min remaining:    0.0s\n",
      "[CV] xgb__learning_rate=0.2, xgb__max_depth=3, xgb__min_samples_split=2, xgb__n_estimators=100 \n",
      "[CV]  xgb__learning_rate=0.2, xgb__max_depth=3, xgb__min_samples_split=2, xgb__n_estimators=100, score=0.999, total= 1.2min\n",
      "[Parallel(n_jobs=1)]: Done  24 out of  24 | elapsed: 38.3min remaining:    0.0s\n",
      "[CV] xgb__learning_rate=0.2, xgb__max_depth=3, xgb__min_samples_split=2, xgb__n_estimators=100 \n",
      "[CV]  xgb__learning_rate=0.2, xgb__max_depth=3, xgb__min_samples_split=2, xgb__n_estimators=100, score=1.000, total= 1.2min\n",
      "[Parallel(n_jobs=1)]: Done  25 out of  25 | elapsed: 39.5min remaining:    0.0s\n",
      "[CV] xgb__learning_rate=0.2, xgb__max_depth=3, xgb__min_samples_split=4, xgb__n_estimators=100 \n",
      "[CV]  xgb__learning_rate=0.2, xgb__max_depth=3, xgb__min_samples_split=4, xgb__n_estimators=100, score=0.963, total= 1.3min\n",
      "[Parallel(n_jobs=1)]: Done  26 out of  26 | elapsed: 40.8min remaining:    0.0s\n",
      "[CV] xgb__learning_rate=0.2, xgb__max_depth=3, xgb__min_samples_split=4, xgb__n_estimators=100 \n",
      "[CV]  xgb__learning_rate=0.2, xgb__max_depth=3, xgb__min_samples_split=4, xgb__n_estimators=100, score=0.999, total= 1.2min\n",
      "[Parallel(n_jobs=1)]: Done  27 out of  27 | elapsed: 42.0min remaining:    0.0s\n",
      "[CV] xgb__learning_rate=0.2, xgb__max_depth=3, xgb__min_samples_split=4, xgb__n_estimators=100 \n",
      "[CV]  xgb__learning_rate=0.2, xgb__max_depth=3, xgb__min_samples_split=4, xgb__n_estimators=100, score=1.000, total= 1.2min\n",
      "[Parallel(n_jobs=1)]: Done  28 out of  28 | elapsed: 43.3min remaining:    0.0s\n",
      "[CV] xgb__learning_rate=0.2, xgb__max_depth=3, xgb__min_samples_split=4, xgb__n_estimators=100 \n",
      "[CV]  xgb__learning_rate=0.2, xgb__max_depth=3, xgb__min_samples_split=4, xgb__n_estimators=100, score=1.000, total= 1.2min\n",
      "[Parallel(n_jobs=1)]: Done  29 out of  29 | elapsed: 44.5min remaining:    0.0s\n",
      "[CV] xgb__learning_rate=0.2, xgb__max_depth=3, xgb__min_samples_split=4, xgb__n_estimators=100 \n",
      "[CV]  xgb__learning_rate=0.2, xgb__max_depth=3, xgb__min_samples_split=4, xgb__n_estimators=100, score=0.999, total= 1.2min\n",
      "[Parallel(n_jobs=1)]: Done  30 out of  30 | elapsed: 45.7min remaining:    0.0s\n",
      "[CV] xgb__learning_rate=0.2, xgb__max_depth=5, xgb__min_samples_split=2, xgb__n_estimators=100 \n",
      "[CV]  xgb__learning_rate=0.2, xgb__max_depth=5, xgb__min_samples_split=2, xgb__n_estimators=100, score=0.969, total= 2.1min\n",
      "[Parallel(n_jobs=1)]: Done  31 out of  31 | elapsed: 47.9min remaining:    0.0s\n",
      "[CV] xgb__learning_rate=0.2, xgb__max_depth=5, xgb__min_samples_split=2, xgb__n_estimators=100 \n",
      "[CV]  xgb__learning_rate=0.2, xgb__max_depth=5, xgb__min_samples_split=2, xgb__n_estimators=100, score=1.000, total= 2.1min\n",
      "[Parallel(n_jobs=1)]: Done  32 out of  32 | elapsed: 49.9min remaining:    0.0s\n",
      "[CV] xgb__learning_rate=0.2, xgb__max_depth=5, xgb__min_samples_split=2, xgb__n_estimators=100 \n",
      "[CV]  xgb__learning_rate=0.2, xgb__max_depth=5, xgb__min_samples_split=2, xgb__n_estimators=100, score=1.000, total= 2.1min\n",
      "[Parallel(n_jobs=1)]: Done  33 out of  33 | elapsed: 52.0min remaining:    0.0s\n",
      "[CV] xgb__learning_rate=0.2, xgb__max_depth=5, xgb__min_samples_split=2, xgb__n_estimators=100 \n",
      "[CV]  xgb__learning_rate=0.2, xgb__max_depth=5, xgb__min_samples_split=2, xgb__n_estimators=100, score=1.000, total= 2.1min\n",
      "[Parallel(n_jobs=1)]: Done  34 out of  34 | elapsed: 54.1min remaining:    0.0s\n",
      "[CV] xgb__learning_rate=0.2, xgb__max_depth=5, xgb__min_samples_split=2, xgb__n_estimators=100 \n",
      "[CV]  xgb__learning_rate=0.2, xgb__max_depth=5, xgb__min_samples_split=2, xgb__n_estimators=100, score=0.999, total= 2.1min\n",
      "[Parallel(n_jobs=1)]: Done  35 out of  35 | elapsed: 56.2min remaining:    0.0s\n",
      "[CV] xgb__learning_rate=0.2, xgb__max_depth=5, xgb__min_samples_split=4, xgb__n_estimators=100 \n",
      "[CV]  xgb__learning_rate=0.2, xgb__max_depth=5, xgb__min_samples_split=4, xgb__n_estimators=100, score=0.969, total= 2.2min\n",
      "[Parallel(n_jobs=1)]: Done  36 out of  36 | elapsed: 58.4min remaining:    0.0s\n",
      "[CV] xgb__learning_rate=0.2, xgb__max_depth=5, xgb__min_samples_split=4, xgb__n_estimators=100 \n",
      "[CV]  xgb__learning_rate=0.2, xgb__max_depth=5, xgb__min_samples_split=4, xgb__n_estimators=100, score=0.999, total= 2.1min\n",
      "[Parallel(n_jobs=1)]: Done  37 out of  37 | elapsed: 60.5min remaining:    0.0s\n",
      "[CV] xgb__learning_rate=0.2, xgb__max_depth=5, xgb__min_samples_split=4, xgb__n_estimators=100 \n",
      "[CV]  xgb__learning_rate=0.2, xgb__max_depth=5, xgb__min_samples_split=4, xgb__n_estimators=100, score=1.000, total= 2.1min\n",
      "[Parallel(n_jobs=1)]: Done  38 out of  38 | elapsed: 62.6min remaining:    0.0s\n",
      "[CV] xgb__learning_rate=0.2, xgb__max_depth=5, xgb__min_samples_split=4, xgb__n_estimators=100 \n",
      "[CV]  xgb__learning_rate=0.2, xgb__max_depth=5, xgb__min_samples_split=4, xgb__n_estimators=100, score=1.000, total= 2.1min\n",
      "[Parallel(n_jobs=1)]: Done  39 out of  39 | elapsed: 64.7min remaining:    0.0s\n",
      "[CV] xgb__learning_rate=0.2, xgb__max_depth=5, xgb__min_samples_split=4, xgb__n_estimators=100 \n",
      "[CV]  xgb__learning_rate=0.2, xgb__max_depth=5, xgb__min_samples_split=4, xgb__n_estimators=100, score=0.999, total= 2.1min\n",
      "[Parallel(n_jobs=1)]: Done  40 out of  40 | elapsed: 66.8min remaining:    0.0s\n",
      "[Parallel(n_jobs=1)]: Done  40 out of  40 | elapsed: 66.8min finished\n"
     ]
    },
    {
     "data": {
      "text/plain": [
       "GridSearchCV(estimator=Pipeline(steps=[('xgb',\n",
       "                                        GradientBoostingClassifier(random_state=42))]),\n",
       "             param_grid={'xgb__learning_rate': [0.1, 0.2],\n",
       "                         'xgb__max_depth': [3, 5],\n",
       "                         'xgb__min_samples_split': [2, 4],\n",
       "                         'xgb__n_estimators': [100]},\n",
       "             scoring='roc_auc', verbose=50)"
      ]
     },
     "execution_count": 490,
     "metadata": {},
     "output_type": "execute_result"
    }
   ],
   "source": [
    "#initialize with GradientBoostingClassifier\n",
    "xgb_pipeline = Pipeline([\n",
    "    ('xgb', GradientBoostingClassifier(random_state=42))\n",
    "])\n",
    "\n",
    "parameters = {'xgb__learning_rate': [0.1, 0.2], 'xgb__n_estimators': [100],\n",
    "             'xgb__max_depth': [3, 5], 'xgb__min_samples_split': [2,4]}        \n",
    "        \n",
    "grid_obj = GridSearchCV(gbc_pipeline, parameters, scoring = 'roc_auc', verbose=50)\n",
    "\n",
    "# Fit the grid search object to the training data and find the optimal parameters\n",
    "grid_obj.fit(X, y)"
   ]
  },
  {
   "cell_type": "code",
   "execution_count": 491,
   "metadata": {},
   "outputs": [
    {
     "name": "stdout",
     "output_type": "stream",
     "text": [
      "{'xgb__learning_rate': 0.1, 'xgb__max_depth': 5, 'xgb__min_samples_split': 4, 'xgb__n_estimators': 100}\n",
      "ROC score: 0.9944\n",
      "Final ROC score: 0.9990\n"
     ]
    }
   ],
   "source": [
    "# Taking the evaluetd estimator to predict \n",
    "print(grid_obj.best_params_)\n",
    "best_clf = grid_obj.best_estimator_\n",
    "best_predictions = best_clf.predict_proba(X)[:,1]\n",
    "\n",
    "# Doin the prediction on the train dataset with optimized parameters\n",
    "predictions = (xgb_pipeline.fit(X, y)).predict_proba(X)[:,1]\n",
    "\n",
    "print(\"ROC score: {:.4f}\".format(roc_auc_score(y, predictions)))\n",
    "print(\"Final ROC score: {:.4f}\".format(roc_auc_score(y, best_predictions)))\n",
    "\n"
   ]
  },
  {
   "cell_type": "markdown",
   "metadata": {},
   "source": [
    "Even tough the high ROC-Score comes from the diffrent distribution of the training sets this model scores best in the Kaggle challenge with a AUC score of 0.77130 wich is an improvment of 0.02848 points. "
   ]
  },
  {
   "cell_type": "code",
   "execution_count": 495,
   "metadata": {},
   "outputs": [],
   "source": [
    "# store file in the WD\n",
    "filename = \"oversampling_xgb_model.pkl\"  \n",
    "with open(filename, 'wb') as file:  \n",
    "    pickle.dump(best_clf, file)"
   ]
  },
  {
   "cell_type": "markdown",
   "metadata": {},
   "source": [
    "## Part 3: Kaggle Competition\n",
    "\n",
    "Now that you've created a model to predict which individuals are most likely to respond to a mailout campaign, it's time to test that model in competition through Kaggle. If you click on the link [here](http://www.kaggle.com/t/21e6d45d4c574c7fa2d868f0e8c83140), you'll be taken to the competition page where, if you have a Kaggle account, you can enter. If you're one of the top performers, you may have the chance to be contacted by a hiring manager from Arvato or Bertelsmann for an interview!\n",
    "\n",
    "Your entry to the competition should be a CSV file with two columns. The first column should be a copy of \"LNR\", which acts as an ID number for each individual in the \"TEST\" partition. The second column, \"RESPONSE\", should be some measure of how likely each individual became a customer – this might not be a straightforward probability. As you should have found in Part 2, there is a large output class imbalance, where most individuals did not respond to the mailout. Thus, predicting individual classes and using accuracy does not seem to be an appropriate performance evaluation method. Instead, the competition will be using AUC to evaluate performance. The exact values of the \"RESPONSE\" column do not matter as much: only that the higher values try to capture as many of the actual customers as possible, early in the ROC curve sweep."
   ]
  },
  {
   "cell_type": "markdown",
   "metadata": {},
   "source": [
    "### 3.1 Score data"
   ]
  },
  {
   "cell_type": "code",
   "execution_count": 496,
   "metadata": {
    "collapsed": true,
    "jupyter": {
     "outputs_hidden": true
    }
   },
   "outputs": [
    {
     "name": "stdout",
     "output_type": "stream",
     "text": [
      "Column  CUSTOMER_GROUP  was not in the df.\n",
      "Column  ONLINE_PURCHASE  was not in the df.\n",
      "Column  PRODUCT_GROUP  was not in the df.\n",
      "LNR is keept for scoring\n",
      "===============Changing the Unkown Data to NaNs======================\n",
      "=====================================================================\n",
      "============Remiving Columns and Rows with to many NaNs==============\n",
      "---------Remove columns with more than 50% missings------------\n",
      "The shape of the old dataframe: (42833, 366)\n",
      "The shape of the new dataframe: (42833, 312)\n",
      "54 columns have been removed from the dataframe.\n",
      "----------------------------------------------------------------\n",
      "---------Remove rows with more than 100% missings------------\n",
      "The shape of the old dataframe: (42833, 312)\n",
      "The shape of the new dataframe: (42833, 312)\n",
      "0 rows have been removed from the dataframe.\n",
      "====================Data Imputation================================\n",
      "Col D19_BANKEN_DATUM no in the df anymore.\n",
      "Col D19_BANKEN_OFFLINE_DATUM no in the df anymore.\n",
      "Col D19_BANKEN_ONLINE_DATUM no in the df anymore.\n",
      "Col D19_TELKO_DATUM no in the df anymore.\n",
      "Col D19_TELKO_OFFLINE_DATUM no in the df anymore.\n",
      "Col D19_TELKO_ONLINE_DATUM no in the df anymore.\n",
      "Col D19_VERSAND_ONLINE_DATUM no in the df anymore.\n",
      "Imputing 10er Values is done.\n",
      "Imputing 9er Values is done.\n",
      "Imputing Mean Values is done. \n",
      "Imputing most frequent values is done.\n",
      "The rest of the columns are imputed with a zero. \n",
      "=====================================================================\n",
      "Index(['CAMEO_DEU_2015', 'CAMEO_DEUG_2015', 'CAMEO_INTL_2015',\n",
      "       'D19_LETZTER_KAUF_BRANCHE', 'EINGEFUEGT_AM', 'OST_WEST_KZ'],\n",
      "      dtype='object')\n",
      "Encode: CAMEO_DEU_2015\n",
      "Encode: CAMEO_DEUG_2015\n",
      "Encode: CAMEO_INTL_2015\n",
      "Encode: D19_LETZTER_KAUF_BRANCHE\n",
      "Column  EINGEFUEGT_AM  not found.\n",
      "Encode: OST_WEST_KZ\n"
     ]
    }
   ],
   "source": [
    "#loading the score data with score_mode = True so that no rows will be deleted in the preprocessing\n",
    "Scoring_Data = data_load_and_prep('data/Udacity_MAILOUT_052018_TEST.csv', score_mode = True)"
   ]
  },
  {
   "cell_type": "code",
   "execution_count": 497,
   "metadata": {},
   "outputs": [],
   "source": [
    "# Extract LNR from the data and store into variable\n",
    "lnr = Scoring_Data['LNR']\n",
    "X_test = Scoring_Data.drop(['LNR'],axis = 1)"
   ]
  },
  {
   "cell_type": "code",
   "execution_count": 498,
   "metadata": {},
   "outputs": [],
   "source": [
    "#apply the trained model to the test data \n",
    "y_test_est = best_clf.predict_proba(X_test)"
   ]
  },
  {
   "cell_type": "code",
   "execution_count": 499,
   "metadata": {},
   "outputs": [],
   "source": [
    "y_est = pd.Series(y_test_est[:,1])"
   ]
  },
  {
   "cell_type": "code",
   "execution_count": 500,
   "metadata": {},
   "outputs": [
    {
     "data": {
      "text/html": [
       "<div>\n",
       "<style scoped>\n",
       "    .dataframe tbody tr th:only-of-type {\n",
       "        vertical-align: middle;\n",
       "    }\n",
       "\n",
       "    .dataframe tbody tr th {\n",
       "        vertical-align: top;\n",
       "    }\n",
       "\n",
       "    .dataframe thead th {\n",
       "        text-align: right;\n",
       "    }\n",
       "</style>\n",
       "<table border=\"1\" class=\"dataframe\">\n",
       "  <thead>\n",
       "    <tr style=\"text-align: right;\">\n",
       "      <th></th>\n",
       "      <th>LNR</th>\n",
       "      <th>Unnamed 0</th>\n",
       "    </tr>\n",
       "  </thead>\n",
       "  <tbody>\n",
       "    <tr>\n",
       "      <th>0</th>\n",
       "      <td>1754.0</td>\n",
       "      <td>0.041133</td>\n",
       "    </tr>\n",
       "    <tr>\n",
       "      <th>1</th>\n",
       "      <td>1770.0</td>\n",
       "      <td>0.022301</td>\n",
       "    </tr>\n",
       "    <tr>\n",
       "      <th>2</th>\n",
       "      <td>1465.0</td>\n",
       "      <td>0.005921</td>\n",
       "    </tr>\n",
       "    <tr>\n",
       "      <th>3</th>\n",
       "      <td>1470.0</td>\n",
       "      <td>0.006973</td>\n",
       "    </tr>\n",
       "    <tr>\n",
       "      <th>4</th>\n",
       "      <td>1478.0</td>\n",
       "      <td>0.004128</td>\n",
       "    </tr>\n",
       "    <tr>\n",
       "      <th>...</th>\n",
       "      <td>...</td>\n",
       "      <td>...</td>\n",
       "    </tr>\n",
       "    <tr>\n",
       "      <th>42828</th>\n",
       "      <td>67615.0</td>\n",
       "      <td>0.015223</td>\n",
       "    </tr>\n",
       "    <tr>\n",
       "      <th>42829</th>\n",
       "      <td>67938.0</td>\n",
       "      <td>0.002410</td>\n",
       "    </tr>\n",
       "    <tr>\n",
       "      <th>42830</th>\n",
       "      <td>67942.0</td>\n",
       "      <td>0.027315</td>\n",
       "    </tr>\n",
       "    <tr>\n",
       "      <th>42831</th>\n",
       "      <td>67949.0</td>\n",
       "      <td>0.054999</td>\n",
       "    </tr>\n",
       "    <tr>\n",
       "      <th>42832</th>\n",
       "      <td>68898.0</td>\n",
       "      <td>0.032582</td>\n",
       "    </tr>\n",
       "  </tbody>\n",
       "</table>\n",
       "<p>42833 rows × 2 columns</p>\n",
       "</div>"
      ],
      "text/plain": [
       "           LNR  Unnamed 0\n",
       "0       1754.0   0.041133\n",
       "1       1770.0   0.022301\n",
       "2       1465.0   0.005921\n",
       "3       1470.0   0.006973\n",
       "4       1478.0   0.004128\n",
       "...        ...        ...\n",
       "42828  67615.0   0.015223\n",
       "42829  67938.0   0.002410\n",
       "42830  67942.0   0.027315\n",
       "42831  67949.0   0.054999\n",
       "42832  68898.0   0.032582\n",
       "\n",
       "[42833 rows x 2 columns]"
      ]
     },
     "execution_count": 500,
     "metadata": {},
     "output_type": "execute_result"
    }
   ],
   "source": [
    "result = pd.DataFrame(data = [lnr,y_est]).T\n",
    "result"
   ]
  },
  {
   "cell_type": "code",
   "execution_count": 501,
   "metadata": {},
   "outputs": [],
   "source": [
    "result = result.rename(columns={'Unnamed 0':'RESPONSE'})"
   ]
  },
  {
   "cell_type": "code",
   "execution_count": 502,
   "metadata": {},
   "outputs": [],
   "source": [
    "result['LNR'] = result['LNR'].astype(int)"
   ]
  },
  {
   "cell_type": "code",
   "execution_count": 503,
   "metadata": {},
   "outputs": [
    {
     "data": {
      "text/plain": [
       "LNR           int64\n",
       "RESPONSE    float64\n",
       "dtype: object"
      ]
     },
     "execution_count": 503,
     "metadata": {},
     "output_type": "execute_result"
    }
   ],
   "source": [
    "result.dtypes"
   ]
  },
  {
   "cell_type": "markdown",
   "metadata": {},
   "source": [
    "### 3.2 Export data to csv for Kaggle"
   ]
  },
  {
   "cell_type": "code",
   "execution_count": 504,
   "metadata": {},
   "outputs": [],
   "source": [
    "result.to_csv('predict_test.csv', index=False, sep=',', encoding='utf-8')"
   ]
  },
  {
   "cell_type": "markdown",
   "metadata": {},
   "source": [
    "Finally save notebook to HTML"
   ]
  },
  {
   "cell_type": "code",
   "execution_count": 516,
   "metadata": {},
   "outputs": [
    {
     "data": {
      "text/plain": [
       "0"
      ]
     },
     "execution_count": 516,
     "metadata": {},
     "output_type": "execute_result"
    }
   ],
   "source": [
    "from subprocess import call\n",
    "call(['python', '-m', 'nbconvert', 'Arvato_Project_Workbook.ipynb'])"
   ]
  },
  {
   "cell_type": "code",
   "execution_count": null,
   "metadata": {},
   "outputs": [],
   "source": []
  }
 ],
 "metadata": {
  "kernelspec": {
   "display_name": "Python 3",
   "language": "python",
   "name": "python3"
  },
  "language_info": {
   "codemirror_mode": {
    "name": "ipython",
    "version": 3
   },
   "file_extension": ".py",
   "mimetype": "text/x-python",
   "name": "python",
   "nbconvert_exporter": "python",
   "pygments_lexer": "ipython3",
   "version": "3.7.6"
  }
 },
 "nbformat": 4,
 "nbformat_minor": 4
}
